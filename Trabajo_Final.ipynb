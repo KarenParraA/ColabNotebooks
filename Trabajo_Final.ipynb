{
  "nbformat": 4,
  "nbformat_minor": 0,
  "metadata": {
    "colab": {
      "provenance": [],
      "authorship_tag": "ABX9TyOeuzeR+o3nk0K3nBmwUvrp",
      "include_colab_link": true
    },
    "kernelspec": {
      "name": "python3",
      "display_name": "Python 3"
    },
    "language_info": {
      "name": "python"
    }
  },
  "cells": [
    {
      "cell_type": "markdown",
      "metadata": {
        "id": "view-in-github",
        "colab_type": "text"
      },
      "source": [
        "<a href=\"https://colab.research.google.com/github/KarenParraA/ColabNotebooks/blob/main/Trabajo_Final.ipynb\" target=\"_parent\"><img src=\"https://colab.research.google.com/assets/colab-badge.svg\" alt=\"Open In Colab\"/></a>"
      ]
    },
    {
      "cell_type": "markdown",
      "source": [
        "#**Trabajo Final** \n",
        "\n",
        "Nombre: Karen Parra\n",
        "\n",
        "\n",
        "##Descripción: \n",
        "Base de datos sobre la calidad presente en varios vinos rojos de \"Viña verde\" en Portugal.\n",
        "\n",
        "Se tiene una variable dependiente la cual corresponde a Calidad. Y 10 variables independientes: acidez volatil, acido cítrico, azucar residual, cloruros, dioxido de azufre libre, dioxido de azufre total, densidad, ph, sulfatos y alcohol. \n",
        "\n",
        "\n",
        "##Objetivo\n",
        "\n",
        "Analizar una base de datos y determinar las variables mas influyentes en la calidad del vino."
      ],
      "metadata": {
        "id": "4ni9J8vYBNdP"
      }
    },
    {
      "cell_type": "markdown",
      "source": [
        "##Taller final \"Python-Introductorio\""
      ],
      "metadata": {
        "id": "KZeYmAFI0BWI"
      }
    },
    {
      "cell_type": "markdown",
      "source": [
        "**1.-\tMencionar posibles aplicaciones en el mundo real para el dataset utilizado.**"
      ],
      "metadata": {
        "id": "SVOGyfmxkLWi"
      }
    },
    {
      "cell_type": "markdown",
      "source": [
        "Actualmente, existen varios mecanismos para determinar la calidad de un vino, siendo la mayoria de estos mediante una forma subjetiva. Al poder recolectar la percepción de calidad del vino (variable dependiente) y compararla con sus caracteristicas físicas y químicas, se podría determinar la calidad de un vino mediante analisis de datos.\n",
        "\n",
        "Su aplicación en el futuro sería poder crear un algoritmo mediante entrenamiento, con lo cual al medir las caracteristicas físico químicas se pueda predecir su calidad y percepcion a los consumidores. Permitiendo así, a las empresas del sector una mejor innovación, competitividad y calidad de vino."
      ],
      "metadata": {
        "id": "gV4BV_tXkNut"
      }
    },
    {
      "cell_type": "code",
      "source": [
        "import numpy as np\n",
        "import pandas as pd\n",
        "import matplotlib.pyplot as plt\n",
        "import seaborn as sns\n",
        "from scipy import stats"
      ],
      "metadata": {
        "id": "WFk3cBHTc0cK"
      },
      "execution_count": null,
      "outputs": []
    },
    {
      "cell_type": "code",
      "source": [
        "from google.colab import drive\n",
        "drive.mount('/content/drive')"
      ],
      "metadata": {
        "colab": {
          "base_uri": "https://localhost:8080/"
        },
        "id": "gaoFFox2c7gX",
        "outputId": "29e103e0-6d5e-4c7e-c6ad-e355bdf5eaf1"
      },
      "execution_count": null,
      "outputs": [
        {
          "output_type": "stream",
          "name": "stdout",
          "text": [
            "Drive already mounted at /content/drive; to attempt to forcibly remount, call drive.mount(\"/content/drive\", force_remount=True).\n"
          ]
        }
      ]
    },
    {
      "cell_type": "code",
      "source": [
        "red_wine = pd.read_csv('drive/MyDrive/Colab Notebooks/winequality-red.csv', delimiter=\";\")"
      ],
      "metadata": {
        "id": "exE5mTQAdIVe"
      },
      "execution_count": null,
      "outputs": []
    },
    {
      "cell_type": "code",
      "source": [
        "red_wine.head(3)"
      ],
      "metadata": {
        "colab": {
          "base_uri": "https://localhost:8080/",
          "height": 205
        },
        "id": "OE4-CWYudWqu",
        "outputId": "d471155e-d6ea-49c2-d566-625d4a01251a"
      },
      "execution_count": null,
      "outputs": [
        {
          "output_type": "execute_result",
          "data": {
            "text/plain": [
              "   fixed acidity  volatile acidity  citric acid  residual sugar  chlorides  \\\n",
              "0            7.4              0.70         0.00             1.9      0.076   \n",
              "1            7.8              0.88         0.00             2.6      0.098   \n",
              "2            7.8              0.76         0.04             2.3      0.092   \n",
              "\n",
              "   free sulfur dioxide  total sulfur dioxide  density    pH  sulphates  \\\n",
              "0                 11.0                  34.0   0.9978  3.51       0.56   \n",
              "1                 25.0                  67.0   0.9968  3.20       0.68   \n",
              "2                 15.0                  54.0   0.9970  3.26       0.65   \n",
              "\n",
              "   alcohol  quality  \n",
              "0      9.4        5  \n",
              "1      9.8        5  \n",
              "2      9.8        5  "
            ],
            "text/html": [
              "\n",
              "  <div id=\"df-6f8df493-954d-4761-9008-37f6185dcd0e\">\n",
              "    <div class=\"colab-df-container\">\n",
              "      <div>\n",
              "<style scoped>\n",
              "    .dataframe tbody tr th:only-of-type {\n",
              "        vertical-align: middle;\n",
              "    }\n",
              "\n",
              "    .dataframe tbody tr th {\n",
              "        vertical-align: top;\n",
              "    }\n",
              "\n",
              "    .dataframe thead th {\n",
              "        text-align: right;\n",
              "    }\n",
              "</style>\n",
              "<table border=\"1\" class=\"dataframe\">\n",
              "  <thead>\n",
              "    <tr style=\"text-align: right;\">\n",
              "      <th></th>\n",
              "      <th>fixed acidity</th>\n",
              "      <th>volatile acidity</th>\n",
              "      <th>citric acid</th>\n",
              "      <th>residual sugar</th>\n",
              "      <th>chlorides</th>\n",
              "      <th>free sulfur dioxide</th>\n",
              "      <th>total sulfur dioxide</th>\n",
              "      <th>density</th>\n",
              "      <th>pH</th>\n",
              "      <th>sulphates</th>\n",
              "      <th>alcohol</th>\n",
              "      <th>quality</th>\n",
              "    </tr>\n",
              "  </thead>\n",
              "  <tbody>\n",
              "    <tr>\n",
              "      <th>0</th>\n",
              "      <td>7.4</td>\n",
              "      <td>0.70</td>\n",
              "      <td>0.00</td>\n",
              "      <td>1.9</td>\n",
              "      <td>0.076</td>\n",
              "      <td>11.0</td>\n",
              "      <td>34.0</td>\n",
              "      <td>0.9978</td>\n",
              "      <td>3.51</td>\n",
              "      <td>0.56</td>\n",
              "      <td>9.4</td>\n",
              "      <td>5</td>\n",
              "    </tr>\n",
              "    <tr>\n",
              "      <th>1</th>\n",
              "      <td>7.8</td>\n",
              "      <td>0.88</td>\n",
              "      <td>0.00</td>\n",
              "      <td>2.6</td>\n",
              "      <td>0.098</td>\n",
              "      <td>25.0</td>\n",
              "      <td>67.0</td>\n",
              "      <td>0.9968</td>\n",
              "      <td>3.20</td>\n",
              "      <td>0.68</td>\n",
              "      <td>9.8</td>\n",
              "      <td>5</td>\n",
              "    </tr>\n",
              "    <tr>\n",
              "      <th>2</th>\n",
              "      <td>7.8</td>\n",
              "      <td>0.76</td>\n",
              "      <td>0.04</td>\n",
              "      <td>2.3</td>\n",
              "      <td>0.092</td>\n",
              "      <td>15.0</td>\n",
              "      <td>54.0</td>\n",
              "      <td>0.9970</td>\n",
              "      <td>3.26</td>\n",
              "      <td>0.65</td>\n",
              "      <td>9.8</td>\n",
              "      <td>5</td>\n",
              "    </tr>\n",
              "  </tbody>\n",
              "</table>\n",
              "</div>\n",
              "      <button class=\"colab-df-convert\" onclick=\"convertToInteractive('df-6f8df493-954d-4761-9008-37f6185dcd0e')\"\n",
              "              title=\"Convert this dataframe to an interactive table.\"\n",
              "              style=\"display:none;\">\n",
              "        \n",
              "  <svg xmlns=\"http://www.w3.org/2000/svg\" height=\"24px\"viewBox=\"0 0 24 24\"\n",
              "       width=\"24px\">\n",
              "    <path d=\"M0 0h24v24H0V0z\" fill=\"none\"/>\n",
              "    <path d=\"M18.56 5.44l.94 2.06.94-2.06 2.06-.94-2.06-.94-.94-2.06-.94 2.06-2.06.94zm-11 1L8.5 8.5l.94-2.06 2.06-.94-2.06-.94L8.5 2.5l-.94 2.06-2.06.94zm10 10l.94 2.06.94-2.06 2.06-.94-2.06-.94-.94-2.06-.94 2.06-2.06.94z\"/><path d=\"M17.41 7.96l-1.37-1.37c-.4-.4-.92-.59-1.43-.59-.52 0-1.04.2-1.43.59L10.3 9.45l-7.72 7.72c-.78.78-.78 2.05 0 2.83L4 21.41c.39.39.9.59 1.41.59.51 0 1.02-.2 1.41-.59l7.78-7.78 2.81-2.81c.8-.78.8-2.07 0-2.86zM5.41 20L4 18.59l7.72-7.72 1.47 1.35L5.41 20z\"/>\n",
              "  </svg>\n",
              "      </button>\n",
              "      \n",
              "  <style>\n",
              "    .colab-df-container {\n",
              "      display:flex;\n",
              "      flex-wrap:wrap;\n",
              "      gap: 12px;\n",
              "    }\n",
              "\n",
              "    .colab-df-convert {\n",
              "      background-color: #E8F0FE;\n",
              "      border: none;\n",
              "      border-radius: 50%;\n",
              "      cursor: pointer;\n",
              "      display: none;\n",
              "      fill: #1967D2;\n",
              "      height: 32px;\n",
              "      padding: 0 0 0 0;\n",
              "      width: 32px;\n",
              "    }\n",
              "\n",
              "    .colab-df-convert:hover {\n",
              "      background-color: #E2EBFA;\n",
              "      box-shadow: 0px 1px 2px rgba(60, 64, 67, 0.3), 0px 1px 3px 1px rgba(60, 64, 67, 0.15);\n",
              "      fill: #174EA6;\n",
              "    }\n",
              "\n",
              "    [theme=dark] .colab-df-convert {\n",
              "      background-color: #3B4455;\n",
              "      fill: #D2E3FC;\n",
              "    }\n",
              "\n",
              "    [theme=dark] .colab-df-convert:hover {\n",
              "      background-color: #434B5C;\n",
              "      box-shadow: 0px 1px 3px 1px rgba(0, 0, 0, 0.15);\n",
              "      filter: drop-shadow(0px 1px 2px rgba(0, 0, 0, 0.3));\n",
              "      fill: #FFFFFF;\n",
              "    }\n",
              "  </style>\n",
              "\n",
              "      <script>\n",
              "        const buttonEl =\n",
              "          document.querySelector('#df-6f8df493-954d-4761-9008-37f6185dcd0e button.colab-df-convert');\n",
              "        buttonEl.style.display =\n",
              "          google.colab.kernel.accessAllowed ? 'block' : 'none';\n",
              "\n",
              "        async function convertToInteractive(key) {\n",
              "          const element = document.querySelector('#df-6f8df493-954d-4761-9008-37f6185dcd0e');\n",
              "          const dataTable =\n",
              "            await google.colab.kernel.invokeFunction('convertToInteractive',\n",
              "                                                     [key], {});\n",
              "          if (!dataTable) return;\n",
              "\n",
              "          const docLinkHtml = 'Like what you see? Visit the ' +\n",
              "            '<a target=\"_blank\" href=https://colab.research.google.com/notebooks/data_table.ipynb>data table notebook</a>'\n",
              "            + ' to learn more about interactive tables.';\n",
              "          element.innerHTML = '';\n",
              "          dataTable['output_type'] = 'display_data';\n",
              "          await google.colab.output.renderOutput(dataTable, element);\n",
              "          const docLink = document.createElement('div');\n",
              "          docLink.innerHTML = docLinkHtml;\n",
              "          element.appendChild(docLink);\n",
              "        }\n",
              "      </script>\n",
              "    </div>\n",
              "  </div>\n",
              "  "
            ]
          },
          "metadata": {},
          "execution_count": 5
        }
      ]
    },
    {
      "cell_type": "markdown",
      "source": [
        "**2.- Describir el nombre de las columnas disponibles, su definición y el tipo de datos que almacena cada una de ellas.**"
      ],
      "metadata": {
        "id": "8jgarWLgijV3"
      }
    },
    {
      "cell_type": "code",
      "source": [
        "#Identificar las columnas disponibles\n",
        "red_wine.columns"
      ],
      "metadata": {
        "colab": {
          "base_uri": "https://localhost:8080/"
        },
        "id": "85imymE5i9sP",
        "outputId": "6d189bd8-4f06-4a47-d03c-609145a7d237"
      },
      "execution_count": null,
      "outputs": [
        {
          "output_type": "execute_result",
          "data": {
            "text/plain": [
              "Index(['fixed acidity', 'volatile acidity', 'citric acid', 'residual sugar',\n",
              "       'chlorides', 'free sulfur dioxide', 'total sulfur dioxide', 'density',\n",
              "       'pH', 'sulphates', 'alcohol', 'quality'],\n",
              "      dtype='object')"
            ]
          },
          "metadata": {},
          "execution_count": 6
        }
      ]
    },
    {
      "cell_type": "code",
      "source": [
        "#Verificar el tipo de datos que almacena cada columna\n",
        "red_wine.info()"
      ],
      "metadata": {
        "colab": {
          "base_uri": "https://localhost:8080/"
        },
        "id": "670U_K5SpLic",
        "outputId": "5db8d61f-7d2a-4b85-8d2e-14869cb5159c"
      },
      "execution_count": null,
      "outputs": [
        {
          "output_type": "stream",
          "name": "stdout",
          "text": [
            "<class 'pandas.core.frame.DataFrame'>\n",
            "RangeIndex: 1599 entries, 0 to 1598\n",
            "Data columns (total 12 columns):\n",
            " #   Column                Non-Null Count  Dtype  \n",
            "---  ------                --------------  -----  \n",
            " 0   fixed acidity         1599 non-null   float64\n",
            " 1   volatile acidity      1599 non-null   float64\n",
            " 2   citric acid           1599 non-null   float64\n",
            " 3   residual sugar        1599 non-null   float64\n",
            " 4   chlorides             1599 non-null   float64\n",
            " 5   free sulfur dioxide   1599 non-null   float64\n",
            " 6   total sulfur dioxide  1599 non-null   float64\n",
            " 7   density               1599 non-null   float64\n",
            " 8   pH                    1599 non-null   float64\n",
            " 9   sulphates             1599 non-null   float64\n",
            " 10  alcohol               1599 non-null   float64\n",
            " 11  quality               1599 non-null   int64  \n",
            "dtypes: float64(11), int64(1)\n",
            "memory usage: 150.0 KB\n"
          ]
        }
      ]
    },
    {
      "cell_type": "markdown",
      "source": [
        "Se confirma que el tipo de datos en la base de datos es correcta, todas las variables independieintes son cuantitativas por lo cual se le debe dar tratamiento como **float**. Sin embargo, la variable de calidad es cualitativa, mediante un rango 0-5, por lo cual se le debe dar tratamiento como **int64** "
      ],
      "metadata": {
        "id": "IZR6bKMVmGKD"
      }
    },
    {
      "cell_type": "markdown",
      "source": [
        "**3.-\tRevisar si existen datos perdidos y explicar posibles motivos.**"
      ],
      "metadata": {
        "id": "c8wMjmhjmZUg"
      }
    },
    {
      "cell_type": "code",
      "source": [
        "np.sum(red_wine.isna())"
      ],
      "metadata": {
        "colab": {
          "base_uri": "https://localhost:8080/"
        },
        "id": "LWDFxWWCjH8j",
        "outputId": "602b116b-0c8c-4655-c9d5-9257f38e1aec"
      },
      "execution_count": null,
      "outputs": [
        {
          "output_type": "execute_result",
          "data": {
            "text/plain": [
              "fixed acidity           0\n",
              "volatile acidity        0\n",
              "citric acid             0\n",
              "residual sugar          0\n",
              "chlorides               0\n",
              "free sulfur dioxide     0\n",
              "total sulfur dioxide    0\n",
              "density                 0\n",
              "pH                      0\n",
              "sulphates               0\n",
              "alcohol                 0\n",
              "quality                 0\n",
              "dtype: int64"
            ]
          },
          "metadata": {},
          "execution_count": 8
        }
      ]
    },
    {
      "cell_type": "markdown",
      "source": [
        "No existen daatos perdidos en la base de datos"
      ],
      "metadata": {
        "id": "8C0FgWzOmkH8"
      }
    },
    {
      "cell_type": "markdown",
      "source": [
        "**4.-\tRevisar si existen datos duplicados y explicar posibles motivos.**"
      ],
      "metadata": {
        "id": "rZdG_fxomm1P"
      }
    },
    {
      "cell_type": "code",
      "source": [
        "red_wine.shape"
      ],
      "metadata": {
        "colab": {
          "base_uri": "https://localhost:8080/"
        },
        "id": "7ub9O0yimrix",
        "outputId": "d611f589-7498-4587-af37-a26df7c2fef9"
      },
      "execution_count": null,
      "outputs": [
        {
          "output_type": "execute_result",
          "data": {
            "text/plain": [
              "(1599, 12)"
            ]
          },
          "metadata": {},
          "execution_count": 9
        }
      ]
    },
    {
      "cell_type": "code",
      "source": [
        "np.sum(red_wine.duplicated())"
      ],
      "metadata": {
        "colab": {
          "base_uri": "https://localhost:8080/"
        },
        "id": "0uQDx5pNmylH",
        "outputId": "8a494589-4398-485f-fead-9584e342984c"
      },
      "execution_count": null,
      "outputs": [
        {
          "output_type": "execute_result",
          "data": {
            "text/plain": [
              "240"
            ]
          },
          "metadata": {},
          "execution_count": 10
        }
      ]
    },
    {
      "cell_type": "code",
      "source": [
        "print('El porcentaje de valores duplicados en la Base de datos es de:', 240*100/1599, '%')"
      ],
      "metadata": {
        "colab": {
          "base_uri": "https://localhost:8080/"
        },
        "id": "y75Gy4DPqJI-",
        "outputId": "d653fced-d846-412f-e53d-7102f27230b4"
      },
      "execution_count": null,
      "outputs": [
        {
          "output_type": "stream",
          "name": "stdout",
          "text": [
            "El porcentaje de valores duplicados en la Base de datos es de: 15.0093808630394 %\n"
          ]
        }
      ]
    },
    {
      "cell_type": "markdown",
      "source": [
        "Se confirma que existen 240 datos duplicados, que corresponden al 15% de la base de datos, por lo cual se procede a darle un tratamiento y eliminar estos duplicados\n"
      ],
      "metadata": {
        "id": "pH4Ikc1Tm7ax"
      }
    },
    {
      "cell_type": "code",
      "source": [
        "#Confirmar que la informacion de las filas son o no iguales, al analizar la tabla vemos que no existe la posibilidad que hayan realizado dos pruebas de todos los ensayos \n",
        "#al mismo lote y sacar exactamente los mismo resultados en todaas las variables, por lo cual, se procede a eliminar los valores repetidos\n",
        "red_wine[red_wine.duplicated(keep=False)]"
      ],
      "metadata": {
        "colab": {
          "base_uri": "https://localhost:8080/",
          "height": 485
        },
        "id": "exDYmXoHnPYf",
        "outputId": "cd3fc750-2d37-42a6-bf08-987601495816"
      },
      "execution_count": null,
      "outputs": [
        {
          "output_type": "execute_result",
          "data": {
            "text/plain": [
              "      fixed acidity  volatile acidity  citric acid  residual sugar  chlorides  \\\n",
              "0               7.4             0.700         0.00             1.9      0.076   \n",
              "4               7.4             0.700         0.00             1.9      0.076   \n",
              "9               7.5             0.500         0.36             6.1      0.071   \n",
              "11              7.5             0.500         0.36             6.1      0.071   \n",
              "22              7.9             0.430         0.21             1.6      0.106   \n",
              "...             ...               ...          ...             ...        ...   \n",
              "1567            7.2             0.695         0.13             2.0      0.076   \n",
              "1579            6.2             0.560         0.09             1.7      0.053   \n",
              "1581            6.2             0.560         0.09             1.7      0.053   \n",
              "1592            6.3             0.510         0.13             2.3      0.076   \n",
              "1596            6.3             0.510         0.13             2.3      0.076   \n",
              "\n",
              "      free sulfur dioxide  total sulfur dioxide  density    pH  sulphates  \\\n",
              "0                    11.0                  34.0  0.99780  3.51       0.56   \n",
              "4                    11.0                  34.0  0.99780  3.51       0.56   \n",
              "9                    17.0                 102.0  0.99780  3.35       0.80   \n",
              "11                   17.0                 102.0  0.99780  3.35       0.80   \n",
              "22                   10.0                  37.0  0.99660  3.17       0.91   \n",
              "...                   ...                   ...      ...   ...        ...   \n",
              "1567                 12.0                  20.0  0.99546  3.29       0.54   \n",
              "1579                 24.0                  32.0  0.99402  3.54       0.60   \n",
              "1581                 24.0                  32.0  0.99402  3.54       0.60   \n",
              "1592                 29.0                  40.0  0.99574  3.42       0.75   \n",
              "1596                 29.0                  40.0  0.99574  3.42       0.75   \n",
              "\n",
              "      alcohol  quality  \n",
              "0         9.4        5  \n",
              "4         9.4        5  \n",
              "9        10.5        5  \n",
              "11       10.5        5  \n",
              "22        9.5        5  \n",
              "...       ...      ...  \n",
              "1567     10.1        5  \n",
              "1579     11.3        5  \n",
              "1581     11.3        5  \n",
              "1592     11.0        6  \n",
              "1596     11.0        6  \n",
              "\n",
              "[460 rows x 12 columns]"
            ],
            "text/html": [
              "\n",
              "  <div id=\"df-f356bec8-035e-493f-a771-e298fcae5b06\">\n",
              "    <div class=\"colab-df-container\">\n",
              "      <div>\n",
              "<style scoped>\n",
              "    .dataframe tbody tr th:only-of-type {\n",
              "        vertical-align: middle;\n",
              "    }\n",
              "\n",
              "    .dataframe tbody tr th {\n",
              "        vertical-align: top;\n",
              "    }\n",
              "\n",
              "    .dataframe thead th {\n",
              "        text-align: right;\n",
              "    }\n",
              "</style>\n",
              "<table border=\"1\" class=\"dataframe\">\n",
              "  <thead>\n",
              "    <tr style=\"text-align: right;\">\n",
              "      <th></th>\n",
              "      <th>fixed acidity</th>\n",
              "      <th>volatile acidity</th>\n",
              "      <th>citric acid</th>\n",
              "      <th>residual sugar</th>\n",
              "      <th>chlorides</th>\n",
              "      <th>free sulfur dioxide</th>\n",
              "      <th>total sulfur dioxide</th>\n",
              "      <th>density</th>\n",
              "      <th>pH</th>\n",
              "      <th>sulphates</th>\n",
              "      <th>alcohol</th>\n",
              "      <th>quality</th>\n",
              "    </tr>\n",
              "  </thead>\n",
              "  <tbody>\n",
              "    <tr>\n",
              "      <th>0</th>\n",
              "      <td>7.4</td>\n",
              "      <td>0.700</td>\n",
              "      <td>0.00</td>\n",
              "      <td>1.9</td>\n",
              "      <td>0.076</td>\n",
              "      <td>11.0</td>\n",
              "      <td>34.0</td>\n",
              "      <td>0.99780</td>\n",
              "      <td>3.51</td>\n",
              "      <td>0.56</td>\n",
              "      <td>9.4</td>\n",
              "      <td>5</td>\n",
              "    </tr>\n",
              "    <tr>\n",
              "      <th>4</th>\n",
              "      <td>7.4</td>\n",
              "      <td>0.700</td>\n",
              "      <td>0.00</td>\n",
              "      <td>1.9</td>\n",
              "      <td>0.076</td>\n",
              "      <td>11.0</td>\n",
              "      <td>34.0</td>\n",
              "      <td>0.99780</td>\n",
              "      <td>3.51</td>\n",
              "      <td>0.56</td>\n",
              "      <td>9.4</td>\n",
              "      <td>5</td>\n",
              "    </tr>\n",
              "    <tr>\n",
              "      <th>9</th>\n",
              "      <td>7.5</td>\n",
              "      <td>0.500</td>\n",
              "      <td>0.36</td>\n",
              "      <td>6.1</td>\n",
              "      <td>0.071</td>\n",
              "      <td>17.0</td>\n",
              "      <td>102.0</td>\n",
              "      <td>0.99780</td>\n",
              "      <td>3.35</td>\n",
              "      <td>0.80</td>\n",
              "      <td>10.5</td>\n",
              "      <td>5</td>\n",
              "    </tr>\n",
              "    <tr>\n",
              "      <th>11</th>\n",
              "      <td>7.5</td>\n",
              "      <td>0.500</td>\n",
              "      <td>0.36</td>\n",
              "      <td>6.1</td>\n",
              "      <td>0.071</td>\n",
              "      <td>17.0</td>\n",
              "      <td>102.0</td>\n",
              "      <td>0.99780</td>\n",
              "      <td>3.35</td>\n",
              "      <td>0.80</td>\n",
              "      <td>10.5</td>\n",
              "      <td>5</td>\n",
              "    </tr>\n",
              "    <tr>\n",
              "      <th>22</th>\n",
              "      <td>7.9</td>\n",
              "      <td>0.430</td>\n",
              "      <td>0.21</td>\n",
              "      <td>1.6</td>\n",
              "      <td>0.106</td>\n",
              "      <td>10.0</td>\n",
              "      <td>37.0</td>\n",
              "      <td>0.99660</td>\n",
              "      <td>3.17</td>\n",
              "      <td>0.91</td>\n",
              "      <td>9.5</td>\n",
              "      <td>5</td>\n",
              "    </tr>\n",
              "    <tr>\n",
              "      <th>...</th>\n",
              "      <td>...</td>\n",
              "      <td>...</td>\n",
              "      <td>...</td>\n",
              "      <td>...</td>\n",
              "      <td>...</td>\n",
              "      <td>...</td>\n",
              "      <td>...</td>\n",
              "      <td>...</td>\n",
              "      <td>...</td>\n",
              "      <td>...</td>\n",
              "      <td>...</td>\n",
              "      <td>...</td>\n",
              "    </tr>\n",
              "    <tr>\n",
              "      <th>1567</th>\n",
              "      <td>7.2</td>\n",
              "      <td>0.695</td>\n",
              "      <td>0.13</td>\n",
              "      <td>2.0</td>\n",
              "      <td>0.076</td>\n",
              "      <td>12.0</td>\n",
              "      <td>20.0</td>\n",
              "      <td>0.99546</td>\n",
              "      <td>3.29</td>\n",
              "      <td>0.54</td>\n",
              "      <td>10.1</td>\n",
              "      <td>5</td>\n",
              "    </tr>\n",
              "    <tr>\n",
              "      <th>1579</th>\n",
              "      <td>6.2</td>\n",
              "      <td>0.560</td>\n",
              "      <td>0.09</td>\n",
              "      <td>1.7</td>\n",
              "      <td>0.053</td>\n",
              "      <td>24.0</td>\n",
              "      <td>32.0</td>\n",
              "      <td>0.99402</td>\n",
              "      <td>3.54</td>\n",
              "      <td>0.60</td>\n",
              "      <td>11.3</td>\n",
              "      <td>5</td>\n",
              "    </tr>\n",
              "    <tr>\n",
              "      <th>1581</th>\n",
              "      <td>6.2</td>\n",
              "      <td>0.560</td>\n",
              "      <td>0.09</td>\n",
              "      <td>1.7</td>\n",
              "      <td>0.053</td>\n",
              "      <td>24.0</td>\n",
              "      <td>32.0</td>\n",
              "      <td>0.99402</td>\n",
              "      <td>3.54</td>\n",
              "      <td>0.60</td>\n",
              "      <td>11.3</td>\n",
              "      <td>5</td>\n",
              "    </tr>\n",
              "    <tr>\n",
              "      <th>1592</th>\n",
              "      <td>6.3</td>\n",
              "      <td>0.510</td>\n",
              "      <td>0.13</td>\n",
              "      <td>2.3</td>\n",
              "      <td>0.076</td>\n",
              "      <td>29.0</td>\n",
              "      <td>40.0</td>\n",
              "      <td>0.99574</td>\n",
              "      <td>3.42</td>\n",
              "      <td>0.75</td>\n",
              "      <td>11.0</td>\n",
              "      <td>6</td>\n",
              "    </tr>\n",
              "    <tr>\n",
              "      <th>1596</th>\n",
              "      <td>6.3</td>\n",
              "      <td>0.510</td>\n",
              "      <td>0.13</td>\n",
              "      <td>2.3</td>\n",
              "      <td>0.076</td>\n",
              "      <td>29.0</td>\n",
              "      <td>40.0</td>\n",
              "      <td>0.99574</td>\n",
              "      <td>3.42</td>\n",
              "      <td>0.75</td>\n",
              "      <td>11.0</td>\n",
              "      <td>6</td>\n",
              "    </tr>\n",
              "  </tbody>\n",
              "</table>\n",
              "<p>460 rows × 12 columns</p>\n",
              "</div>\n",
              "      <button class=\"colab-df-convert\" onclick=\"convertToInteractive('df-f356bec8-035e-493f-a771-e298fcae5b06')\"\n",
              "              title=\"Convert this dataframe to an interactive table.\"\n",
              "              style=\"display:none;\">\n",
              "        \n",
              "  <svg xmlns=\"http://www.w3.org/2000/svg\" height=\"24px\"viewBox=\"0 0 24 24\"\n",
              "       width=\"24px\">\n",
              "    <path d=\"M0 0h24v24H0V0z\" fill=\"none\"/>\n",
              "    <path d=\"M18.56 5.44l.94 2.06.94-2.06 2.06-.94-2.06-.94-.94-2.06-.94 2.06-2.06.94zm-11 1L8.5 8.5l.94-2.06 2.06-.94-2.06-.94L8.5 2.5l-.94 2.06-2.06.94zm10 10l.94 2.06.94-2.06 2.06-.94-2.06-.94-.94-2.06-.94 2.06-2.06.94z\"/><path d=\"M17.41 7.96l-1.37-1.37c-.4-.4-.92-.59-1.43-.59-.52 0-1.04.2-1.43.59L10.3 9.45l-7.72 7.72c-.78.78-.78 2.05 0 2.83L4 21.41c.39.39.9.59 1.41.59.51 0 1.02-.2 1.41-.59l7.78-7.78 2.81-2.81c.8-.78.8-2.07 0-2.86zM5.41 20L4 18.59l7.72-7.72 1.47 1.35L5.41 20z\"/>\n",
              "  </svg>\n",
              "      </button>\n",
              "      \n",
              "  <style>\n",
              "    .colab-df-container {\n",
              "      display:flex;\n",
              "      flex-wrap:wrap;\n",
              "      gap: 12px;\n",
              "    }\n",
              "\n",
              "    .colab-df-convert {\n",
              "      background-color: #E8F0FE;\n",
              "      border: none;\n",
              "      border-radius: 50%;\n",
              "      cursor: pointer;\n",
              "      display: none;\n",
              "      fill: #1967D2;\n",
              "      height: 32px;\n",
              "      padding: 0 0 0 0;\n",
              "      width: 32px;\n",
              "    }\n",
              "\n",
              "    .colab-df-convert:hover {\n",
              "      background-color: #E2EBFA;\n",
              "      box-shadow: 0px 1px 2px rgba(60, 64, 67, 0.3), 0px 1px 3px 1px rgba(60, 64, 67, 0.15);\n",
              "      fill: #174EA6;\n",
              "    }\n",
              "\n",
              "    [theme=dark] .colab-df-convert {\n",
              "      background-color: #3B4455;\n",
              "      fill: #D2E3FC;\n",
              "    }\n",
              "\n",
              "    [theme=dark] .colab-df-convert:hover {\n",
              "      background-color: #434B5C;\n",
              "      box-shadow: 0px 1px 3px 1px rgba(0, 0, 0, 0.15);\n",
              "      filter: drop-shadow(0px 1px 2px rgba(0, 0, 0, 0.3));\n",
              "      fill: #FFFFFF;\n",
              "    }\n",
              "  </style>\n",
              "\n",
              "      <script>\n",
              "        const buttonEl =\n",
              "          document.querySelector('#df-f356bec8-035e-493f-a771-e298fcae5b06 button.colab-df-convert');\n",
              "        buttonEl.style.display =\n",
              "          google.colab.kernel.accessAllowed ? 'block' : 'none';\n",
              "\n",
              "        async function convertToInteractive(key) {\n",
              "          const element = document.querySelector('#df-f356bec8-035e-493f-a771-e298fcae5b06');\n",
              "          const dataTable =\n",
              "            await google.colab.kernel.invokeFunction('convertToInteractive',\n",
              "                                                     [key], {});\n",
              "          if (!dataTable) return;\n",
              "\n",
              "          const docLinkHtml = 'Like what you see? Visit the ' +\n",
              "            '<a target=\"_blank\" href=https://colab.research.google.com/notebooks/data_table.ipynb>data table notebook</a>'\n",
              "            + ' to learn more about interactive tables.';\n",
              "          element.innerHTML = '';\n",
              "          dataTable['output_type'] = 'display_data';\n",
              "          await google.colab.output.renderOutput(dataTable, element);\n",
              "          const docLink = document.createElement('div');\n",
              "          docLink.innerHTML = docLinkHtml;\n",
              "          element.appendChild(docLink);\n",
              "        }\n",
              "      </script>\n",
              "    </div>\n",
              "  </div>\n",
              "  "
            ]
          },
          "metadata": {},
          "execution_count": 12
        }
      ]
    },
    {
      "cell_type": "markdown",
      "source": [
        "Verificamos que las duplicados tienen la misma información, no podemos hablar que todo el registro esta duplicado, si no un 15%."
      ],
      "metadata": {
        "id": "FWU8ESuXrXM0"
      }
    },
    {
      "cell_type": "code",
      "source": [
        "#Eliminación de los 240 valores duplicados\n",
        "red_wine.shape"
      ],
      "metadata": {
        "colab": {
          "base_uri": "https://localhost:8080/"
        },
        "id": "PTv_ik11rlhw",
        "outputId": "a1427520-4527-4f8b-ae44-5712bcfae9f0"
      },
      "execution_count": null,
      "outputs": [
        {
          "output_type": "execute_result",
          "data": {
            "text/plain": [
              "(1599, 12)"
            ]
          },
          "metadata": {},
          "execution_count": 13
        }
      ]
    },
    {
      "cell_type": "code",
      "source": [
        "red_wine=red_wine.drop_duplicates()\n",
        "red_wine.shape"
      ],
      "metadata": {
        "colab": {
          "base_uri": "https://localhost:8080/"
        },
        "id": "Wl79mno-sD7R",
        "outputId": "05cc2f0b-b473-4c1f-9a95-76065219a043"
      },
      "execution_count": null,
      "outputs": [
        {
          "output_type": "execute_result",
          "data": {
            "text/plain": [
              "(1359, 12)"
            ]
          },
          "metadata": {},
          "execution_count": 14
        }
      ]
    },
    {
      "cell_type": "markdown",
      "source": [
        "**5.-\tObtener estadísticas descriptivas de todo el dataset.**"
      ],
      "metadata": {
        "id": "L9VWdf42tbe4"
      }
    },
    {
      "cell_type": "code",
      "source": [
        "red_wine.describe().T"
      ],
      "metadata": {
        "colab": {
          "base_uri": "https://localhost:8080/",
          "height": 425
        },
        "id": "Bnz3PBiXtXJN",
        "outputId": "913f9dd7-066d-465f-c702-4ceeff81ca0f"
      },
      "execution_count": null,
      "outputs": [
        {
          "output_type": "execute_result",
          "data": {
            "text/plain": [
              "                       count       mean        std      min      25%      50%  \\\n",
              "fixed acidity         1359.0   8.310596   1.736990  4.60000   7.1000   7.9000   \n",
              "volatile acidity      1359.0   0.529478   0.183031  0.12000   0.3900   0.5200   \n",
              "citric acid           1359.0   0.272333   0.195537  0.00000   0.0900   0.2600   \n",
              "residual sugar        1359.0   2.523400   1.352314  0.90000   1.9000   2.2000   \n",
              "chlorides             1359.0   0.088124   0.049377  0.01200   0.0700   0.0790   \n",
              "free sulfur dioxide   1359.0  15.893304  10.447270  1.00000   7.0000  14.0000   \n",
              "total sulfur dioxide  1359.0  46.825975  33.408946  6.00000  22.0000  38.0000   \n",
              "density               1359.0   0.996709   0.001869  0.99007   0.9956   0.9967   \n",
              "pH                    1359.0   3.309787   0.155036  2.74000   3.2100   3.3100   \n",
              "sulphates             1359.0   0.658705   0.170667  0.33000   0.5500   0.6200   \n",
              "alcohol               1359.0  10.432315   1.082065  8.40000   9.5000  10.2000   \n",
              "quality               1359.0   5.623252   0.823578  3.00000   5.0000   6.0000   \n",
              "\n",
              "                           75%        max  \n",
              "fixed acidity          9.20000   15.90000  \n",
              "volatile acidity       0.64000    1.58000  \n",
              "citric acid            0.43000    1.00000  \n",
              "residual sugar         2.60000   15.50000  \n",
              "chlorides              0.09100    0.61100  \n",
              "free sulfur dioxide   21.00000   72.00000  \n",
              "total sulfur dioxide  63.00000  289.00000  \n",
              "density                0.99782    1.00369  \n",
              "pH                     3.40000    4.01000  \n",
              "sulphates              0.73000    2.00000  \n",
              "alcohol               11.10000   14.90000  \n",
              "quality                6.00000    8.00000  "
            ],
            "text/html": [
              "\n",
              "  <div id=\"df-ddbaa358-f39c-4285-9bf7-c8d90a1ae3b8\">\n",
              "    <div class=\"colab-df-container\">\n",
              "      <div>\n",
              "<style scoped>\n",
              "    .dataframe tbody tr th:only-of-type {\n",
              "        vertical-align: middle;\n",
              "    }\n",
              "\n",
              "    .dataframe tbody tr th {\n",
              "        vertical-align: top;\n",
              "    }\n",
              "\n",
              "    .dataframe thead th {\n",
              "        text-align: right;\n",
              "    }\n",
              "</style>\n",
              "<table border=\"1\" class=\"dataframe\">\n",
              "  <thead>\n",
              "    <tr style=\"text-align: right;\">\n",
              "      <th></th>\n",
              "      <th>count</th>\n",
              "      <th>mean</th>\n",
              "      <th>std</th>\n",
              "      <th>min</th>\n",
              "      <th>25%</th>\n",
              "      <th>50%</th>\n",
              "      <th>75%</th>\n",
              "      <th>max</th>\n",
              "    </tr>\n",
              "  </thead>\n",
              "  <tbody>\n",
              "    <tr>\n",
              "      <th>fixed acidity</th>\n",
              "      <td>1359.0</td>\n",
              "      <td>8.310596</td>\n",
              "      <td>1.736990</td>\n",
              "      <td>4.60000</td>\n",
              "      <td>7.1000</td>\n",
              "      <td>7.9000</td>\n",
              "      <td>9.20000</td>\n",
              "      <td>15.90000</td>\n",
              "    </tr>\n",
              "    <tr>\n",
              "      <th>volatile acidity</th>\n",
              "      <td>1359.0</td>\n",
              "      <td>0.529478</td>\n",
              "      <td>0.183031</td>\n",
              "      <td>0.12000</td>\n",
              "      <td>0.3900</td>\n",
              "      <td>0.5200</td>\n",
              "      <td>0.64000</td>\n",
              "      <td>1.58000</td>\n",
              "    </tr>\n",
              "    <tr>\n",
              "      <th>citric acid</th>\n",
              "      <td>1359.0</td>\n",
              "      <td>0.272333</td>\n",
              "      <td>0.195537</td>\n",
              "      <td>0.00000</td>\n",
              "      <td>0.0900</td>\n",
              "      <td>0.2600</td>\n",
              "      <td>0.43000</td>\n",
              "      <td>1.00000</td>\n",
              "    </tr>\n",
              "    <tr>\n",
              "      <th>residual sugar</th>\n",
              "      <td>1359.0</td>\n",
              "      <td>2.523400</td>\n",
              "      <td>1.352314</td>\n",
              "      <td>0.90000</td>\n",
              "      <td>1.9000</td>\n",
              "      <td>2.2000</td>\n",
              "      <td>2.60000</td>\n",
              "      <td>15.50000</td>\n",
              "    </tr>\n",
              "    <tr>\n",
              "      <th>chlorides</th>\n",
              "      <td>1359.0</td>\n",
              "      <td>0.088124</td>\n",
              "      <td>0.049377</td>\n",
              "      <td>0.01200</td>\n",
              "      <td>0.0700</td>\n",
              "      <td>0.0790</td>\n",
              "      <td>0.09100</td>\n",
              "      <td>0.61100</td>\n",
              "    </tr>\n",
              "    <tr>\n",
              "      <th>free sulfur dioxide</th>\n",
              "      <td>1359.0</td>\n",
              "      <td>15.893304</td>\n",
              "      <td>10.447270</td>\n",
              "      <td>1.00000</td>\n",
              "      <td>7.0000</td>\n",
              "      <td>14.0000</td>\n",
              "      <td>21.00000</td>\n",
              "      <td>72.00000</td>\n",
              "    </tr>\n",
              "    <tr>\n",
              "      <th>total sulfur dioxide</th>\n",
              "      <td>1359.0</td>\n",
              "      <td>46.825975</td>\n",
              "      <td>33.408946</td>\n",
              "      <td>6.00000</td>\n",
              "      <td>22.0000</td>\n",
              "      <td>38.0000</td>\n",
              "      <td>63.00000</td>\n",
              "      <td>289.00000</td>\n",
              "    </tr>\n",
              "    <tr>\n",
              "      <th>density</th>\n",
              "      <td>1359.0</td>\n",
              "      <td>0.996709</td>\n",
              "      <td>0.001869</td>\n",
              "      <td>0.99007</td>\n",
              "      <td>0.9956</td>\n",
              "      <td>0.9967</td>\n",
              "      <td>0.99782</td>\n",
              "      <td>1.00369</td>\n",
              "    </tr>\n",
              "    <tr>\n",
              "      <th>pH</th>\n",
              "      <td>1359.0</td>\n",
              "      <td>3.309787</td>\n",
              "      <td>0.155036</td>\n",
              "      <td>2.74000</td>\n",
              "      <td>3.2100</td>\n",
              "      <td>3.3100</td>\n",
              "      <td>3.40000</td>\n",
              "      <td>4.01000</td>\n",
              "    </tr>\n",
              "    <tr>\n",
              "      <th>sulphates</th>\n",
              "      <td>1359.0</td>\n",
              "      <td>0.658705</td>\n",
              "      <td>0.170667</td>\n",
              "      <td>0.33000</td>\n",
              "      <td>0.5500</td>\n",
              "      <td>0.6200</td>\n",
              "      <td>0.73000</td>\n",
              "      <td>2.00000</td>\n",
              "    </tr>\n",
              "    <tr>\n",
              "      <th>alcohol</th>\n",
              "      <td>1359.0</td>\n",
              "      <td>10.432315</td>\n",
              "      <td>1.082065</td>\n",
              "      <td>8.40000</td>\n",
              "      <td>9.5000</td>\n",
              "      <td>10.2000</td>\n",
              "      <td>11.10000</td>\n",
              "      <td>14.90000</td>\n",
              "    </tr>\n",
              "    <tr>\n",
              "      <th>quality</th>\n",
              "      <td>1359.0</td>\n",
              "      <td>5.623252</td>\n",
              "      <td>0.823578</td>\n",
              "      <td>3.00000</td>\n",
              "      <td>5.0000</td>\n",
              "      <td>6.0000</td>\n",
              "      <td>6.00000</td>\n",
              "      <td>8.00000</td>\n",
              "    </tr>\n",
              "  </tbody>\n",
              "</table>\n",
              "</div>\n",
              "      <button class=\"colab-df-convert\" onclick=\"convertToInteractive('df-ddbaa358-f39c-4285-9bf7-c8d90a1ae3b8')\"\n",
              "              title=\"Convert this dataframe to an interactive table.\"\n",
              "              style=\"display:none;\">\n",
              "        \n",
              "  <svg xmlns=\"http://www.w3.org/2000/svg\" height=\"24px\"viewBox=\"0 0 24 24\"\n",
              "       width=\"24px\">\n",
              "    <path d=\"M0 0h24v24H0V0z\" fill=\"none\"/>\n",
              "    <path d=\"M18.56 5.44l.94 2.06.94-2.06 2.06-.94-2.06-.94-.94-2.06-.94 2.06-2.06.94zm-11 1L8.5 8.5l.94-2.06 2.06-.94-2.06-.94L8.5 2.5l-.94 2.06-2.06.94zm10 10l.94 2.06.94-2.06 2.06-.94-2.06-.94-.94-2.06-.94 2.06-2.06.94z\"/><path d=\"M17.41 7.96l-1.37-1.37c-.4-.4-.92-.59-1.43-.59-.52 0-1.04.2-1.43.59L10.3 9.45l-7.72 7.72c-.78.78-.78 2.05 0 2.83L4 21.41c.39.39.9.59 1.41.59.51 0 1.02-.2 1.41-.59l7.78-7.78 2.81-2.81c.8-.78.8-2.07 0-2.86zM5.41 20L4 18.59l7.72-7.72 1.47 1.35L5.41 20z\"/>\n",
              "  </svg>\n",
              "      </button>\n",
              "      \n",
              "  <style>\n",
              "    .colab-df-container {\n",
              "      display:flex;\n",
              "      flex-wrap:wrap;\n",
              "      gap: 12px;\n",
              "    }\n",
              "\n",
              "    .colab-df-convert {\n",
              "      background-color: #E8F0FE;\n",
              "      border: none;\n",
              "      border-radius: 50%;\n",
              "      cursor: pointer;\n",
              "      display: none;\n",
              "      fill: #1967D2;\n",
              "      height: 32px;\n",
              "      padding: 0 0 0 0;\n",
              "      width: 32px;\n",
              "    }\n",
              "\n",
              "    .colab-df-convert:hover {\n",
              "      background-color: #E2EBFA;\n",
              "      box-shadow: 0px 1px 2px rgba(60, 64, 67, 0.3), 0px 1px 3px 1px rgba(60, 64, 67, 0.15);\n",
              "      fill: #174EA6;\n",
              "    }\n",
              "\n",
              "    [theme=dark] .colab-df-convert {\n",
              "      background-color: #3B4455;\n",
              "      fill: #D2E3FC;\n",
              "    }\n",
              "\n",
              "    [theme=dark] .colab-df-convert:hover {\n",
              "      background-color: #434B5C;\n",
              "      box-shadow: 0px 1px 3px 1px rgba(0, 0, 0, 0.15);\n",
              "      filter: drop-shadow(0px 1px 2px rgba(0, 0, 0, 0.3));\n",
              "      fill: #FFFFFF;\n",
              "    }\n",
              "  </style>\n",
              "\n",
              "      <script>\n",
              "        const buttonEl =\n",
              "          document.querySelector('#df-ddbaa358-f39c-4285-9bf7-c8d90a1ae3b8 button.colab-df-convert');\n",
              "        buttonEl.style.display =\n",
              "          google.colab.kernel.accessAllowed ? 'block' : 'none';\n",
              "\n",
              "        async function convertToInteractive(key) {\n",
              "          const element = document.querySelector('#df-ddbaa358-f39c-4285-9bf7-c8d90a1ae3b8');\n",
              "          const dataTable =\n",
              "            await google.colab.kernel.invokeFunction('convertToInteractive',\n",
              "                                                     [key], {});\n",
              "          if (!dataTable) return;\n",
              "\n",
              "          const docLinkHtml = 'Like what you see? Visit the ' +\n",
              "            '<a target=\"_blank\" href=https://colab.research.google.com/notebooks/data_table.ipynb>data table notebook</a>'\n",
              "            + ' to learn more about interactive tables.';\n",
              "          element.innerHTML = '';\n",
              "          dataTable['output_type'] = 'display_data';\n",
              "          await google.colab.output.renderOutput(dataTable, element);\n",
              "          const docLink = document.createElement('div');\n",
              "          docLink.innerHTML = docLinkHtml;\n",
              "          element.appendChild(docLink);\n",
              "        }\n",
              "      </script>\n",
              "    </div>\n",
              "  </div>\n",
              "  "
            ]
          },
          "metadata": {},
          "execution_count": 15
        }
      ]
    },
    {
      "cell_type": "markdown",
      "source": [
        "**6.-\tObtener estadísticas descriptivas por grupos relevantes en el dataset.**"
      ],
      "metadata": {
        "id": "yrlYUVu7tr-F"
      }
    },
    {
      "cell_type": "markdown",
      "source": [
        "Identificaremos si existe una distribución normal en alguna de las variables. Para ellos determinamos si el valor de curtosis es cero."
      ],
      "metadata": {
        "id": "qujpxfwuwrtS"
      }
    },
    {
      "cell_type": "markdown",
      "source": [
        "Como la distribución no es normal para ninguna de las varibles, y tenemos una variable **calidad** parametrica. Decido identificar si existe una correlacion entre las variables con calidad del vino mediante una correlacion de Spearman"
      ],
      "metadata": {
        "id": "pjbJtu7ttt4N"
      }
    },
    {
      "cell_type": "code",
      "source": [
        "from pandas.core.arrays.categorical import Ordered\n",
        "#Correlacion de las varibales\n",
        "red_wine_correlation = {\n",
        "    \"Fixed acidity - Quality\" : red_wine['fixed acidity'].corr(red_wine['quality'], method='spearman'),\n",
        "    \"Volatile acidity - Quality\" : red_wine['volatile acidity'].corr(red_wine['quality'], method='spearman'),\n",
        "    \"Citric acid - Quality\": red_wine['citric acid'].corr(red_wine['quality'], method='spearman'),\n",
        "    \"Residual suga - Quality\" : red_wine['residual sugar'].corr(red_wine['quality'], method='spearman'),\n",
        "    \"Chlorides - Quality\": red_wine['chlorides'].corr(red_wine['quality'], method='spearman'),\n",
        "    \"sulfur dioxide\" : red_wine['free sulfur dioxide'].corr(red_wine['quality'], method='spearman'),\n",
        "    \"total sulfur dioxide\" : red_wine['total sulfur dioxide'].corr(red_wine['quality'], method='spearman'),\n",
        "    \"density\" : red_wine['density'].corr(red_wine['quality'], method='spearman'),\n",
        "    \"pH\": red_wine['pH'].corr(red_wine['quality'], method='spearman'),\n",
        "    \"sulphates\" : red_wine['sulphates'].corr(red_wine['quality'], method='spearman'),\n",
        "    \"alcohol\": red_wine['alcohol'].corr(red_wine['quality'], method='spearman'),\n",
        "}\n",
        "red_wine_correlation_df = pd.DataFrame([red_wine_correlation], index=[\"Correlación total\"]).T\n",
        "red_wine_correlation_df\n"
      ],
      "metadata": {
        "colab": {
          "base_uri": "https://localhost:8080/",
          "height": 394
        },
        "id": "FO-NXDac02-C",
        "outputId": "76382fa3-83fe-4c6e-e170-bb28795e13bf"
      },
      "execution_count": null,
      "outputs": [
        {
          "output_type": "execute_result",
          "data": {
            "text/plain": [
              "                            Correlación total\n",
              "Fixed acidity - Quality              0.111693\n",
              "Volatile acidity - Quality          -0.387450\n",
              "Citric acid - Quality                0.219427\n",
              "Residual suga - Quality              0.025749\n",
              "Chlorides - Quality                 -0.204360\n",
              "sulfur dioxide                      -0.058746\n",
              "total sulfur dioxide                -0.196620\n",
              "density                             -0.184302\n",
              "pH                                  -0.042738\n",
              "sulphates                            0.380581\n",
              "alcohol                              0.487965"
            ],
            "text/html": [
              "\n",
              "  <div id=\"df-4e2cc409-9fdd-46e7-ba0f-2d9b97e68c6a\">\n",
              "    <div class=\"colab-df-container\">\n",
              "      <div>\n",
              "<style scoped>\n",
              "    .dataframe tbody tr th:only-of-type {\n",
              "        vertical-align: middle;\n",
              "    }\n",
              "\n",
              "    .dataframe tbody tr th {\n",
              "        vertical-align: top;\n",
              "    }\n",
              "\n",
              "    .dataframe thead th {\n",
              "        text-align: right;\n",
              "    }\n",
              "</style>\n",
              "<table border=\"1\" class=\"dataframe\">\n",
              "  <thead>\n",
              "    <tr style=\"text-align: right;\">\n",
              "      <th></th>\n",
              "      <th>Correlación total</th>\n",
              "    </tr>\n",
              "  </thead>\n",
              "  <tbody>\n",
              "    <tr>\n",
              "      <th>Fixed acidity - Quality</th>\n",
              "      <td>0.111693</td>\n",
              "    </tr>\n",
              "    <tr>\n",
              "      <th>Volatile acidity - Quality</th>\n",
              "      <td>-0.387450</td>\n",
              "    </tr>\n",
              "    <tr>\n",
              "      <th>Citric acid - Quality</th>\n",
              "      <td>0.219427</td>\n",
              "    </tr>\n",
              "    <tr>\n",
              "      <th>Residual suga - Quality</th>\n",
              "      <td>0.025749</td>\n",
              "    </tr>\n",
              "    <tr>\n",
              "      <th>Chlorides - Quality</th>\n",
              "      <td>-0.204360</td>\n",
              "    </tr>\n",
              "    <tr>\n",
              "      <th>sulfur dioxide</th>\n",
              "      <td>-0.058746</td>\n",
              "    </tr>\n",
              "    <tr>\n",
              "      <th>total sulfur dioxide</th>\n",
              "      <td>-0.196620</td>\n",
              "    </tr>\n",
              "    <tr>\n",
              "      <th>density</th>\n",
              "      <td>-0.184302</td>\n",
              "    </tr>\n",
              "    <tr>\n",
              "      <th>pH</th>\n",
              "      <td>-0.042738</td>\n",
              "    </tr>\n",
              "    <tr>\n",
              "      <th>sulphates</th>\n",
              "      <td>0.380581</td>\n",
              "    </tr>\n",
              "    <tr>\n",
              "      <th>alcohol</th>\n",
              "      <td>0.487965</td>\n",
              "    </tr>\n",
              "  </tbody>\n",
              "</table>\n",
              "</div>\n",
              "      <button class=\"colab-df-convert\" onclick=\"convertToInteractive('df-4e2cc409-9fdd-46e7-ba0f-2d9b97e68c6a')\"\n",
              "              title=\"Convert this dataframe to an interactive table.\"\n",
              "              style=\"display:none;\">\n",
              "        \n",
              "  <svg xmlns=\"http://www.w3.org/2000/svg\" height=\"24px\"viewBox=\"0 0 24 24\"\n",
              "       width=\"24px\">\n",
              "    <path d=\"M0 0h24v24H0V0z\" fill=\"none\"/>\n",
              "    <path d=\"M18.56 5.44l.94 2.06.94-2.06 2.06-.94-2.06-.94-.94-2.06-.94 2.06-2.06.94zm-11 1L8.5 8.5l.94-2.06 2.06-.94-2.06-.94L8.5 2.5l-.94 2.06-2.06.94zm10 10l.94 2.06.94-2.06 2.06-.94-2.06-.94-.94-2.06-.94 2.06-2.06.94z\"/><path d=\"M17.41 7.96l-1.37-1.37c-.4-.4-.92-.59-1.43-.59-.52 0-1.04.2-1.43.59L10.3 9.45l-7.72 7.72c-.78.78-.78 2.05 0 2.83L4 21.41c.39.39.9.59 1.41.59.51 0 1.02-.2 1.41-.59l7.78-7.78 2.81-2.81c.8-.78.8-2.07 0-2.86zM5.41 20L4 18.59l7.72-7.72 1.47 1.35L5.41 20z\"/>\n",
              "  </svg>\n",
              "      </button>\n",
              "      \n",
              "  <style>\n",
              "    .colab-df-container {\n",
              "      display:flex;\n",
              "      flex-wrap:wrap;\n",
              "      gap: 12px;\n",
              "    }\n",
              "\n",
              "    .colab-df-convert {\n",
              "      background-color: #E8F0FE;\n",
              "      border: none;\n",
              "      border-radius: 50%;\n",
              "      cursor: pointer;\n",
              "      display: none;\n",
              "      fill: #1967D2;\n",
              "      height: 32px;\n",
              "      padding: 0 0 0 0;\n",
              "      width: 32px;\n",
              "    }\n",
              "\n",
              "    .colab-df-convert:hover {\n",
              "      background-color: #E2EBFA;\n",
              "      box-shadow: 0px 1px 2px rgba(60, 64, 67, 0.3), 0px 1px 3px 1px rgba(60, 64, 67, 0.15);\n",
              "      fill: #174EA6;\n",
              "    }\n",
              "\n",
              "    [theme=dark] .colab-df-convert {\n",
              "      background-color: #3B4455;\n",
              "      fill: #D2E3FC;\n",
              "    }\n",
              "\n",
              "    [theme=dark] .colab-df-convert:hover {\n",
              "      background-color: #434B5C;\n",
              "      box-shadow: 0px 1px 3px 1px rgba(0, 0, 0, 0.15);\n",
              "      filter: drop-shadow(0px 1px 2px rgba(0, 0, 0, 0.3));\n",
              "      fill: #FFFFFF;\n",
              "    }\n",
              "  </style>\n",
              "\n",
              "      <script>\n",
              "        const buttonEl =\n",
              "          document.querySelector('#df-4e2cc409-9fdd-46e7-ba0f-2d9b97e68c6a button.colab-df-convert');\n",
              "        buttonEl.style.display =\n",
              "          google.colab.kernel.accessAllowed ? 'block' : 'none';\n",
              "\n",
              "        async function convertToInteractive(key) {\n",
              "          const element = document.querySelector('#df-4e2cc409-9fdd-46e7-ba0f-2d9b97e68c6a');\n",
              "          const dataTable =\n",
              "            await google.colab.kernel.invokeFunction('convertToInteractive',\n",
              "                                                     [key], {});\n",
              "          if (!dataTable) return;\n",
              "\n",
              "          const docLinkHtml = 'Like what you see? Visit the ' +\n",
              "            '<a target=\"_blank\" href=https://colab.research.google.com/notebooks/data_table.ipynb>data table notebook</a>'\n",
              "            + ' to learn more about interactive tables.';\n",
              "          element.innerHTML = '';\n",
              "          dataTable['output_type'] = 'display_data';\n",
              "          await google.colab.output.renderOutput(dataTable, element);\n",
              "          const docLink = document.createElement('div');\n",
              "          docLink.innerHTML = docLinkHtml;\n",
              "          element.appendChild(docLink);\n",
              "        }\n",
              "      </script>\n",
              "    </div>\n",
              "  </div>\n",
              "  "
            ]
          },
          "metadata": {},
          "execution_count": 16
        }
      ]
    },
    {
      "cell_type": "markdown",
      "source": [
        "Podemos observar que todas las variables tienen una correlación baja. La acidez volatil, los sulfatos y el alcohol son los más cercanos a tener un tipo de relación directa o indirecta con la calidad del vino. Por lo tanto decido analizar las carácteristicas estidisticas de una forma categórica, mediante categorias de calidad del vino. Siendo de 3-4 Baja. 4-5 Media. 6-8 Alta."
      ],
      "metadata": {
        "id": "CvW-uMKj0GC_"
      }
    },
    {
      "cell_type": "code",
      "source": [
        "filter_low = red_wine[red_wine.quality.isin([3,4])]\n",
        "filter_low.describe().T"
      ],
      "metadata": {
        "id": "U0eyJxPG1YMD",
        "colab": {
          "base_uri": "https://localhost:8080/",
          "height": 425
        },
        "outputId": "7ae2868a-cbe1-4db1-c232-af7bc608a5ab"
      },
      "execution_count": null,
      "outputs": [
        {
          "output_type": "execute_result",
          "data": {
            "text/plain": [
              "                      count       mean        std     min        25%      50%  \\\n",
              "fixed acidity          63.0   7.871429   1.649284  4.6000   6.800000   7.5000   \n",
              "volatile acidity       63.0   0.724206   0.247970  0.2300   0.565000   0.6800   \n",
              "citric acid            63.0   0.173651   0.207406  0.0000   0.020000   0.0800   \n",
              "residual sugar         63.0   2.684921   1.723735  1.2000   1.900000   2.1000   \n",
              "chlorides              63.0   0.095730   0.075121  0.0450   0.068500   0.0800   \n",
              "free sulfur dioxide    63.0  12.063492   9.076508  3.0000   5.000000   9.0000   \n",
              "total sulfur dioxide   63.0  34.444444  26.395123  7.0000  13.500000  26.0000   \n",
              "density                63.0   0.996689   0.001667  0.9934   0.995655   0.9966   \n",
              "pH                     63.0   3.384127   0.175100  2.7400   3.300000   3.3800   \n",
              "sulphates              63.0   0.592222   0.224323  0.3300   0.495000   0.5600   \n",
              "alcohol                63.0  10.215873   0.918178  8.4000   9.600000  10.0000   \n",
              "quality                63.0   3.841270   0.368359  3.0000   4.000000   4.0000   \n",
              "\n",
              "                          75%      max  \n",
              "fixed acidity          8.4000   12.500  \n",
              "volatile acidity       0.8825    1.580  \n",
              "citric acid            0.2700    1.000  \n",
              "residual sugar         2.9500   12.900  \n",
              "chlorides              0.0945    0.610  \n",
              "free sulfur dioxide   15.5000   41.000  \n",
              "total sulfur dioxide  48.0000  119.000  \n",
              "density                0.9977    1.001  \n",
              "pH                     3.5000    3.900  \n",
              "sulphates              0.6000    2.000  \n",
              "alcohol               11.0000   13.100  \n",
              "quality                4.0000    4.000  "
            ],
            "text/html": [
              "\n",
              "  <div id=\"df-f978d95b-93f0-460c-b63f-c97194a563fb\">\n",
              "    <div class=\"colab-df-container\">\n",
              "      <div>\n",
              "<style scoped>\n",
              "    .dataframe tbody tr th:only-of-type {\n",
              "        vertical-align: middle;\n",
              "    }\n",
              "\n",
              "    .dataframe tbody tr th {\n",
              "        vertical-align: top;\n",
              "    }\n",
              "\n",
              "    .dataframe thead th {\n",
              "        text-align: right;\n",
              "    }\n",
              "</style>\n",
              "<table border=\"1\" class=\"dataframe\">\n",
              "  <thead>\n",
              "    <tr style=\"text-align: right;\">\n",
              "      <th></th>\n",
              "      <th>count</th>\n",
              "      <th>mean</th>\n",
              "      <th>std</th>\n",
              "      <th>min</th>\n",
              "      <th>25%</th>\n",
              "      <th>50%</th>\n",
              "      <th>75%</th>\n",
              "      <th>max</th>\n",
              "    </tr>\n",
              "  </thead>\n",
              "  <tbody>\n",
              "    <tr>\n",
              "      <th>fixed acidity</th>\n",
              "      <td>63.0</td>\n",
              "      <td>7.871429</td>\n",
              "      <td>1.649284</td>\n",
              "      <td>4.6000</td>\n",
              "      <td>6.800000</td>\n",
              "      <td>7.5000</td>\n",
              "      <td>8.4000</td>\n",
              "      <td>12.500</td>\n",
              "    </tr>\n",
              "    <tr>\n",
              "      <th>volatile acidity</th>\n",
              "      <td>63.0</td>\n",
              "      <td>0.724206</td>\n",
              "      <td>0.247970</td>\n",
              "      <td>0.2300</td>\n",
              "      <td>0.565000</td>\n",
              "      <td>0.6800</td>\n",
              "      <td>0.8825</td>\n",
              "      <td>1.580</td>\n",
              "    </tr>\n",
              "    <tr>\n",
              "      <th>citric acid</th>\n",
              "      <td>63.0</td>\n",
              "      <td>0.173651</td>\n",
              "      <td>0.207406</td>\n",
              "      <td>0.0000</td>\n",
              "      <td>0.020000</td>\n",
              "      <td>0.0800</td>\n",
              "      <td>0.2700</td>\n",
              "      <td>1.000</td>\n",
              "    </tr>\n",
              "    <tr>\n",
              "      <th>residual sugar</th>\n",
              "      <td>63.0</td>\n",
              "      <td>2.684921</td>\n",
              "      <td>1.723735</td>\n",
              "      <td>1.2000</td>\n",
              "      <td>1.900000</td>\n",
              "      <td>2.1000</td>\n",
              "      <td>2.9500</td>\n",
              "      <td>12.900</td>\n",
              "    </tr>\n",
              "    <tr>\n",
              "      <th>chlorides</th>\n",
              "      <td>63.0</td>\n",
              "      <td>0.095730</td>\n",
              "      <td>0.075121</td>\n",
              "      <td>0.0450</td>\n",
              "      <td>0.068500</td>\n",
              "      <td>0.0800</td>\n",
              "      <td>0.0945</td>\n",
              "      <td>0.610</td>\n",
              "    </tr>\n",
              "    <tr>\n",
              "      <th>free sulfur dioxide</th>\n",
              "      <td>63.0</td>\n",
              "      <td>12.063492</td>\n",
              "      <td>9.076508</td>\n",
              "      <td>3.0000</td>\n",
              "      <td>5.000000</td>\n",
              "      <td>9.0000</td>\n",
              "      <td>15.5000</td>\n",
              "      <td>41.000</td>\n",
              "    </tr>\n",
              "    <tr>\n",
              "      <th>total sulfur dioxide</th>\n",
              "      <td>63.0</td>\n",
              "      <td>34.444444</td>\n",
              "      <td>26.395123</td>\n",
              "      <td>7.0000</td>\n",
              "      <td>13.500000</td>\n",
              "      <td>26.0000</td>\n",
              "      <td>48.0000</td>\n",
              "      <td>119.000</td>\n",
              "    </tr>\n",
              "    <tr>\n",
              "      <th>density</th>\n",
              "      <td>63.0</td>\n",
              "      <td>0.996689</td>\n",
              "      <td>0.001667</td>\n",
              "      <td>0.9934</td>\n",
              "      <td>0.995655</td>\n",
              "      <td>0.9966</td>\n",
              "      <td>0.9977</td>\n",
              "      <td>1.001</td>\n",
              "    </tr>\n",
              "    <tr>\n",
              "      <th>pH</th>\n",
              "      <td>63.0</td>\n",
              "      <td>3.384127</td>\n",
              "      <td>0.175100</td>\n",
              "      <td>2.7400</td>\n",
              "      <td>3.300000</td>\n",
              "      <td>3.3800</td>\n",
              "      <td>3.5000</td>\n",
              "      <td>3.900</td>\n",
              "    </tr>\n",
              "    <tr>\n",
              "      <th>sulphates</th>\n",
              "      <td>63.0</td>\n",
              "      <td>0.592222</td>\n",
              "      <td>0.224323</td>\n",
              "      <td>0.3300</td>\n",
              "      <td>0.495000</td>\n",
              "      <td>0.5600</td>\n",
              "      <td>0.6000</td>\n",
              "      <td>2.000</td>\n",
              "    </tr>\n",
              "    <tr>\n",
              "      <th>alcohol</th>\n",
              "      <td>63.0</td>\n",
              "      <td>10.215873</td>\n",
              "      <td>0.918178</td>\n",
              "      <td>8.4000</td>\n",
              "      <td>9.600000</td>\n",
              "      <td>10.0000</td>\n",
              "      <td>11.0000</td>\n",
              "      <td>13.100</td>\n",
              "    </tr>\n",
              "    <tr>\n",
              "      <th>quality</th>\n",
              "      <td>63.0</td>\n",
              "      <td>3.841270</td>\n",
              "      <td>0.368359</td>\n",
              "      <td>3.0000</td>\n",
              "      <td>4.000000</td>\n",
              "      <td>4.0000</td>\n",
              "      <td>4.0000</td>\n",
              "      <td>4.000</td>\n",
              "    </tr>\n",
              "  </tbody>\n",
              "</table>\n",
              "</div>\n",
              "      <button class=\"colab-df-convert\" onclick=\"convertToInteractive('df-f978d95b-93f0-460c-b63f-c97194a563fb')\"\n",
              "              title=\"Convert this dataframe to an interactive table.\"\n",
              "              style=\"display:none;\">\n",
              "        \n",
              "  <svg xmlns=\"http://www.w3.org/2000/svg\" height=\"24px\"viewBox=\"0 0 24 24\"\n",
              "       width=\"24px\">\n",
              "    <path d=\"M0 0h24v24H0V0z\" fill=\"none\"/>\n",
              "    <path d=\"M18.56 5.44l.94 2.06.94-2.06 2.06-.94-2.06-.94-.94-2.06-.94 2.06-2.06.94zm-11 1L8.5 8.5l.94-2.06 2.06-.94-2.06-.94L8.5 2.5l-.94 2.06-2.06.94zm10 10l.94 2.06.94-2.06 2.06-.94-2.06-.94-.94-2.06-.94 2.06-2.06.94z\"/><path d=\"M17.41 7.96l-1.37-1.37c-.4-.4-.92-.59-1.43-.59-.52 0-1.04.2-1.43.59L10.3 9.45l-7.72 7.72c-.78.78-.78 2.05 0 2.83L4 21.41c.39.39.9.59 1.41.59.51 0 1.02-.2 1.41-.59l7.78-7.78 2.81-2.81c.8-.78.8-2.07 0-2.86zM5.41 20L4 18.59l7.72-7.72 1.47 1.35L5.41 20z\"/>\n",
              "  </svg>\n",
              "      </button>\n",
              "      \n",
              "  <style>\n",
              "    .colab-df-container {\n",
              "      display:flex;\n",
              "      flex-wrap:wrap;\n",
              "      gap: 12px;\n",
              "    }\n",
              "\n",
              "    .colab-df-convert {\n",
              "      background-color: #E8F0FE;\n",
              "      border: none;\n",
              "      border-radius: 50%;\n",
              "      cursor: pointer;\n",
              "      display: none;\n",
              "      fill: #1967D2;\n",
              "      height: 32px;\n",
              "      padding: 0 0 0 0;\n",
              "      width: 32px;\n",
              "    }\n",
              "\n",
              "    .colab-df-convert:hover {\n",
              "      background-color: #E2EBFA;\n",
              "      box-shadow: 0px 1px 2px rgba(60, 64, 67, 0.3), 0px 1px 3px 1px rgba(60, 64, 67, 0.15);\n",
              "      fill: #174EA6;\n",
              "    }\n",
              "\n",
              "    [theme=dark] .colab-df-convert {\n",
              "      background-color: #3B4455;\n",
              "      fill: #D2E3FC;\n",
              "    }\n",
              "\n",
              "    [theme=dark] .colab-df-convert:hover {\n",
              "      background-color: #434B5C;\n",
              "      box-shadow: 0px 1px 3px 1px rgba(0, 0, 0, 0.15);\n",
              "      filter: drop-shadow(0px 1px 2px rgba(0, 0, 0, 0.3));\n",
              "      fill: #FFFFFF;\n",
              "    }\n",
              "  </style>\n",
              "\n",
              "      <script>\n",
              "        const buttonEl =\n",
              "          document.querySelector('#df-f978d95b-93f0-460c-b63f-c97194a563fb button.colab-df-convert');\n",
              "        buttonEl.style.display =\n",
              "          google.colab.kernel.accessAllowed ? 'block' : 'none';\n",
              "\n",
              "        async function convertToInteractive(key) {\n",
              "          const element = document.querySelector('#df-f978d95b-93f0-460c-b63f-c97194a563fb');\n",
              "          const dataTable =\n",
              "            await google.colab.kernel.invokeFunction('convertToInteractive',\n",
              "                                                     [key], {});\n",
              "          if (!dataTable) return;\n",
              "\n",
              "          const docLinkHtml = 'Like what you see? Visit the ' +\n",
              "            '<a target=\"_blank\" href=https://colab.research.google.com/notebooks/data_table.ipynb>data table notebook</a>'\n",
              "            + ' to learn more about interactive tables.';\n",
              "          element.innerHTML = '';\n",
              "          dataTable['output_type'] = 'display_data';\n",
              "          await google.colab.output.renderOutput(dataTable, element);\n",
              "          const docLink = document.createElement('div');\n",
              "          docLink.innerHTML = docLinkHtml;\n",
              "          element.appendChild(docLink);\n",
              "        }\n",
              "      </script>\n",
              "    </div>\n",
              "  </div>\n",
              "  "
            ]
          },
          "metadata": {},
          "execution_count": 17
        }
      ]
    },
    {
      "cell_type": "code",
      "source": [
        "filter_med = red_wine[red_wine.quality.isin([5,6])]\n",
        "filter_med.describe().T"
      ],
      "metadata": {
        "colab": {
          "base_uri": "https://localhost:8080/",
          "height": 425
        },
        "id": "HO9gsUY8xl-O",
        "outputId": "9dfdf0c4-2629-4bb1-dce2-09b8c9f26a37"
      },
      "execution_count": null,
      "outputs": [
        {
          "output_type": "execute_result",
          "data": {
            "text/plain": [
              "                       count       mean        std      min       25%  \\\n",
              "fixed acidity         1112.0   8.251169   1.682220  4.70000   7.10000   \n",
              "volatile acidity      1112.0   0.538898   0.171598  0.16000   0.41000   \n",
              "citric acid           1112.0   0.261286   0.189294  0.00000   0.09000   \n",
              "residual sugar        1112.0   2.484397   1.322635  0.90000   1.90000   \n",
              "chlorides             1112.0   0.089691   0.049863  0.03400   0.07100   \n",
              "free sulfur dioxide   1112.0  16.428058  10.471974  1.00000   8.00000   \n",
              "total sulfur dioxide  1112.0  49.424910  33.084561  6.00000  24.00000   \n",
              "density               1112.0   0.996834   0.001797  0.99007   0.99578   \n",
              "pH                    1112.0   3.309083   0.152797  2.86000   3.21000   \n",
              "sulphates             1112.0   0.648094   0.168007  0.37000   0.54000   \n",
              "alcohol               1112.0  10.259173   0.987294  8.40000   9.50000   \n",
              "quality               1112.0   5.481115   0.499868  5.00000   5.00000   \n",
              "\n",
              "                          50%      75%        max  \n",
              "fixed acidity          7.8000   9.1000   15.90000  \n",
              "volatile acidity       0.5350   0.6450    1.33000  \n",
              "citric acid            0.2400   0.4100    0.79000  \n",
              "residual sugar         2.2000   2.6000   15.50000  \n",
              "chlorides              0.0800   0.0910    0.61100  \n",
              "free sulfur dioxide   15.0000  23.0000   72.00000  \n",
              "total sulfur dioxide  41.0000  66.0000  165.00000  \n",
              "density                0.9968   0.9979    1.00369  \n",
              "pH                     3.3100   3.4000    4.01000  \n",
              "sulphates              0.6100   0.7000    1.98000  \n",
              "alcohol               10.0000  10.9000   14.90000  \n",
              "quality                5.0000   6.0000    6.00000  "
            ],
            "text/html": [
              "\n",
              "  <div id=\"df-40befedf-8a1f-4677-8fda-3aca5a8e5fdd\">\n",
              "    <div class=\"colab-df-container\">\n",
              "      <div>\n",
              "<style scoped>\n",
              "    .dataframe tbody tr th:only-of-type {\n",
              "        vertical-align: middle;\n",
              "    }\n",
              "\n",
              "    .dataframe tbody tr th {\n",
              "        vertical-align: top;\n",
              "    }\n",
              "\n",
              "    .dataframe thead th {\n",
              "        text-align: right;\n",
              "    }\n",
              "</style>\n",
              "<table border=\"1\" class=\"dataframe\">\n",
              "  <thead>\n",
              "    <tr style=\"text-align: right;\">\n",
              "      <th></th>\n",
              "      <th>count</th>\n",
              "      <th>mean</th>\n",
              "      <th>std</th>\n",
              "      <th>min</th>\n",
              "      <th>25%</th>\n",
              "      <th>50%</th>\n",
              "      <th>75%</th>\n",
              "      <th>max</th>\n",
              "    </tr>\n",
              "  </thead>\n",
              "  <tbody>\n",
              "    <tr>\n",
              "      <th>fixed acidity</th>\n",
              "      <td>1112.0</td>\n",
              "      <td>8.251169</td>\n",
              "      <td>1.682220</td>\n",
              "      <td>4.70000</td>\n",
              "      <td>7.10000</td>\n",
              "      <td>7.8000</td>\n",
              "      <td>9.1000</td>\n",
              "      <td>15.90000</td>\n",
              "    </tr>\n",
              "    <tr>\n",
              "      <th>volatile acidity</th>\n",
              "      <td>1112.0</td>\n",
              "      <td>0.538898</td>\n",
              "      <td>0.171598</td>\n",
              "      <td>0.16000</td>\n",
              "      <td>0.41000</td>\n",
              "      <td>0.5350</td>\n",
              "      <td>0.6450</td>\n",
              "      <td>1.33000</td>\n",
              "    </tr>\n",
              "    <tr>\n",
              "      <th>citric acid</th>\n",
              "      <td>1112.0</td>\n",
              "      <td>0.261286</td>\n",
              "      <td>0.189294</td>\n",
              "      <td>0.00000</td>\n",
              "      <td>0.09000</td>\n",
              "      <td>0.2400</td>\n",
              "      <td>0.4100</td>\n",
              "      <td>0.79000</td>\n",
              "    </tr>\n",
              "    <tr>\n",
              "      <th>residual sugar</th>\n",
              "      <td>1112.0</td>\n",
              "      <td>2.484397</td>\n",
              "      <td>1.322635</td>\n",
              "      <td>0.90000</td>\n",
              "      <td>1.90000</td>\n",
              "      <td>2.2000</td>\n",
              "      <td>2.6000</td>\n",
              "      <td>15.50000</td>\n",
              "    </tr>\n",
              "    <tr>\n",
              "      <th>chlorides</th>\n",
              "      <td>1112.0</td>\n",
              "      <td>0.089691</td>\n",
              "      <td>0.049863</td>\n",
              "      <td>0.03400</td>\n",
              "      <td>0.07100</td>\n",
              "      <td>0.0800</td>\n",
              "      <td>0.0910</td>\n",
              "      <td>0.61100</td>\n",
              "    </tr>\n",
              "    <tr>\n",
              "      <th>free sulfur dioxide</th>\n",
              "      <td>1112.0</td>\n",
              "      <td>16.428058</td>\n",
              "      <td>10.471974</td>\n",
              "      <td>1.00000</td>\n",
              "      <td>8.00000</td>\n",
              "      <td>15.0000</td>\n",
              "      <td>23.0000</td>\n",
              "      <td>72.00000</td>\n",
              "    </tr>\n",
              "    <tr>\n",
              "      <th>total sulfur dioxide</th>\n",
              "      <td>1112.0</td>\n",
              "      <td>49.424910</td>\n",
              "      <td>33.084561</td>\n",
              "      <td>6.00000</td>\n",
              "      <td>24.00000</td>\n",
              "      <td>41.0000</td>\n",
              "      <td>66.0000</td>\n",
              "      <td>165.00000</td>\n",
              "    </tr>\n",
              "    <tr>\n",
              "      <th>density</th>\n",
              "      <td>1112.0</td>\n",
              "      <td>0.996834</td>\n",
              "      <td>0.001797</td>\n",
              "      <td>0.99007</td>\n",
              "      <td>0.99578</td>\n",
              "      <td>0.9968</td>\n",
              "      <td>0.9979</td>\n",
              "      <td>1.00369</td>\n",
              "    </tr>\n",
              "    <tr>\n",
              "      <th>pH</th>\n",
              "      <td>1112.0</td>\n",
              "      <td>3.309083</td>\n",
              "      <td>0.152797</td>\n",
              "      <td>2.86000</td>\n",
              "      <td>3.21000</td>\n",
              "      <td>3.3100</td>\n",
              "      <td>3.4000</td>\n",
              "      <td>4.01000</td>\n",
              "    </tr>\n",
              "    <tr>\n",
              "      <th>sulphates</th>\n",
              "      <td>1112.0</td>\n",
              "      <td>0.648094</td>\n",
              "      <td>0.168007</td>\n",
              "      <td>0.37000</td>\n",
              "      <td>0.54000</td>\n",
              "      <td>0.6100</td>\n",
              "      <td>0.7000</td>\n",
              "      <td>1.98000</td>\n",
              "    </tr>\n",
              "    <tr>\n",
              "      <th>alcohol</th>\n",
              "      <td>1112.0</td>\n",
              "      <td>10.259173</td>\n",
              "      <td>0.987294</td>\n",
              "      <td>8.40000</td>\n",
              "      <td>9.50000</td>\n",
              "      <td>10.0000</td>\n",
              "      <td>10.9000</td>\n",
              "      <td>14.90000</td>\n",
              "    </tr>\n",
              "    <tr>\n",
              "      <th>quality</th>\n",
              "      <td>1112.0</td>\n",
              "      <td>5.481115</td>\n",
              "      <td>0.499868</td>\n",
              "      <td>5.00000</td>\n",
              "      <td>5.00000</td>\n",
              "      <td>5.0000</td>\n",
              "      <td>6.0000</td>\n",
              "      <td>6.00000</td>\n",
              "    </tr>\n",
              "  </tbody>\n",
              "</table>\n",
              "</div>\n",
              "      <button class=\"colab-df-convert\" onclick=\"convertToInteractive('df-40befedf-8a1f-4677-8fda-3aca5a8e5fdd')\"\n",
              "              title=\"Convert this dataframe to an interactive table.\"\n",
              "              style=\"display:none;\">\n",
              "        \n",
              "  <svg xmlns=\"http://www.w3.org/2000/svg\" height=\"24px\"viewBox=\"0 0 24 24\"\n",
              "       width=\"24px\">\n",
              "    <path d=\"M0 0h24v24H0V0z\" fill=\"none\"/>\n",
              "    <path d=\"M18.56 5.44l.94 2.06.94-2.06 2.06-.94-2.06-.94-.94-2.06-.94 2.06-2.06.94zm-11 1L8.5 8.5l.94-2.06 2.06-.94-2.06-.94L8.5 2.5l-.94 2.06-2.06.94zm10 10l.94 2.06.94-2.06 2.06-.94-2.06-.94-.94-2.06-.94 2.06-2.06.94z\"/><path d=\"M17.41 7.96l-1.37-1.37c-.4-.4-.92-.59-1.43-.59-.52 0-1.04.2-1.43.59L10.3 9.45l-7.72 7.72c-.78.78-.78 2.05 0 2.83L4 21.41c.39.39.9.59 1.41.59.51 0 1.02-.2 1.41-.59l7.78-7.78 2.81-2.81c.8-.78.8-2.07 0-2.86zM5.41 20L4 18.59l7.72-7.72 1.47 1.35L5.41 20z\"/>\n",
              "  </svg>\n",
              "      </button>\n",
              "      \n",
              "  <style>\n",
              "    .colab-df-container {\n",
              "      display:flex;\n",
              "      flex-wrap:wrap;\n",
              "      gap: 12px;\n",
              "    }\n",
              "\n",
              "    .colab-df-convert {\n",
              "      background-color: #E8F0FE;\n",
              "      border: none;\n",
              "      border-radius: 50%;\n",
              "      cursor: pointer;\n",
              "      display: none;\n",
              "      fill: #1967D2;\n",
              "      height: 32px;\n",
              "      padding: 0 0 0 0;\n",
              "      width: 32px;\n",
              "    }\n",
              "\n",
              "    .colab-df-convert:hover {\n",
              "      background-color: #E2EBFA;\n",
              "      box-shadow: 0px 1px 2px rgba(60, 64, 67, 0.3), 0px 1px 3px 1px rgba(60, 64, 67, 0.15);\n",
              "      fill: #174EA6;\n",
              "    }\n",
              "\n",
              "    [theme=dark] .colab-df-convert {\n",
              "      background-color: #3B4455;\n",
              "      fill: #D2E3FC;\n",
              "    }\n",
              "\n",
              "    [theme=dark] .colab-df-convert:hover {\n",
              "      background-color: #434B5C;\n",
              "      box-shadow: 0px 1px 3px 1px rgba(0, 0, 0, 0.15);\n",
              "      filter: drop-shadow(0px 1px 2px rgba(0, 0, 0, 0.3));\n",
              "      fill: #FFFFFF;\n",
              "    }\n",
              "  </style>\n",
              "\n",
              "      <script>\n",
              "        const buttonEl =\n",
              "          document.querySelector('#df-40befedf-8a1f-4677-8fda-3aca5a8e5fdd button.colab-df-convert');\n",
              "        buttonEl.style.display =\n",
              "          google.colab.kernel.accessAllowed ? 'block' : 'none';\n",
              "\n",
              "        async function convertToInteractive(key) {\n",
              "          const element = document.querySelector('#df-40befedf-8a1f-4677-8fda-3aca5a8e5fdd');\n",
              "          const dataTable =\n",
              "            await google.colab.kernel.invokeFunction('convertToInteractive',\n",
              "                                                     [key], {});\n",
              "          if (!dataTable) return;\n",
              "\n",
              "          const docLinkHtml = 'Like what you see? Visit the ' +\n",
              "            '<a target=\"_blank\" href=https://colab.research.google.com/notebooks/data_table.ipynb>data table notebook</a>'\n",
              "            + ' to learn more about interactive tables.';\n",
              "          element.innerHTML = '';\n",
              "          dataTable['output_type'] = 'display_data';\n",
              "          await google.colab.output.renderOutput(dataTable, element);\n",
              "          const docLink = document.createElement('div');\n",
              "          docLink.innerHTML = docLinkHtml;\n",
              "          element.appendChild(docLink);\n",
              "        }\n",
              "      </script>\n",
              "    </div>\n",
              "  </div>\n",
              "  "
            ]
          },
          "metadata": {},
          "execution_count": 18
        }
      ]
    },
    {
      "cell_type": "code",
      "source": [
        "filter_high = red_wine[red_wine.quality.isin([7,8])]\n",
        "filter_high.describe().T"
      ],
      "metadata": {
        "colab": {
          "base_uri": "https://localhost:8080/",
          "height": 425
        },
        "id": "_Pt50a8-uX5w",
        "outputId": "bd336a1f-fba3-4249-cb35-a5a538d27f8a"
      },
      "execution_count": null,
      "outputs": [
        {
          "output_type": "execute_result",
          "data": {
            "text/plain": [
              "                      count       mean        std      min        25%  \\\n",
              "fixed acidity         184.0   8.820109   1.984634  4.90000   7.400000   \n",
              "volatile acidity      184.0   0.405870   0.141576  0.12000   0.310000   \n",
              "citric acid           184.0   0.372880   0.193280  0.00000   0.300000   \n",
              "residual sugar        184.0   2.703804   1.375751  1.20000   1.900000   \n",
              "chlorides             184.0   0.076049   0.030076  0.01200   0.062000   \n",
              "free sulfur dioxide   184.0  13.972826  10.284575  3.00000   6.000000   \n",
              "total sulfur dioxide  184.0  35.358696  34.283798  7.00000  17.000000   \n",
              "density               184.0   0.995963   0.002172  0.99064   0.994665   \n",
              "pH                    184.0   3.288587   0.154542  2.88000   3.200000   \n",
              "sulphates             184.0   0.745598   0.133926  0.39000   0.657500   \n",
              "alcohol               184.0  11.552808   1.012276  9.20000  10.800000   \n",
              "quality               184.0   7.092391   0.290368  7.00000   7.000000   \n",
              "\n",
              "                          50%        75%       max  \n",
              "fixed acidity          8.7000  10.100000   15.6000  \n",
              "volatile acidity       0.3700   0.482500    0.9150  \n",
              "citric acid            0.4000   0.490000    0.7600  \n",
              "residual sugar         2.3000   2.800000    8.9000  \n",
              "chlorides              0.0715   0.085000    0.3580  \n",
              "free sulfur dioxide   11.0000  17.000000   54.0000  \n",
              "total sulfur dioxide  26.5000  42.250000  289.0000  \n",
              "density                0.9957   0.997305    1.0032  \n",
              "pH                     3.2700   3.370000    3.7800  \n",
              "sulphates              0.7400   0.820000    1.3600  \n",
              "alcohol               11.6000  12.300000   14.0000  \n",
              "quality                7.0000   7.000000    8.0000  "
            ],
            "text/html": [
              "\n",
              "  <div id=\"df-150aa59a-42e1-4742-a740-8f979004e8b7\">\n",
              "    <div class=\"colab-df-container\">\n",
              "      <div>\n",
              "<style scoped>\n",
              "    .dataframe tbody tr th:only-of-type {\n",
              "        vertical-align: middle;\n",
              "    }\n",
              "\n",
              "    .dataframe tbody tr th {\n",
              "        vertical-align: top;\n",
              "    }\n",
              "\n",
              "    .dataframe thead th {\n",
              "        text-align: right;\n",
              "    }\n",
              "</style>\n",
              "<table border=\"1\" class=\"dataframe\">\n",
              "  <thead>\n",
              "    <tr style=\"text-align: right;\">\n",
              "      <th></th>\n",
              "      <th>count</th>\n",
              "      <th>mean</th>\n",
              "      <th>std</th>\n",
              "      <th>min</th>\n",
              "      <th>25%</th>\n",
              "      <th>50%</th>\n",
              "      <th>75%</th>\n",
              "      <th>max</th>\n",
              "    </tr>\n",
              "  </thead>\n",
              "  <tbody>\n",
              "    <tr>\n",
              "      <th>fixed acidity</th>\n",
              "      <td>184.0</td>\n",
              "      <td>8.820109</td>\n",
              "      <td>1.984634</td>\n",
              "      <td>4.90000</td>\n",
              "      <td>7.400000</td>\n",
              "      <td>8.7000</td>\n",
              "      <td>10.100000</td>\n",
              "      <td>15.6000</td>\n",
              "    </tr>\n",
              "    <tr>\n",
              "      <th>volatile acidity</th>\n",
              "      <td>184.0</td>\n",
              "      <td>0.405870</td>\n",
              "      <td>0.141576</td>\n",
              "      <td>0.12000</td>\n",
              "      <td>0.310000</td>\n",
              "      <td>0.3700</td>\n",
              "      <td>0.482500</td>\n",
              "      <td>0.9150</td>\n",
              "    </tr>\n",
              "    <tr>\n",
              "      <th>citric acid</th>\n",
              "      <td>184.0</td>\n",
              "      <td>0.372880</td>\n",
              "      <td>0.193280</td>\n",
              "      <td>0.00000</td>\n",
              "      <td>0.300000</td>\n",
              "      <td>0.4000</td>\n",
              "      <td>0.490000</td>\n",
              "      <td>0.7600</td>\n",
              "    </tr>\n",
              "    <tr>\n",
              "      <th>residual sugar</th>\n",
              "      <td>184.0</td>\n",
              "      <td>2.703804</td>\n",
              "      <td>1.375751</td>\n",
              "      <td>1.20000</td>\n",
              "      <td>1.900000</td>\n",
              "      <td>2.3000</td>\n",
              "      <td>2.800000</td>\n",
              "      <td>8.9000</td>\n",
              "    </tr>\n",
              "    <tr>\n",
              "      <th>chlorides</th>\n",
              "      <td>184.0</td>\n",
              "      <td>0.076049</td>\n",
              "      <td>0.030076</td>\n",
              "      <td>0.01200</td>\n",
              "      <td>0.062000</td>\n",
              "      <td>0.0715</td>\n",
              "      <td>0.085000</td>\n",
              "      <td>0.3580</td>\n",
              "    </tr>\n",
              "    <tr>\n",
              "      <th>free sulfur dioxide</th>\n",
              "      <td>184.0</td>\n",
              "      <td>13.972826</td>\n",
              "      <td>10.284575</td>\n",
              "      <td>3.00000</td>\n",
              "      <td>6.000000</td>\n",
              "      <td>11.0000</td>\n",
              "      <td>17.000000</td>\n",
              "      <td>54.0000</td>\n",
              "    </tr>\n",
              "    <tr>\n",
              "      <th>total sulfur dioxide</th>\n",
              "      <td>184.0</td>\n",
              "      <td>35.358696</td>\n",
              "      <td>34.283798</td>\n",
              "      <td>7.00000</td>\n",
              "      <td>17.000000</td>\n",
              "      <td>26.5000</td>\n",
              "      <td>42.250000</td>\n",
              "      <td>289.0000</td>\n",
              "    </tr>\n",
              "    <tr>\n",
              "      <th>density</th>\n",
              "      <td>184.0</td>\n",
              "      <td>0.995963</td>\n",
              "      <td>0.002172</td>\n",
              "      <td>0.99064</td>\n",
              "      <td>0.994665</td>\n",
              "      <td>0.9957</td>\n",
              "      <td>0.997305</td>\n",
              "      <td>1.0032</td>\n",
              "    </tr>\n",
              "    <tr>\n",
              "      <th>pH</th>\n",
              "      <td>184.0</td>\n",
              "      <td>3.288587</td>\n",
              "      <td>0.154542</td>\n",
              "      <td>2.88000</td>\n",
              "      <td>3.200000</td>\n",
              "      <td>3.2700</td>\n",
              "      <td>3.370000</td>\n",
              "      <td>3.7800</td>\n",
              "    </tr>\n",
              "    <tr>\n",
              "      <th>sulphates</th>\n",
              "      <td>184.0</td>\n",
              "      <td>0.745598</td>\n",
              "      <td>0.133926</td>\n",
              "      <td>0.39000</td>\n",
              "      <td>0.657500</td>\n",
              "      <td>0.7400</td>\n",
              "      <td>0.820000</td>\n",
              "      <td>1.3600</td>\n",
              "    </tr>\n",
              "    <tr>\n",
              "      <th>alcohol</th>\n",
              "      <td>184.0</td>\n",
              "      <td>11.552808</td>\n",
              "      <td>1.012276</td>\n",
              "      <td>9.20000</td>\n",
              "      <td>10.800000</td>\n",
              "      <td>11.6000</td>\n",
              "      <td>12.300000</td>\n",
              "      <td>14.0000</td>\n",
              "    </tr>\n",
              "    <tr>\n",
              "      <th>quality</th>\n",
              "      <td>184.0</td>\n",
              "      <td>7.092391</td>\n",
              "      <td>0.290368</td>\n",
              "      <td>7.00000</td>\n",
              "      <td>7.000000</td>\n",
              "      <td>7.0000</td>\n",
              "      <td>7.000000</td>\n",
              "      <td>8.0000</td>\n",
              "    </tr>\n",
              "  </tbody>\n",
              "</table>\n",
              "</div>\n",
              "      <button class=\"colab-df-convert\" onclick=\"convertToInteractive('df-150aa59a-42e1-4742-a740-8f979004e8b7')\"\n",
              "              title=\"Convert this dataframe to an interactive table.\"\n",
              "              style=\"display:none;\">\n",
              "        \n",
              "  <svg xmlns=\"http://www.w3.org/2000/svg\" height=\"24px\"viewBox=\"0 0 24 24\"\n",
              "       width=\"24px\">\n",
              "    <path d=\"M0 0h24v24H0V0z\" fill=\"none\"/>\n",
              "    <path d=\"M18.56 5.44l.94 2.06.94-2.06 2.06-.94-2.06-.94-.94-2.06-.94 2.06-2.06.94zm-11 1L8.5 8.5l.94-2.06 2.06-.94-2.06-.94L8.5 2.5l-.94 2.06-2.06.94zm10 10l.94 2.06.94-2.06 2.06-.94-2.06-.94-.94-2.06-.94 2.06-2.06.94z\"/><path d=\"M17.41 7.96l-1.37-1.37c-.4-.4-.92-.59-1.43-.59-.52 0-1.04.2-1.43.59L10.3 9.45l-7.72 7.72c-.78.78-.78 2.05 0 2.83L4 21.41c.39.39.9.59 1.41.59.51 0 1.02-.2 1.41-.59l7.78-7.78 2.81-2.81c.8-.78.8-2.07 0-2.86zM5.41 20L4 18.59l7.72-7.72 1.47 1.35L5.41 20z\"/>\n",
              "  </svg>\n",
              "      </button>\n",
              "      \n",
              "  <style>\n",
              "    .colab-df-container {\n",
              "      display:flex;\n",
              "      flex-wrap:wrap;\n",
              "      gap: 12px;\n",
              "    }\n",
              "\n",
              "    .colab-df-convert {\n",
              "      background-color: #E8F0FE;\n",
              "      border: none;\n",
              "      border-radius: 50%;\n",
              "      cursor: pointer;\n",
              "      display: none;\n",
              "      fill: #1967D2;\n",
              "      height: 32px;\n",
              "      padding: 0 0 0 0;\n",
              "      width: 32px;\n",
              "    }\n",
              "\n",
              "    .colab-df-convert:hover {\n",
              "      background-color: #E2EBFA;\n",
              "      box-shadow: 0px 1px 2px rgba(60, 64, 67, 0.3), 0px 1px 3px 1px rgba(60, 64, 67, 0.15);\n",
              "      fill: #174EA6;\n",
              "    }\n",
              "\n",
              "    [theme=dark] .colab-df-convert {\n",
              "      background-color: #3B4455;\n",
              "      fill: #D2E3FC;\n",
              "    }\n",
              "\n",
              "    [theme=dark] .colab-df-convert:hover {\n",
              "      background-color: #434B5C;\n",
              "      box-shadow: 0px 1px 3px 1px rgba(0, 0, 0, 0.15);\n",
              "      filter: drop-shadow(0px 1px 2px rgba(0, 0, 0, 0.3));\n",
              "      fill: #FFFFFF;\n",
              "    }\n",
              "  </style>\n",
              "\n",
              "      <script>\n",
              "        const buttonEl =\n",
              "          document.querySelector('#df-150aa59a-42e1-4742-a740-8f979004e8b7 button.colab-df-convert');\n",
              "        buttonEl.style.display =\n",
              "          google.colab.kernel.accessAllowed ? 'block' : 'none';\n",
              "\n",
              "        async function convertToInteractive(key) {\n",
              "          const element = document.querySelector('#df-150aa59a-42e1-4742-a740-8f979004e8b7');\n",
              "          const dataTable =\n",
              "            await google.colab.kernel.invokeFunction('convertToInteractive',\n",
              "                                                     [key], {});\n",
              "          if (!dataTable) return;\n",
              "\n",
              "          const docLinkHtml = 'Like what you see? Visit the ' +\n",
              "            '<a target=\"_blank\" href=https://colab.research.google.com/notebooks/data_table.ipynb>data table notebook</a>'\n",
              "            + ' to learn more about interactive tables.';\n",
              "          element.innerHTML = '';\n",
              "          dataTable['output_type'] = 'display_data';\n",
              "          await google.colab.output.renderOutput(dataTable, element);\n",
              "          const docLink = document.createElement('div');\n",
              "          docLink.innerHTML = docLinkHtml;\n",
              "          element.appendChild(docLink);\n",
              "        }\n",
              "      </script>\n",
              "    </div>\n",
              "  </div>\n",
              "  "
            ]
          },
          "metadata": {},
          "execution_count": 19
        }
      ]
    },
    {
      "cell_type": "markdown",
      "source": [
        "Se concluye que las variables que presentan una correlación moderada con la calidad del vino son: alcohol, sulfatos, y ácidez volatil. De ahora en adelante se trabajará con el análisis de esos parámetros. "
      ],
      "metadata": {
        "id": "atUX2QLh84vF"
      }
    },
    {
      "cell_type": "markdown",
      "source": [
        "##Taller final \"Python-Intermedio\""
      ],
      "metadata": {
        "id": "0PVJShWxzla4"
      }
    },
    {
      "cell_type": "markdown",
      "source": [
        "**1.- Realizar pruebas de normalidad sobre todas las variables numéricas.**"
      ],
      "metadata": {
        "id": "Xaivwrb70rPb"
      }
    },
    {
      "cell_type": "code",
      "source": [
        "#Variable alcohol\n",
        "stat, p = stats.shapiro(red_wine.quality)\n",
        "print('stat=%.3f,p=%.3f' % (stat, p))\n",
        "if p > 0.05: \n",
        "  print('No se rechaza la hipótesis nula de que los datos de alcohol sigan una distribucion normal')\n",
        "else:\n",
        "  print('Se rechaza la hipótesis nula de que los datos de alcohol siguen una distribución normal')"
      ],
      "metadata": {
        "colab": {
          "base_uri": "https://localhost:8080/"
        },
        "id": "lhkF8xDzzgxT",
        "outputId": "f84d5be0-1726-435a-ac2c-e80e5ac8bfa2"
      },
      "execution_count": null,
      "outputs": [
        {
          "output_type": "stream",
          "name": "stdout",
          "text": [
            "stat=0.864,p=0.000\n",
            "Se rechaza la hipótesis nula de que los datos de alcohol siguen una distribución normal\n"
          ]
        }
      ]
    },
    {
      "cell_type": "code",
      "source": [
        "#Variable sulfatos\n",
        "stat, p = stats.shapiro(red_wine.sulphates)\n",
        "print('stat=%.3f,p=%.3f' % (stat, p))\n",
        "if p > 0.05: \n",
        "  print('No se rechaza la hipótesis nula de que los datos de sulfatos sigan una distribucion normal')\n",
        "else:\n",
        "  print('Se rechaza la hipótesis nula de que los datos de sulfatos siguen una distribución normal')"
      ],
      "metadata": {
        "colab": {
          "base_uri": "https://localhost:8080/"
        },
        "id": "1wLyNgdR0bnY",
        "outputId": "0f242f75-ac04-4650-c93c-7ecc7fc85893"
      },
      "execution_count": null,
      "outputs": [
        {
          "output_type": "stream",
          "name": "stdout",
          "text": [
            "stat=0.830,p=0.000\n",
            "Se rechaza la hipótesis nula de que los datos de sulfatos siguen una distribución normal\n"
          ]
        }
      ]
    },
    {
      "cell_type": "code",
      "source": [
        "#Variable pH\n",
        "stat, p = stats.normaltest(red_wine.pH)\n",
        "print('stat=%.3f,p=%.3f' % (stat, p))\n",
        "if p > 0.05: \n",
        "  print('No se rechaza la hipótesis nula de que los datos de pH sigan una distribucion normal')\n",
        "else:\n",
        "  print('Se rechaza la hipótesis nula de que los datos de pH siguen una distribución normal')"
      ],
      "metadata": {
        "colab": {
          "base_uri": "https://localhost:8080/"
        },
        "id": "vCERCqkr0pS7",
        "outputId": "04c8a84c-3a59-42f2-e9cf-e7829972ce14"
      },
      "execution_count": null,
      "outputs": [
        {
          "output_type": "stream",
          "name": "stdout",
          "text": [
            "stat=35.078,p=0.000\n",
            "Se rechaza la hipótesis nula de que los datos de pH siguen una distribución normal\n"
          ]
        }
      ]
    },
    {
      "cell_type": "code",
      "source": [
        "#Variable density\n",
        "stat, p = stats.normaltest(np.log(red_wine.density))\n",
        "print('stat=%.3f,p=%.3f' % (stat, p))\n",
        "if p > 0.05: \n",
        "  print('No se rechaza la hipótesis nula de que los datos de densidad sigan una distribucion normal')\n",
        "else:\n",
        "  print('Se rechaza la hipótesis nula de que los datos de densidad siguen una distribución normal')"
      ],
      "metadata": {
        "colab": {
          "base_uri": "https://localhost:8080/"
        },
        "id": "RIp9Q0tn1_EI",
        "outputId": "7b6cb5c6-ddea-4004-f82f-2909207dedc9"
      },
      "execution_count": null,
      "outputs": [
        {
          "output_type": "stream",
          "name": "stdout",
          "text": [
            "stat=21.514,p=0.000\n",
            "Se rechaza la hipótesis nula de que los datos de densidad siguen una distribución normal\n"
          ]
        }
      ]
    },
    {
      "cell_type": "code",
      "source": [
        "#Variable oxidos de azufre totales\n",
        "stat, p = stats.normaltest(red_wine['total sulfur dioxide'])\n",
        "print('stat=%.3f,p=%.3f' % (stat, p))\n",
        "if p > 0.05: \n",
        "  print('No se rechaza la hipótesis nula de que los datos de oxidos de azufre totales sigan una distribucion normal')\n",
        "else:\n",
        "  print('Se rechaza la hipótesis nula de que los datos de oxidos de azufre totales siguen una distribución normal')"
      ],
      "metadata": {
        "colab": {
          "base_uri": "https://localhost:8080/"
        },
        "id": "O9kD5eTK2TD3",
        "outputId": "7904a897-73f2-450b-f0e1-e852fb2383ca"
      },
      "execution_count": null,
      "outputs": [
        {
          "output_type": "stream",
          "name": "stdout",
          "text": [
            "stat=428.450,p=0.000\n",
            "Se rechaza la hipótesis nula de que los datos de oxidos de azufre totales siguen una distribución normal\n"
          ]
        }
      ]
    },
    {
      "cell_type": "code",
      "source": [
        "#Variable oxidos de azufre libres\n",
        "stat, p = stats.normaltest(red_wine['free sulfur dioxide'])\n",
        "print('stat=%.3f,p=%.3f' % (stat, p))\n",
        "if p > 0.05: \n",
        "  print('No se rechaza la hipótesis nula de que los datos de oxidos de azufre libres sigan una distribucion normal')\n",
        "else:\n",
        "  print('Se rechaza la hipótesis nula de que los datos de oxidos de azufre libres siguen una distribución normal')"
      ],
      "metadata": {
        "colab": {
          "base_uri": "https://localhost:8080/"
        },
        "id": "4o6YZOCm3Kwd",
        "outputId": "03a5dbca-05f4-4b26-853e-15f78c35560d"
      },
      "execution_count": null,
      "outputs": [
        {
          "output_type": "stream",
          "name": "stdout",
          "text": [
            "stat=281.007,p=0.000\n",
            "Se rechaza la hipótesis nula de que los datos de oxidos de azufre libres siguen una distribución normal\n"
          ]
        }
      ]
    },
    {
      "cell_type": "code",
      "source": [
        "#Variable de cloruros\n",
        "stat, p = stats.normaltest(np.log(red_wine['chlorides']))\n",
        "print('stat=%.3f,p=%.3f' % (stat, p))\n",
        "if p > 0.05: \n",
        "  print('No se rechaza la hipótesis nula de que los datos de cloruros sigan una distribucion normal')\n",
        "else:\n",
        "  print('Se rechaza la hipótesis nula de que los datos de cloruros siguen una distribución normal')"
      ],
      "metadata": {
        "colab": {
          "base_uri": "https://localhost:8080/"
        },
        "id": "BwPC25Zh3eah",
        "outputId": "40ff262c-d541-41d7-bc83-c837defb5bc9"
      },
      "execution_count": null,
      "outputs": [
        {
          "output_type": "stream",
          "name": "stdout",
          "text": [
            "stat=608.605,p=0.000\n",
            "Se rechaza la hipótesis nula de que los datos de cloruros siguen una distribución normal\n"
          ]
        }
      ]
    },
    {
      "cell_type": "code",
      "source": [
        "#Variable de azucar residual\n",
        "stat, p = stats.normaltest(red_wine['residual sugar'])\n",
        "print('stat=%.3f,p=%.3f' % (stat, p))\n",
        "if p > 0.05: \n",
        "  print('No se rechaza la hipótesis nula de que los datos de azucar residual sigan una distribucion normal')\n",
        "else:\n",
        "  print('Se rechaza la hipótesis nula de que los datos de azucar residual siguen una distribución normal')"
      ],
      "metadata": {
        "colab": {
          "base_uri": "https://localhost:8080/"
        },
        "id": "Dt8Vs7WE3xat",
        "outputId": "94c59bcd-74e1-42c1-ab65-79e51bebe813"
      },
      "execution_count": null,
      "outputs": [
        {
          "output_type": "stream",
          "name": "stdout",
          "text": [
            "stat=1302.663,p=0.000\n",
            "Se rechaza la hipótesis nula de que los datos de azucar residual siguen una distribución normal\n"
          ]
        }
      ]
    },
    {
      "cell_type": "code",
      "source": [
        "#Variable de ácido cítrico\n",
        "stat, p = stats.normaltest(red_wine['citric acid'])\n",
        "print('stat=%.3f,p=%.3f' % (stat, p))\n",
        "if p > 0.05: \n",
        "  print('No se rechaza la hipótesis nula de que los datos de ácido cítrico sigan una distribucion normal')\n",
        "else:\n",
        "  print('Se rechaza la hipótesis nula de que los datos de ácido cítrico siguen una distribución normal')"
      ],
      "metadata": {
        "colab": {
          "base_uri": "https://localhost:8080/"
        },
        "id": "8-cJNbaI4BDT",
        "outputId": "7be82102-7a6d-4e60-9415-b67165cc40c8"
      },
      "execution_count": null,
      "outputs": [
        {
          "output_type": "stream",
          "name": "stdout",
          "text": [
            "stat=128.041,p=0.000\n",
            "Se rechaza la hipótesis nula de que los datos de ácido cítrico siguen una distribución normal\n"
          ]
        }
      ]
    },
    {
      "cell_type": "code",
      "source": [
        "#Variable de ácidez volátil\n",
        "stat, p = stats.normaltest(red_wine['volatile acidity'])\n",
        "print('stat=%.3f,p=%.3f' % (stat, p))\n",
        "if p > 0.05: \n",
        "  print('No se rechaza la hipótesis nula de que los datos de ácidez volátil sigan una distribucion normal')\n",
        "else:\n",
        "  print('Se rechaza la hipótesis nula de que los datos de ácidez volátil siguen una distribución normal')"
      ],
      "metadata": {
        "colab": {
          "base_uri": "https://localhost:8080/"
        },
        "id": "185MSgzl4N9A",
        "outputId": "40f67347-3ea0-400b-f107-5e4da946aad8"
      },
      "execution_count": null,
      "outputs": [
        {
          "output_type": "stream",
          "name": "stdout",
          "text": [
            "stat=135.986,p=0.000\n",
            "Se rechaza la hipótesis nula de que los datos de ácidez volátil siguen una distribución normal\n"
          ]
        }
      ]
    },
    {
      "cell_type": "code",
      "source": [
        "#Variable de ácidez fija\n",
        "stat, p = stats.normaltest(red_wine['fixed acidity'])\n",
        "print('stat=%.3f,p=%.3f' % (stat, p))\n",
        "if p > 0.05: \n",
        "  print('No se rechaza la hipótesis nula de que los datos de ácidez fija sigan una distribucion normal')\n",
        "else:\n",
        "  print('Se rechaza la hipótesis nula de que los datos de ácidez fija siguen una distribución normal')"
      ],
      "metadata": {
        "colab": {
          "base_uri": "https://localhost:8080/"
        },
        "id": "HPOD49pb4bwc",
        "outputId": "68a8e48e-c87c-4b51-8355-b9fee79dacae"
      },
      "execution_count": null,
      "outputs": [
        {
          "output_type": "stream",
          "name": "stdout",
          "text": [
            "stat=178.035,p=0.000\n",
            "Se rechaza la hipótesis nula de que los datos de ácidez fija siguen una distribución normal\n"
          ]
        }
      ]
    },
    {
      "cell_type": "code",
      "source": [
        "sns.histplot(x=np.log(red_wine['fixed acidity']), kde=True)"
      ],
      "metadata": {
        "colab": {
          "base_uri": "https://localhost:8080/",
          "height": 297
        },
        "id": "JBn5qQd00Ip6",
        "outputId": "523638a9-451b-451f-910c-779efa74fb6a"
      },
      "execution_count": null,
      "outputs": [
        {
          "output_type": "execute_result",
          "data": {
            "text/plain": [
              "<matplotlib.axes._subplots.AxesSubplot at 0x7ffb0e040910>"
            ]
          },
          "metadata": {},
          "execution_count": 31
        },
        {
          "output_type": "display_data",
          "data": {
            "text/plain": [
              "<Figure size 432x288 with 1 Axes>"
            ],
            "image/png": "[encoded data removed]"
          },
          "metadata": {
            "needs_background": "light"
          }
        }
      ]
    },
    {
      "cell_type": "code",
      "source": [
        "sns.histplot(x=red_wine['fixed acidity'], kde=True)"
      ],
      "metadata": {
        "colab": {
          "base_uri": "https://localhost:8080/",
          "height": 297
        },
        "id": "J3oNexun0kr8",
        "outputId": "77b6ca0f-6f31-41c1-a91a-e6c3d7375d17"
      },
      "execution_count": null,
      "outputs": [
        {
          "output_type": "execute_result",
          "data": {
            "text/plain": [
              "<matplotlib.axes._subplots.AxesSubplot at 0x7ffb0da1b820>"
            ]
          },
          "metadata": {},
          "execution_count": 32
        },
        {
          "output_type": "display_data",
          "data": {
            "text/plain": [
              "<Figure size 432x288 with 1 Axes>"
            ],
            "image/png": "[encoded data removed]"
          },
          "metadata": {
            "needs_background": "light"
          }
        }
      ]
    },
    {
      "cell_type": "markdown",
      "source": [
        "**2.- Escoge una o varias variables categóricas relevantes** "
      ],
      "metadata": {
        "id": "Y2pExntPAjwx"
      }
    },
    {
      "cell_type": "markdown",
      "source": [
        "Solo se tiene una variable categorica, la cual es la calidad del vino. Se considerará una calidad baja cuando la puntuación sea 3 y 4, calildad media cuando la puntuación sea 5 y 6, y calidad alta cuando la puntuacion es 7 y 8."
      ],
      "metadata": {
        "id": "RaD0zC5E4zxF"
      }
    },
    {
      "cell_type": "markdown",
      "source": [
        "**3.- Realiza prueba de hipótesis de comparación de varianzas de todas las variables numéricas entre la varible categórica escogida**"
      ],
      "metadata": {
        "id": "PVnv2Hhftq3a"
      }
    },
    {
      "cell_type": "markdown",
      "source": [
        "Analisis de varianza del alcohol "
      ],
      "metadata": {
        "id": "1MtqEnQU7iXI"
      }
    },
    {
      "cell_type": "code",
      "source": [
        "alcohol_bajo = red_wine.loc[red_wine.quality.isin([3,4]),'alcohol'].values\n",
        "alcohol_medio = red_wine.loc[red_wine.quality.isin([5,6]),'alcohol'].values\n",
        "alcohol_alto = red_wine.loc[red_wine.quality.isin([7,8]),'alcohol'].values"
      ],
      "metadata": {
        "id": "_iPvaUyk6iRw"
      },
      "execution_count": null,
      "outputs": []
    },
    {
      "cell_type": "code",
      "source": [
        "print('Varianza del alcohol en calidad baja:', alcohol_bajo.var())\n",
        "print('Varianza del alcohol en calidad media:', alcohol_medio.var())\n",
        "print('Varianza del alcohol en calidad alta:', alcohol_alto.var())"
      ],
      "metadata": {
        "colab": {
          "base_uri": "https://localhost:8080/"
        },
        "id": "NnoWD8Uf6Kt6",
        "outputId": "d290ce85-6f03-48e4-c45d-6cb27e518fcb"
      },
      "execution_count": null,
      "outputs": [
        {
          "output_type": "stream",
          "name": "stdout",
          "text": [
            "Varianza del alcohol en calidad baja: 0.8296686822877299\n",
            "Varianza del alcohol en calidad media: 0.973872197206264\n",
            "Varianza del alcohol en calidad alta: 1.0191331177142415\n"
          ]
        }
      ]
    },
    {
      "cell_type": "code",
      "source": [
        "stat, p = stats.bartlett(alcohol_bajo, alcohol_medio, alcohol_alto)\n",
        "print('stat=%.3f, p=%.3f' % (stat,p))\n",
        "if p>0.05:\n",
        "  print('No se rechaza la hipótesis nula de que las varianzas sean iguales en todas las muestras')\n",
        "else:\n",
        "  print('Se rechaza la hipótesis nula de que las varianzas sean iguales en todas las muestras')"
      ],
      "metadata": {
        "colab": {
          "base_uri": "https://localhost:8080/"
        },
        "id": "oUy8BgbZ7XOY",
        "outputId": "36c5d0c9-78bc-48b6-b45f-595c0726db39"
      },
      "execution_count": null,
      "outputs": [
        {
          "output_type": "stream",
          "name": "stdout",
          "text": [
            "stat=0.852, p=0.653\n",
            "No se rechaza la hipótesis nula de que las varianzas sean iguales en todas las muestras\n"
          ]
        }
      ]
    },
    {
      "cell_type": "markdown",
      "source": [
        "Análisis de varianza de sulfatos"
      ],
      "metadata": {
        "id": "Jc_VVsuI7u6A"
      }
    },
    {
      "cell_type": "code",
      "source": [
        "sulphates_bajo = red_wine.loc[red_wine.quality.isin([3,4]),'sulphates'].values\n",
        "sulphates_medio = red_wine.loc[red_wine.quality.isin([5,6]),'sulphates'].values\n",
        "sulphates_alto = red_wine.loc[red_wine.quality.isin([7,8]),'sulphates'].values\n",
        "print('Varianza de sulfatos en calidad baja:', sulphates_bajo.var())\n",
        "print('Varianza de sulfatosl en calidad media:', sulphates_medio.var())\n",
        "print('Varianza de sulfatos en calidad alta:', sulphates_alto.var())\n",
        "stat, p = stats.bartlett(sulphates_bajo, sulphates_medio, sulphates_alto)\n",
        "print('stat=%.3f, p=%.3f' % (stat,p))\n",
        "if p>0.05:\n",
        "  print('No se rechaza la hipótesis nula de que las varianzas sean iguales en todas las muestras')\n",
        "else:\n",
        "  print('Se rechaza la hipótesis nula de que las varianzas sean iguales en todas las muestras')"
      ],
      "metadata": {
        "colab": {
          "base_uri": "https://localhost:8080/"
        },
        "id": "Q9auMVJc7uYs",
        "outputId": "fd8e05ba-6657-4688-b19f-d863abed3073"
      },
      "execution_count": null,
      "outputs": [
        {
          "output_type": "stream",
          "name": "stdout",
          "text": [
            "Varianza de sulfatos en calidad baja: 0.049522045855379206\n",
            "Varianza de sulfatosl en calidad media: 0.028201041612752963\n",
            "Varianza de sulfatos en calidad alta: 0.017838773038752365\n",
            "stat=28.722, p=0.000\n",
            "Se rechaza la hipótesis nula de que las varianzas sean iguales en todas las muestras\n"
          ]
        }
      ]
    },
    {
      "cell_type": "markdown",
      "source": [
        "Análisis de variaz de pH"
      ],
      "metadata": {
        "id": "7cbqyssJ8Tfg"
      }
    },
    {
      "cell_type": "code",
      "source": [
        "pH_bajo = red_wine.loc[red_wine.quality.isin([3,4]),'pH'].values\n",
        "pH_medio = red_wine.loc[red_wine.quality.isin([5,6]),'pH'].values\n",
        "pH_alto = red_wine.loc[red_wine.quality.isin([7,8]),'pH'].values\n",
        "print('Varianza de pH en calidad baja:', pH_bajo.var())\n",
        "print('Varianza de pH en calidad media:', pH_medio.var())\n",
        "print('Varianza de pH en calidad alta:', pH_alto.var())\n",
        "stat, p = stats.bartlett(pH_bajo, pH_medio, pH_alto)\n",
        "print('stat=%.3f, p=%.3f' % (stat,p))\n",
        "if p>0.05:\n",
        "  print('No se rechaza la hipótesis nula de que las varianzas sean iguales en todas las muestras')\n",
        "else:\n",
        "  print('Se rechaza la hipótesis nula de que las varianzas sean iguales en todas las muestras')"
      ],
      "metadata": {
        "colab": {
          "base_uri": "https://localhost:8080/"
        },
        "id": "4jda1ljy8TKy",
        "outputId": "3f71a30b-6533-4774-b543-e007f27d0c35"
      },
      "execution_count": null,
      "outputs": [
        {
          "output_type": "stream",
          "name": "stdout",
          "text": [
            "Varianza de pH en calidad baja: 0.030173444192491815\n",
            "Varianza de pH en calidad media: 0.023325777327778064\n",
            "Varianza de pH en calidad alta: 0.023753438090737242\n",
            "stat=2.362, p=0.307\n",
            "No se rechaza la hipótesis nula de que las varianzas sean iguales en todas las muestras\n"
          ]
        }
      ]
    },
    {
      "cell_type": "markdown",
      "source": [
        "  Análisis de varianza de densidad"
      ],
      "metadata": {
        "id": "2bXG6rZj8oGE"
      }
    },
    {
      "cell_type": "code",
      "source": [
        "density_bajo = red_wine.loc[red_wine.quality.isin([3,4]),'density'].values\n",
        "density_medio = red_wine.loc[red_wine.quality.isin([5,6]),'density'].values\n",
        "density_alto = red_wine.loc[red_wine.quality.isin([7,8]),'density'].values\n",
        "print('Varianza de density en calidad baja:', density_bajo.var())\n",
        "print('Varianza de density en calidad media:', density_medio.var())\n",
        "print('Varianza de density en calidad alta:', density_alto.var())\n",
        "stat, p = stats.bartlett(density_bajo, density_medio, density_alto)\n",
        "print('stat=%.3f, p=%.3f' % (stat,p))\n",
        "if p>0.05:\n",
        "  print('No se rechaza la hipótesis nula de que las varianzas sean iguales en todas las muestras')\n",
        "else:\n",
        "  print('Se rechaza la hipótesis nula de que las varianzas sean iguales en todas las muestras')"
      ],
      "metadata": {
        "colab": {
          "base_uri": "https://localhost:8080/"
        },
        "id": "eFA2xIvz8r1c",
        "outputId": "80f90bb0-a9fd-4ca2-efd2-e75bbbd2f81e"
      },
      "execution_count": null,
      "outputs": [
        {
          "output_type": "stream",
          "name": "stdout",
          "text": [
            "Varianza de density en calidad baja: 2.7338269589317135e-06\n",
            "Varianza de density en calidad media: 3.2265675340303203e-06\n",
            "Varianza de density en calidad alta: 4.692266773983955e-06\n",
            "stat=13.561, p=0.001\n",
            "Se rechaza la hipótesis nula de que las varianzas sean iguales en todas las muestras\n"
          ]
        }
      ]
    },
    {
      "cell_type": "markdown",
      "source": [
        "Análisis de varianza de óxidos de azufre totales"
      ],
      "metadata": {
        "id": "6Kc1PlUi824j"
      }
    },
    {
      "cell_type": "code",
      "source": [
        "totalsulfurdioxide_bajo = red_wine.loc[red_wine.quality.isin([3,4]),'total sulfur dioxide'].values\n",
        "totalsulfurdioxide_medio = red_wine.loc[red_wine.quality.isin([5,6]),'total sulfur dioxide'].values\n",
        "totalsulfurdioxide_alto = red_wine.loc[red_wine.quality.isin([7,8]),'total sulfur dioxide'].values\n",
        "print('Varianza de total sulfur dioxide en calidad baja:', totalsulfurdioxide_bajo.var())\n",
        "print('Varianza de total sulfur dioxide en calidad media:', totalsulfurdioxide_medio.var())\n",
        "print('Varianza de total sulfur dioxide en calidad alta:', totalsulfurdioxide_alto.var())\n",
        "stat, p = stats.bartlett(totalsulfurdioxide_bajo, totalsulfurdioxide_medio, totalsulfurdioxide_alto)\n",
        "print('stat=%.3f, p=%.3f' % (stat,p))\n",
        "if p>0.05:\n",
        "  print('No se rechaza la hipótesis nula de que las varianzas sean iguales en todas las muestras')\n",
        "else:\n",
        "  print('Se rechaza la hipótesis nula de que las varianzas sean iguales en todas las muestras')"
      ],
      "metadata": {
        "colab": {
          "base_uri": "https://localhost:8080/"
        },
        "id": "HkKW4b5g87j3",
        "outputId": "c53c78f7-4953-46e8-f895-9e15b655e822"
      },
      "execution_count": null,
      "outputs": [
        {
          "output_type": "stream",
          "name": "stdout",
          "text": [
            "Varianza de total sulfur dioxide en calidad baja: 685.6437389770722\n",
            "Varianza de total sulfur dioxide en calidad media: 1093.6038489127761\n",
            "Varianza de total sulfur dioxide en calidad alta: 1168.9909026465027\n",
            "stat=5.897, p=0.052\n",
            "No se rechaza la hipótesis nula de que las varianzas sean iguales en todas las muestras\n"
          ]
        }
      ]
    },
    {
      "cell_type": "markdown",
      "source": [
        "Análisis de varianza de óxidos de azufre libres "
      ],
      "metadata": {
        "id": "xVKdWzHC9eRU"
      }
    },
    {
      "cell_type": "code",
      "source": [
        "freesulfurdioxide_bajo = red_wine.loc[red_wine.quality.isin([3,4]),'free sulfur dioxide'].values\n",
        "freesulfurdioxide_medio = red_wine.loc[red_wine.quality.isin([5,6]),'free sulfur dioxide'].values\n",
        "freesulfurdioxide_alto = red_wine.loc[red_wine.quality.isin([7,8]),'free sulfur dioxide'].values\n",
        "print('Varianza de free sulfur dioxide en calidad baja:', freesulfurdioxide_bajo.var())\n",
        "print('Varianza de free sulfur dioxide en calidad media:', freesulfurdioxide_medio.var())\n",
        "print('Varianza de free sulfur dioxide en calidad alta:', freesulfurdioxide_alto.var())\n",
        "stat, p = stats.bartlett(freesulfurdioxide_bajo, freesulfurdioxide_medio, freesulfurdioxide_alto)\n",
        "print('stat=%.3f, p=%.3f' % (stat,p))\n",
        "if p>0.05:\n",
        "  print('No se rechaza la hipótesis nula de que las varianzas sean iguales en todas las muestras')\n",
        "else:\n",
        "  print('Se rechaza la hipótesis nula de que las varianzas sean iguales en todas las muestras')"
      ],
      "metadata": {
        "colab": {
          "base_uri": "https://localhost:8080/"
        },
        "id": "OPrPAGGe9o40",
        "outputId": "666468f1-9223-474b-be4e-0ec7f3331153"
      },
      "execution_count": null,
      "outputs": [
        {
          "output_type": "stream",
          "name": "stdout",
          "text": [
            "Varianza de free sulfur dioxide en calidad baja: 81.07533383723863\n",
            "Varianza de free sulfur dioxide en calidad media: 109.56361924848609\n",
            "Varianza de free sulfur dioxide en calidad alta: 105.19763114366728\n",
            "stat=2.241, p=0.326\n",
            "No se rechaza la hipótesis nula de que las varianzas sean iguales en todas las muestras\n"
          ]
        }
      ]
    },
    {
      "cell_type": "markdown",
      "source": [
        "Análisis de varianzas de cloruros"
      ],
      "metadata": {
        "id": "uG1eKYhl9ro0"
      }
    },
    {
      "cell_type": "code",
      "source": [
        "chlorides_bajo = red_wine.loc[red_wine.quality.isin([3,4]),'chlorides'].values\n",
        "chlorides_medio = red_wine.loc[red_wine.quality.isin([5,6]),'chlorides'].values\n",
        "chlorides_alto = red_wine.loc[red_wine.quality.isin([7,8]),'chlorides'].values\n",
        "print('Varianza de chlorides en calidad baja:', chlorides_bajo.var())\n",
        "print('Varianza de chlorides en calidad media:', chlorides_medio.var())\n",
        "print('Varianza de chlorides en calidad alta:', chlorides_alto.var())\n",
        "stat, p = stats.bartlett(chlorides_bajo, chlorides_medio, chlorides_alto)\n",
        "print('stat=%.3f, p=%.3f' % (stat,p))\n",
        "if p>0.05:\n",
        "  print('No se rechaza la hipótesis nula de que las varianzas sean iguales en todas las muestras')\n",
        "else:\n",
        "  print('Se rechaza la hipótesis nula de que las varianzas sean iguales en todas las muestras')"
      ],
      "metadata": {
        "colab": {
          "base_uri": "https://localhost:8080/"
        },
        "id": "lUefmzNj9usf",
        "outputId": "5d94ee22-7c3c-41c3-bc06-835c2dd7b6a7"
      },
      "execution_count": null,
      "outputs": [
        {
          "output_type": "stream",
          "name": "stdout",
          "text": [
            "Varianza de chlorides en calidad baja: 0.005553625598387503\n",
            "Varianza de chlorides en calidad media: 0.002484067970084364\n",
            "Varianza de chlorides en calidad alta: 0.0008996769553402645\n",
            "stat=95.629, p=0.000\n",
            "Se rechaza la hipótesis nula de que las varianzas sean iguales en todas las muestras\n"
          ]
        }
      ]
    },
    {
      "cell_type": "markdown",
      "source": [
        "Análisis de varianza de azucar residual"
      ],
      "metadata": {
        "id": "nIN5SE5w93ZX"
      }
    },
    {
      "cell_type": "code",
      "source": [
        "residualsugar_bajo = red_wine.loc[red_wine.quality.isin([3,4]),'residual sugar'].values\n",
        "residualsugar_medio = red_wine.loc[red_wine.quality.isin([5,6]),'residual sugar'].values\n",
        "residualsugar_alto = red_wine.loc[red_wine.quality.isin([7,8]),'residual sugar'].values\n",
        "print('Varianza de residual sugar en calidad baja:', residualsugar_bajo.var())\n",
        "print('Varianza de residual sugar en calidad media:', residualsugar_medio.var())\n",
        "print('Varianza de residual sugar en calidad alta:', residualsugar_alto.var())\n",
        "stat, p = stats.bartlett(residualsugar_bajo, residualsugar_medio, residualsugar_alto)\n",
        "print('stat=%.3f, p=%.3f' % (stat,p))\n",
        "if p>0.05:\n",
        "  print('No se rechaza la hipótesis nula de que las varianzas sean iguales en todas las muestras')\n",
        "else:\n",
        "  print('Se rechaza la hipótesis nula de que las varianzas sean iguales en todas las muestras')"
      ],
      "metadata": {
        "colab": {
          "base_uri": "https://localhost:8080/"
        },
        "id": "XiEtBbef96hM",
        "outputId": "ee4cf4b9-a92e-4d07-9fca-bcd8064bbb82"
      },
      "execution_count": null,
      "outputs": [
        {
          "output_type": "stream",
          "name": "stdout",
          "text": [
            "Varianza de residual sugar en calidad baja: 2.9240980095742004\n",
            "Varianza de residual sugar en calidad media: 1.7477893851735158\n",
            "Varianza de residual sugar en calidad alta: 1.8824040051984878\n",
            "stat=9.791, p=0.007\n",
            "Se rechaza la hipótesis nula de que las varianzas sean iguales en todas las muestras\n"
          ]
        }
      ]
    },
    {
      "cell_type": "markdown",
      "source": [
        "Análisis de varianza del ácido cítrico"
      ],
      "metadata": {
        "id": "Tk-HFDRb-Fkm"
      }
    },
    {
      "cell_type": "code",
      "source": [
        "citricacid_bajo = red_wine.loc[red_wine.quality.isin([3,4]),'citric acid'].values\n",
        "citricacid_medio = red_wine.loc[red_wine.quality.isin([5,6]),'citric acid'].values\n",
        "citricacid_alto = red_wine.loc[red_wine.quality.isin([7,8]),'citric acid'].values\n",
        "print('Varianza de citric acid en calidad baja:', citricacid_bajo.var())\n",
        "print('Varianza de citric acid en calidad media:', citricacid_medio.var())\n",
        "print('Varianza de citric acid en calidad alta:', citricacid_alto.var())\n",
        "stat, p = stats.bartlett(citricacid_bajo, citricacid_medio, citricacid_alto)\n",
        "print('stat=%.3f, p=%.3f' % (stat,p))\n",
        "if p>0.05:\n",
        "  print('No se rechaza la hipótesis nula de que las varianzas sean iguales en todas las muestras')\n",
        "else:\n",
        "  print('Se rechaza la hipótesis nula de que las varianzas sean iguales en todas las muestras')"
      ],
      "metadata": {
        "colab": {
          "base_uri": "https://localhost:8080/"
        },
        "id": "KZdwepcS-KCJ",
        "outputId": "1aac5035-133a-4115-80a8-8b9f6b20dca8"
      },
      "execution_count": null,
      "outputs": [
        {
          "output_type": "stream",
          "name": "stdout",
          "text": [
            "Varianza de citric acid en calidad baja: 0.042334290753338374\n",
            "Varianza de citric acid en calidad media: 0.03580005491110708\n",
            "Varianza de citric acid en calidad alta: 0.03715420309546314\n",
            "stat=1.109, p=0.574\n",
            "No se rechaza la hipótesis nula de que las varianzas sean iguales en todas las muestras\n"
          ]
        }
      ]
    },
    {
      "cell_type": "markdown",
      "source": [
        "Análisis de varianza de la ácidez volátil"
      ],
      "metadata": {
        "id": "hS25dIo5-Rie"
      }
    },
    {
      "cell_type": "code",
      "source": [
        "volatileacidity_bajo = red_wine.loc[red_wine.quality.isin([3,4]),'volatile acidity'].values\n",
        "volatileacidity_medio = red_wine.loc[red_wine.quality.isin([5,6]),'volatile acidity'].values\n",
        "volatileacidity_alto = red_wine.loc[red_wine.quality.isin([7,8]),'volatile acidity'].values\n",
        "print('Varianza de volatile acidity en calidad baja:', volatileacidity_bajo.var())\n",
        "print('Varianza de volatile acidity en calidad media:', volatileacidity_medio.var())\n",
        "print('Varianza de volatile acidity en calidad alta:', volatileacidity_alto.var())\n",
        "stat, p = stats.bartlett(volatileacidity_bajo, volatileacidity_medio, volatileacidity_alto)\n",
        "print('stat=%.3f, p=%.3f' % (stat,p))\n",
        "if p>0.05:\n",
        "  print('No se rechaza la hipótesis nula de que las varianzas sean iguales en todas las muestras')\n",
        "else:\n",
        "  print('Se rechaza la hipótesis nula de que las varianzas sean iguales en todas las muestras')"
      ],
      "metadata": {
        "colab": {
          "base_uri": "https://localhost:8080/"
        },
        "id": "MtZs3dRk-WbM",
        "outputId": "5023b700-b8b5-4dce-8446-836afc4e3b76"
      },
      "execution_count": null,
      "outputs": [
        {
          "output_type": "stream",
          "name": "stdout",
          "text": [
            "Varianza de volatile acidity en calidad baja: 0.060512862181909814\n",
            "Varianza de volatile acidity en calidad media: 0.02941940244342296\n",
            "Varianza de volatile acidity en calidad alta: 0.01993484168241966\n",
            "stat=33.622, p=0.000\n",
            "Se rechaza la hipótesis nula de que las varianzas sean iguales en todas las muestras\n"
          ]
        }
      ]
    },
    {
      "cell_type": "markdown",
      "source": [
        "Análisis de varianza de la ácidez fija"
      ],
      "metadata": {
        "id": "ITVy37iT-dQs"
      }
    },
    {
      "cell_type": "code",
      "source": [
        "fixedacidity_bajo = red_wine.loc[red_wine.quality.isin([3,4]),'fixed acidity'].values\n",
        "fixedacidity_medio = red_wine.loc[red_wine.quality.isin([5,6]),'fixed acidity'].values\n",
        "fixedacidity_alto = red_wine.loc[red_wine.quality.isin([7,8]),'fixed acidity'].values\n",
        "print('Varianza de fixed acidity en calidad baja:', fixedacidity_bajo.var())\n",
        "print('Varianza de fixed acidity en calidad media:', fixedacidity_medio.var())\n",
        "print('Varianza de fixed acidity en calidad alta:', fixedacidity_alto.var())\n",
        "stat, p = stats.bartlett(fixedacidity_bajo, fixedacidity_medio, fixedacidity_alto)\n",
        "print('stat=%.3f, p=%.3f' % (stat,p))\n",
        "if p>0.05:\n",
        "  print('No se rechaza la hipótesis nula de que las varianzas sean iguales en todas las muestras')\n",
        "else:\n",
        "  print('Se rechaza la hipótesis nula de que las varianzas sean iguales en todas las muestras')"
      ],
      "metadata": {
        "colab": {
          "base_uri": "https://localhost:8080/"
        },
        "id": "0SPa7tGv-giL",
        "outputId": "e959c438-03ca-4c0e-adb3-e228d4fddea3"
      },
      "execution_count": null,
      "outputs": [
        {
          "output_type": "stream",
          "name": "stdout",
          "text": [
            "Varianza de fixed acidity en calidad baja: 2.676961451247166\n",
            "Varianza de fixed acidity en calidad media: 2.827318777172507\n",
            "Varianza de fixed acidity en calidad alta: 3.917367379489603\n",
            "stat=9.503, p=0.009\n",
            "Se rechaza la hipótesis nula de que las varianzas sean iguales en todas las muestras\n"
          ]
        }
      ]
    },
    {
      "cell_type": "markdown",
      "source": [
        "**Se concluye que existe similitud de varianzas en alcohol, pH, óxidos de azufre totales, óxido de azufres libres, y ácido cítrico; con la variable categórica de calidad del vino** "
      ],
      "metadata": {
        "id": "iSZG2Fuw-l2E"
      }
    },
    {
      "cell_type": "markdown",
      "source": [
        "**4.- Realiza prueba de hipotesis de comparación de medias de todas las variables numéricas entre la variable categórica escogida** "
      ],
      "metadata": {
        "id": "RC_-LpgBt7hx"
      }
    },
    {
      "cell_type": "markdown",
      "source": [
        "Comparación de medias de alcohol con calidad del vino en los rangos bajo y alto"
      ],
      "metadata": {
        "id": "sTKcNyQI_DF0"
      }
    },
    {
      "cell_type": "code",
      "source": [
        "# Data Arrays\n",
        "print('Media alcohol calidad baja:',alcohol_bajo.mean())\n",
        "print('Media alcohol calidad alta:', alcohol_alto.mean())\n",
        "# Ejemplo T student\n",
        "stat, p = stats.ttest_ind(alcohol_bajo, alcohol_alto)\n",
        "print('stat=%.3f,p=%.3f'%(stat,p))\n",
        "if p > 0.05:\n",
        "  print('no se rechaza la hipótesis nula de que las medias sean iguales')\n",
        "else:\n",
        "  print('Se rechaza la hipótesis nula de que las medias sean iguales')"
      ],
      "metadata": {
        "colab": {
          "base_uri": "https://localhost:8080/"
        },
        "id": "Zb14OpTB_O1o",
        "outputId": "3afef360-3621-476e-e2ca-fa6e7cb5ce2a"
      },
      "execution_count": null,
      "outputs": [
        {
          "output_type": "stream",
          "name": "stdout",
          "text": [
            "Media alcohol calidad baja: 10.215873015873019\n",
            "Media alcohol calidad alta: 11.55280797101449\n",
            "stat=-9.258,p=0.000\n",
            "Se rechaza la hipótesis nula de que las medias sean iguales\n"
          ]
        }
      ]
    },
    {
      "cell_type": "markdown",
      "source": [
        "Comparación de medias de sulfatos con calidad del vino"
      ],
      "metadata": {
        "id": "lKj-CxkFAibl"
      }
    },
    {
      "cell_type": "code",
      "source": [
        "# Data Arrays\n",
        "print('Media sulfatos calidad baja:',sulphates_bajo.mean())\n",
        "print('Media sulfatos calidad alta:', sulphates_alto.mean())\n",
        "# Ejemplo T student\n",
        "stat, p = stats.ttest_ind(sulphates_bajo, sulphates_alto)\n",
        "print('stat=%.3f,p=%.3f'%(stat,p))\n",
        "if p > 0.05:\n",
        "  print('no se rechaza la hipótesis nula de que las medias sean iguales')\n",
        "else:\n",
        "  print('Se rechaza la hipótesis nula de que las medias sean iguales')"
      ],
      "metadata": {
        "colab": {
          "base_uri": "https://localhost:8080/"
        },
        "id": "1pzsoAuGBPZa",
        "outputId": "d6a5a07b-5b9c-420e-8bf5-35c333b9084f"
      },
      "execution_count": null,
      "outputs": [
        {
          "output_type": "stream",
          "name": "stdout",
          "text": [
            "Media sulfatos calidad baja: 0.5922222222222221\n",
            "Media sulfatos calidad alta: 0.7455978260869565\n",
            "stat=-6.500,p=0.000\n",
            "Se rechaza la hipótesis nula de que las medias sean iguales\n"
          ]
        }
      ]
    },
    {
      "cell_type": "markdown",
      "source": [
        "Comparación de medias de pH "
      ],
      "metadata": {
        "id": "ITYdjQPaBp1o"
      }
    },
    {
      "cell_type": "code",
      "source": [
        "# Data Arrays\n",
        "print('Media pH calidad baja:',pH_bajo.mean())\n",
        "print('Media pH calidad alta:', pH_alto.mean())\n",
        "# Ejemplo T student\n",
        "stat, p = stats.ttest_ind(pH_bajo, pH_alto)\n",
        "print('stat=%.3f,p=%.3f'%(stat,p))\n",
        "if p > 0.05:\n",
        "  print('no se rechaza la hipótesis nula de que las medias sean iguales')\n",
        "else:\n",
        "  print('Se rechaza la hipótesis nula de que las medias sean iguales')"
      ],
      "metadata": {
        "colab": {
          "base_uri": "https://localhost:8080/"
        },
        "id": "dkgf3vuVBtXZ",
        "outputId": "f0e74173-5b79-4d02-e306-757928b98457"
      },
      "execution_count": null,
      "outputs": [
        {
          "output_type": "stream",
          "name": "stdout",
          "text": [
            "Media pH calidad baja: 3.384126984126984\n",
            "Media pH calidad alta: 3.288586956521739\n",
            "stat=4.091,p=0.000\n",
            "Se rechaza la hipótesis nula de que las medias sean iguales\n"
          ]
        }
      ]
    },
    {
      "cell_type": "markdown",
      "source": [
        "Comparación de medias de densidad"
      ],
      "metadata": {
        "id": "JpO7B5V3Bzcp"
      }
    },
    {
      "cell_type": "code",
      "source": [
        "# Data Arrays\n",
        "print('Media density calidad baja:',density_bajo.mean())\n",
        "print('Media density calidad alta:', density_alto.mean())\n",
        "# Ejemplo T student\n",
        "stat, p = stats.ttest_ind(density_bajo, density_alto)\n",
        "print('stat=%.3f,p=%.3f'%(stat,p))\n",
        "if p > 0.05:\n",
        "  print('no se rechaza la hipótesis nula de que las medias sean iguales')\n",
        "else:\n",
        "  print('Se rechaza la hipótesis nula de que las medias sean iguales')"
      ],
      "metadata": {
        "colab": {
          "base_uri": "https://localhost:8080/"
        },
        "id": "5F7wJXHkB2Ao",
        "outputId": "b656b9fa-e405-4d92-ad94-d2a804359c61"
      },
      "execution_count": null,
      "outputs": [
        {
          "output_type": "stream",
          "name": "stdout",
          "text": [
            "Media density calidad baja: 0.9966887301587302\n",
            "Media density calidad alta: 0.9959627717391304\n",
            "stat=2.419,p=0.016\n",
            "Se rechaza la hipótesis nula de que las medias sean iguales\n"
          ]
        }
      ]
    },
    {
      "cell_type": "markdown",
      "source": [
        "Comparación de medias de óxidos de azufre totales"
      ],
      "metadata": {
        "id": "7FeIrvTCB7NJ"
      }
    },
    {
      "cell_type": "code",
      "source": [
        "# Data Arrays\n",
        "print('Media totalsulfurdioxide calidad baja:',totalsulfurdioxide_bajo.mean())\n",
        "print('Media totalsulfurdioxide calidad alta:', totalsulfurdioxide_alto.mean())\n",
        "# Ejemplo T student\n",
        "stat, p = stats.ttest_ind(totalsulfurdioxide_bajo, totalsulfurdioxide_alto)\n",
        "print('stat=%.3f,p=%.3f'%(stat,p))\n",
        "if p > 0.05:\n",
        "  print('no se rechaza la hipótesis nula de que las medias sean iguales')\n",
        "else:\n",
        "  print('Se rechaza la hipótesis nula de que las medias sean iguales')"
      ],
      "metadata": {
        "colab": {
          "base_uri": "https://localhost:8080/"
        },
        "id": "KiTe2HXaCATo",
        "outputId": "3d5abc94-adbc-4f1e-afe5-4b41f75d2c42"
      },
      "execution_count": null,
      "outputs": [
        {
          "output_type": "stream",
          "name": "stdout",
          "text": [
            "Media totalsulfurdioxide calidad baja: 34.44444444444444\n",
            "Media totalsulfurdioxide calidad alta: 35.358695652173914\n",
            "stat=-0.193,p=0.847\n",
            "no se rechaza la hipótesis nula de que las medias sean iguales\n"
          ]
        }
      ]
    },
    {
      "cell_type": "markdown",
      "source": [
        "Comparación de medias de óxidos de azufre libres"
      ],
      "metadata": {
        "id": "5C4saUrDCKcQ"
      }
    },
    {
      "cell_type": "code",
      "source": [
        "# Data Arrays\n",
        "print('Media freesulfurdioxide calidad baja:',freesulfurdioxide_bajo.mean())\n",
        "print('Media freesulfurdioxide calidad alta:', freesulfurdioxide_alto.mean())\n",
        "# Ejemplo T student\n",
        "stat, p = stats.ttest_ind(freesulfurdioxide_bajo, freesulfurdioxide_alto)\n",
        "print('stat=%.3f,p=%.3f'%(stat,p))\n",
        "if p > 0.05:\n",
        "  print('no se rechaza la hipótesis nula de que las medias sean iguales')\n",
        "else:\n",
        "  print('Se rechaza la hipótesis nula de que las medias sean iguales')"
      ],
      "metadata": {
        "colab": {
          "base_uri": "https://localhost:8080/"
        },
        "id": "NbmLm5LBCWFI",
        "outputId": "b3c05a74-2d49-4313-a573-d60c3d8e177f"
      },
      "execution_count": null,
      "outputs": [
        {
          "output_type": "stream",
          "name": "stdout",
          "text": [
            "Media freesulfurdioxide calidad baja: 12.063492063492063\n",
            "Media freesulfurdioxide calidad alta: 13.972826086956522\n",
            "stat=-1.309,p=0.192\n",
            "no se rechaza la hipótesis nula de que las medias sean iguales\n"
          ]
        }
      ]
    },
    {
      "cell_type": "markdown",
      "source": [
        "Comparación de medias de cloruros"
      ],
      "metadata": {
        "id": "CrH5RX9aCZu_"
      }
    },
    {
      "cell_type": "code",
      "source": [
        "# Data Arrays\n",
        "print('Media chlorides calidad baja:',chlorides_bajo.mean())\n",
        "print('Media chlorides calidad alta:', chlorides_alto.mean())\n",
        "# Ejemplo T student\n",
        "stat, p = stats.ttest_ind(chlorides_bajo, chlorides_alto)\n",
        "print('stat=%.3f,p=%.3f'%(stat,p))\n",
        "if p > 0.05:\n",
        "  print('no se rechaza la hipótesis nula de que las medias sean iguales')\n",
        "else:\n",
        "  print('Se rechaza la hipótesis nula de que las medias sean iguales')"
      ],
      "metadata": {
        "colab": {
          "base_uri": "https://localhost:8080/"
        },
        "id": "Ba8kqPHtCedf",
        "outputId": "cb36d679-5bf6-4aa2-c5ce-2ca181fcaaa6"
      },
      "execution_count": null,
      "outputs": [
        {
          "output_type": "stream",
          "name": "stdout",
          "text": [
            "Media chlorides calidad baja: 0.09573015873015872\n",
            "Media chlorides calidad alta: 0.07604891304347826\n",
            "stat=2.940,p=0.004\n",
            "Se rechaza la hipótesis nula de que las medias sean iguales\n"
          ]
        }
      ]
    },
    {
      "cell_type": "markdown",
      "source": [
        "Comparación de medias de azucar residual"
      ],
      "metadata": {
        "id": "4RZdFOHoCkJz"
      }
    },
    {
      "cell_type": "code",
      "source": [
        "# Data Arrays\n",
        "print('Media residualsugar calidad baja:',residualsugar_bajo.mean())\n",
        "print('Media residualsugar calidad alta:', residualsugar_alto.mean())\n",
        "# Ejemplo T student\n",
        "stat, p = stats.ttest_ind(residualsugar_bajo, residualsugar_alto)\n",
        "print('stat=%.3f,p=%.3f'%(stat,p))\n",
        "if p > 0.05:\n",
        "  print('no se rechaza la hipótesis nula de que las medias sean iguales')\n",
        "else:\n",
        "  print('Se rechaza la hipótesis nula de que las medias sean iguales')"
      ],
      "metadata": {
        "colab": {
          "base_uri": "https://localhost:8080/"
        },
        "id": "015Eap5qCmmg",
        "outputId": "39142691-b80f-4347-d5c6-81bba0507b18"
      },
      "execution_count": null,
      "outputs": [
        {
          "output_type": "stream",
          "name": "stdout",
          "text": [
            "Media residualsugar calidad baja: 2.684920634920635\n",
            "Media residualsugar calidad alta: 2.703804347826087\n",
            "stat=-0.088,p=0.930\n",
            "no se rechaza la hipótesis nula de que las medias sean iguales\n"
          ]
        }
      ]
    },
    {
      "cell_type": "markdown",
      "source": [
        "Comparación de medias de ácido cítrico"
      ],
      "metadata": {
        "id": "gZuJiznVCtq7"
      }
    },
    {
      "cell_type": "code",
      "source": [
        "# Data Arrays\n",
        "print('Media citricacid calidad baja:',citricacid_bajo.mean())\n",
        "print('Media citricacid calidad alta:', citricacid_alto.mean())\n",
        "# Ejemplo T student\n",
        "stat, p = stats.ttest_ind(citricacid_bajo, citricacid_alto)\n",
        "print('stat=%.3f,p=%.3f'%(stat,p))\n",
        "if p > 0.05:\n",
        "  print('no se rechaza la hipótesis nula de que las medias sean iguales')\n",
        "else:\n",
        "  print('Se rechaza la hipótesis nula de que las medias sean iguales')"
      ],
      "metadata": {
        "colab": {
          "base_uri": "https://localhost:8080/"
        },
        "id": "zjgZJafqCx4X",
        "outputId": "712ea795-c5b8-4102-b42e-0ccddd72e6c1"
      },
      "execution_count": null,
      "outputs": [
        {
          "output_type": "stream",
          "name": "stdout",
          "text": [
            "Media citricacid calidad baja: 0.17365079365079364\n",
            "Media citricacid calidad alta: 0.3728804347826087\n",
            "stat=-6.930,p=0.000\n",
            "Se rechaza la hipótesis nula de que las medias sean iguales\n"
          ]
        }
      ]
    },
    {
      "cell_type": "markdown",
      "source": [
        "Comparación de medias de acidez volátil"
      ],
      "metadata": {
        "id": "1tVnyAxXC4tA"
      }
    },
    {
      "cell_type": "code",
      "source": [
        "# Data Arrays\n",
        "print('Media volatileacidity calidad baja:',volatileacidity_bajo.mean())\n",
        "print('Media volatileacidity calidad alta:', volatileacidity_alto.mean())\n",
        "# Ejemplo T student\n",
        "stat, p = stats.ttest_ind(volatileacidity_bajo, volatileacidity_alto)\n",
        "print('stat=%.3f,p=%.3f'%(stat,p))\n",
        "if p > 0.05:\n",
        "  print('no se rechaza la hipótesis nula de que las medias sean iguales')\n",
        "else:\n",
        "  print('Se rechaza la hipótesis nula de que las medias sean iguales')"
      ],
      "metadata": {
        "colab": {
          "base_uri": "https://localhost:8080/"
        },
        "id": "RNtkl2DlC8lw",
        "outputId": "c53447f8-9b0a-40e3-a2dc-fdc655d6f701"
      },
      "execution_count": null,
      "outputs": [
        {
          "output_type": "stream",
          "name": "stdout",
          "text": [
            "Media volatileacidity calidad baja: 0.724206349206349\n",
            "Media volatileacidity calidad alta: 0.4058695652173913\n",
            "stat=12.481,p=0.000\n",
            "Se rechaza la hipótesis nula de que las medias sean iguales\n"
          ]
        }
      ]
    },
    {
      "cell_type": "markdown",
      "source": [
        "Compmración de medias de ácidez fija"
      ],
      "metadata": {
        "id": "fUvjjPsxDB9j"
      }
    },
    {
      "cell_type": "code",
      "source": [
        "# Data Arrays\n",
        "print('Media fixedacidity calidad baja:',fixedacidity_bajo.mean())\n",
        "print('Media fixedacidity calidad alta:', fixedacidity_alto.mean())\n",
        "# Ejemplo T student\n",
        "stat, p = stats.ttest_ind(fixedacidity_bajo, fixedacidity_alto)\n",
        "print('stat=%.3f,p=%.3f'%(stat,p))\n",
        "if p > 0.05:\n",
        "  print('no se rechaza la hipótesis nula de que las medias sean iguales')\n",
        "else:\n",
        "  print('Se rechaza la hipótesis nula de que las medias sean iguales')"
      ],
      "metadata": {
        "colab": {
          "base_uri": "https://localhost:8080/"
        },
        "id": "ZLZP6j5DDFcg",
        "outputId": "55c6d35a-24d6-46f3-cb8b-744bd2366e22"
      },
      "execution_count": null,
      "outputs": [
        {
          "output_type": "stream",
          "name": "stdout",
          "text": [
            "Media fixedacidity calidad baja: 7.871428571428572\n",
            "Media fixedacidity calidad alta: 8.820108695652173\n",
            "stat=-3.411,p=0.001\n",
            "Se rechaza la hipótesis nula de que las medias sean iguales\n"
          ]
        }
      ]
    },
    {
      "cell_type": "markdown",
      "source": [
        "**Se escogera las variables donde se rechaze la hipotesis nula de que las medias sean iguales, y se acepte la hipotesis nula de que las varianzas son diferentes** \n",
        "\n",
        "Estas variables son: alcohol, pH, citric acidity"
      ],
      "metadata": {
        "id": "bnJDNKNmDMB5"
      }
    },
    {
      "cell_type": "markdown",
      "source": [
        "**5.- Calcular la matriz de correlación de todas las variables numéricas**"
      ],
      "metadata": {
        "id": "QeU1BIhfuLpp"
      }
    },
    {
      "cell_type": "code",
      "source": [
        "#Matriz de correlación de todas las variables numéricas\n",
        "corr_matrix_total = np.corrcoef(red_wine.T).round(decimals=1)\n",
        "corr_matrix_total"
      ],
      "metadata": {
        "colab": {
          "base_uri": "https://localhost:8080/"
        },
        "id": "E2vNouwrD_d4",
        "outputId": "f4b54aee-9d07-4edb-fc3d-8a484ac0ea1e"
      },
      "execution_count": null,
      "outputs": [
        {
          "output_type": "execute_result",
          "data": {
            "text/plain": [
              "array([[ 1. , -0.3,  0.7,  0.1,  0.1, -0.1, -0.1,  0.7, -0.7,  0.2, -0.1,\n",
              "         0.1],\n",
              "       [-0.3,  1. , -0.6, -0. ,  0.1, -0. ,  0.1,  0. ,  0.2, -0.3, -0.2,\n",
              "        -0.4],\n",
              "       [ 0.7, -0.6,  1. ,  0.1,  0.2, -0. ,  0. ,  0.4, -0.6,  0.3,  0.1,\n",
              "         0.2],\n",
              "       [ 0.1, -0. ,  0.1,  1. ,  0. ,  0.2,  0.2,  0.3, -0.1, -0. ,  0.1,\n",
              "         0. ],\n",
              "       [ 0.1,  0.1,  0.2,  0. ,  1. ,  0. ,  0. ,  0.2, -0.3,  0.4, -0.2,\n",
              "        -0.1],\n",
              "       [-0.1, -0. , -0. ,  0.2,  0. ,  1. ,  0.7, -0. ,  0.1,  0.1, -0.1,\n",
              "        -0.1],\n",
              "       [-0.1,  0.1,  0. ,  0.2,  0. ,  0.7,  1. ,  0.1, -0.1,  0. , -0.2,\n",
              "        -0.2],\n",
              "       [ 0.7,  0. ,  0.4,  0.3,  0.2, -0. ,  0.1,  1. , -0.4,  0.1, -0.5,\n",
              "        -0.2],\n",
              "       [-0.7,  0.2, -0.6, -0.1, -0.3,  0.1, -0.1, -0.4,  1. , -0.2,  0.2,\n",
              "        -0.1],\n",
              "       [ 0.2, -0.3,  0.3, -0. ,  0.4,  0.1,  0. ,  0.1, -0.2,  1. ,  0.1,\n",
              "         0.2],\n",
              "       [-0.1, -0.2,  0.1,  0.1, -0.2, -0.1, -0.2, -0.5,  0.2,  0.1,  1. ,\n",
              "         0.5],\n",
              "       [ 0.1, -0.4,  0.2,  0. , -0.1, -0.1, -0.2, -0.2, -0.1,  0.2,  0.5,\n",
              "         1. ]])"
            ]
          },
          "metadata": {},
          "execution_count": 57
        }
      ]
    },
    {
      "cell_type": "markdown",
      "source": [
        "**6.- Grafica la matriz de correlación**"
      ],
      "metadata": {
        "id": "mtxZ5ANsuQXC"
      }
    },
    {
      "cell_type": "markdown",
      "source": [
        "Matriz de correlacion para las variables numericas y categorica escogida"
      ],
      "metadata": {
        "id": "2gOG7eKiuTvr"
      }
    },
    {
      "cell_type": "code",
      "source": [
        "# Visualizacion de la matriz\n",
        "fig, ax = plt.subplots()\n",
        "im = ax.imshow(corr_matrix_total)\n",
        "im.set_clim(-1, 1)\n",
        "ax.grid(False)\n",
        "ax.xaxis.set(ticks=(0, 1, 2,3,4,5,6,7,8,9,10,11,12), ticklabels=red_wine.columns)\n",
        "plt.xticks(rotation = 90)\n",
        "ax.yaxis.set(ticks=(0, 1, 2,3,4,5,6,7,8,9,10,11,12), ticklabels=red_wine.columns)\n",
        "for i in range(12):\n",
        "    for j in range(12):\n",
        "        ax.text(j, i, corr_matrix_total[i, j], ha='center', va='center',\n",
        "                color='r')\n",
        "cbar = ax.figure.colorbar(im, ax=ax, format='% .2f')\n",
        "plt.show()"
      ],
      "metadata": {
        "colab": {
          "base_uri": "https://localhost:8080/",
          "height": 353
        },
        "id": "fw0rBjx2uQ5g",
        "outputId": "1ba29a5c-4135-4a7a-bce3-68d9452f661a"
      },
      "execution_count": null,
      "outputs": [
        {
          "output_type": "display_data",
          "data": {
            "text/plain": [
              "<Figure size 432x288 with 2 Axes>"
            ],
            "image/png": "[encoded data removed]"
          },
          "metadata": {
            "needs_background": "light"
          }
        }
      ]
    },
    {
      "cell_type": "code",
      "source": [
        "# Visualizacion de la matriz\n",
        "fig, ax = plt.subplots()\n",
        "im = ax.imshow(corr_matrix_s)\n",
        "im.set_clim(-1, 1)\n",
        "ax.grid(False)\n",
        "ax.xaxis.set(ticks=(0, 1, 2), ticklabels=red_wine_s.columns)\n",
        "plt.xticks(rotation = 45)\n",
        "ax.yaxis.set(ticks=(0, 1, 2), ticklabels=red_wine_s.columns)\n",
        "for i in range(3):\n",
        "    for j in range(3):\n",
        "        ax.text(j, i, corr_matrix_s[i, j], ha='center', va='center',\n",
        "                color='r')\n",
        "cbar = ax.figure.colorbar(im, ax=ax, format='% .2f')\n",
        "plt.show()"
      ],
      "metadata": {
        "colab": {
          "base_uri": "https://localhost:8080/",
          "height": 301
        },
        "id": "BdcoqrpiE58M",
        "outputId": "ef1992a4-c219-4b81-a7e7-e48dd8867c55"
      },
      "execution_count": null,
      "outputs": [
        {
          "output_type": "display_data",
          "data": {
            "text/plain": [
              "<Figure size 432x288 with 2 Axes>"
            ],
            "image/png": "[encoded data removed]"
          },
          "metadata": {
            "needs_background": "light"
          }
        }
      ]
    }
  ]
}