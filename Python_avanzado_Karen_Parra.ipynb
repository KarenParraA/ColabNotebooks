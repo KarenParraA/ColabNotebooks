{
  "nbformat": 4,
  "nbformat_minor": 5,
  "metadata": {
    "kernelspec": {
      "display_name": "Python 3",
      "language": "python",
      "name": "python3"
    },
    "language_info": {
      "codemirror_mode": {
        "name": "ipython",
        "version": 3
      },
      "file_extension": ".py",
      "mimetype": "text/x-python",
      "name": "python",
      "nbconvert_exporter": "python",
      "pygments_lexer": "ipython3",
      "version": "3.8.8"
    },
    "colab": {
      "provenance": [],
      "toc_visible": true,
      "include_colab_link": true
    }
  },
  "cells": [
    {
      "cell_type": "markdown",
      "metadata": {
        "id": "view-in-github",
        "colab_type": "text"
      },
      "source": [
        "<a href=\"https://colab.research.google.com/github/KarenParraA/ColabNotebooks/blob/main/Python_avanzado_Karen_Parra.ipynb\" target=\"_parent\"><img src=\"https://colab.research.google.com/assets/colab-badge.svg\" alt=\"Open In Colab\"/></a>"
      ]
    },
    {
      "cell_type": "markdown",
      "metadata": {
        "id": "b1cc3944-8a84-450e-a33a-2ba6e9e8f357"
      },
      "source": [
        "# **Taller Final: Análisis exploratorio de datos de texto**\n",
        "\n",
        "## Descripción\n",
        "\n",
        "Se realizará el análisis de datos exploratorios sobre datos de texto acerca de tweets que han sido catalogados como sexistas.\n",
        "\n"
      ],
      "id": "b1cc3944-8a84-450e-a33a-2ba6e9e8f357"
    },
    {
      "cell_type": "markdown",
      "source": [
        "## **Requisitos previos**\n",
        "\n",
        "* Instalación de udpipe"
      ],
      "metadata": {
        "id": "FPj9vjCXsmNs"
      },
      "id": "FPj9vjCXsmNs"
    },
    {
      "cell_type": "code",
      "source": [
        "pip install spacy_udpipe"
      ],
      "metadata": {
        "colab": {
          "base_uri": "https://localhost:8080/"
        },
        "id": "owoOEsGnstVo",
        "outputId": "ad46c2c2-5c27-429f-babf-33b2a16ca0e1"
      },
      "execution_count": 1,
      "outputs": [
        {
          "output_type": "stream",
          "name": "stdout",
          "text": [
            "Looking in indexes: https://pypi.org/simple, https://us-python.pkg.dev/colab-wheels/public/simple/\n",
            "Collecting spacy_udpipe\n",
            "  Downloading spacy_udpipe-1.0.0-py3-none-any.whl (11 kB)\n",
            "Requirement already satisfied: spacy<4.0.0,>=3.0.0 in /usr/local/lib/python3.9/dist-packages (from spacy_udpipe) (3.4.4)\n",
            "Collecting ufal.udpipe>=1.2.0\n",
            "  Downloading ufal.udpipe-1.3.0.1-cp39-cp39-manylinux_2_17_x86_64.manylinux2014_x86_64.whl (936 kB)\n",
            "\u001b[2K     \u001b[90m━━━━━━━━━━━━━━━━━━━━━━━━━━━━━━━━━━━━━━\u001b[0m \u001b[32m936.9/936.9 KB\u001b[0m \u001b[31m12.4 MB/s\u001b[0m eta \u001b[36m0:00:00\u001b[0m\n",
            "\u001b[?25hRequirement already satisfied: spacy-loggers<2.0.0,>=1.0.0 in /usr/local/lib/python3.9/dist-packages (from spacy<4.0.0,>=3.0.0->spacy_udpipe) (1.0.4)\n",
            "Requirement already satisfied: pydantic!=1.8,!=1.8.1,<1.11.0,>=1.7.4 in /usr/local/lib/python3.9/dist-packages (from spacy<4.0.0,>=3.0.0->spacy_udpipe) (1.10.5)\n",
            "Requirement already satisfied: setuptools in /usr/local/lib/python3.9/dist-packages (from spacy<4.0.0,>=3.0.0->spacy_udpipe) (57.4.0)\n",
            "Requirement already satisfied: thinc<8.2.0,>=8.1.0 in /usr/local/lib/python3.9/dist-packages (from spacy<4.0.0,>=3.0.0->spacy_udpipe) (8.1.8)\n",
            "Requirement already satisfied: packaging>=20.0 in /usr/local/lib/python3.9/dist-packages (from spacy<4.0.0,>=3.0.0->spacy_udpipe) (23.0)\n",
            "Requirement already satisfied: numpy>=1.15.0 in /usr/local/lib/python3.9/dist-packages (from spacy<4.0.0,>=3.0.0->spacy_udpipe) (1.22.4)\n",
            "Requirement already satisfied: tqdm<5.0.0,>=4.38.0 in /usr/local/lib/python3.9/dist-packages (from spacy<4.0.0,>=3.0.0->spacy_udpipe) (4.65.0)\n",
            "Requirement already satisfied: langcodes<4.0.0,>=3.2.0 in /usr/local/lib/python3.9/dist-packages (from spacy<4.0.0,>=3.0.0->spacy_udpipe) (3.3.0)\n",
            "Requirement already satisfied: jinja2 in /usr/local/lib/python3.9/dist-packages (from spacy<4.0.0,>=3.0.0->spacy_udpipe) (3.1.2)\n",
            "Requirement already satisfied: spacy-legacy<3.1.0,>=3.0.10 in /usr/local/lib/python3.9/dist-packages (from spacy<4.0.0,>=3.0.0->spacy_udpipe) (3.0.12)\n",
            "Requirement already satisfied: cymem<2.1.0,>=2.0.2 in /usr/local/lib/python3.9/dist-packages (from spacy<4.0.0,>=3.0.0->spacy_udpipe) (2.0.7)\n",
            "Requirement already satisfied: murmurhash<1.1.0,>=0.28.0 in /usr/local/lib/python3.9/dist-packages (from spacy<4.0.0,>=3.0.0->spacy_udpipe) (1.0.9)\n",
            "Requirement already satisfied: pathy>=0.3.5 in /usr/local/lib/python3.9/dist-packages (from spacy<4.0.0,>=3.0.0->spacy_udpipe) (0.10.1)\n",
            "Requirement already satisfied: srsly<3.0.0,>=2.4.3 in /usr/local/lib/python3.9/dist-packages (from spacy<4.0.0,>=3.0.0->spacy_udpipe) (2.4.6)\n",
            "Requirement already satisfied: requests<3.0.0,>=2.13.0 in /usr/local/lib/python3.9/dist-packages (from spacy<4.0.0,>=3.0.0->spacy_udpipe) (2.25.1)\n",
            "Requirement already satisfied: catalogue<2.1.0,>=2.0.6 in /usr/local/lib/python3.9/dist-packages (from spacy<4.0.0,>=3.0.0->spacy_udpipe) (2.0.8)\n",
            "Requirement already satisfied: wasabi<1.1.0,>=0.9.1 in /usr/local/lib/python3.9/dist-packages (from spacy<4.0.0,>=3.0.0->spacy_udpipe) (0.10.1)\n",
            "Requirement already satisfied: smart-open<7.0.0,>=5.2.1 in /usr/local/lib/python3.9/dist-packages (from spacy<4.0.0,>=3.0.0->spacy_udpipe) (6.3.0)\n",
            "Requirement already satisfied: preshed<3.1.0,>=3.0.2 in /usr/local/lib/python3.9/dist-packages (from spacy<4.0.0,>=3.0.0->spacy_udpipe) (3.0.8)\n",
            "Requirement already satisfied: typer<0.8.0,>=0.3.0 in /usr/local/lib/python3.9/dist-packages (from spacy<4.0.0,>=3.0.0->spacy_udpipe) (0.7.0)\n",
            "Requirement already satisfied: typing-extensions>=4.2.0 in /usr/local/lib/python3.9/dist-packages (from pydantic!=1.8,!=1.8.1,<1.11.0,>=1.7.4->spacy<4.0.0,>=3.0.0->spacy_udpipe) (4.5.0)\n",
            "Requirement already satisfied: certifi>=2017.4.17 in /usr/local/lib/python3.9/dist-packages (from requests<3.0.0,>=2.13.0->spacy<4.0.0,>=3.0.0->spacy_udpipe) (2022.12.7)\n",
            "Requirement already satisfied: chardet<5,>=3.0.2 in /usr/local/lib/python3.9/dist-packages (from requests<3.0.0,>=2.13.0->spacy<4.0.0,>=3.0.0->spacy_udpipe) (4.0.0)\n",
            "Requirement already satisfied: idna<3,>=2.5 in /usr/local/lib/python3.9/dist-packages (from requests<3.0.0,>=2.13.0->spacy<4.0.0,>=3.0.0->spacy_udpipe) (2.10)\n",
            "Requirement already satisfied: urllib3<1.27,>=1.21.1 in /usr/local/lib/python3.9/dist-packages (from requests<3.0.0,>=2.13.0->spacy<4.0.0,>=3.0.0->spacy_udpipe) (1.26.14)\n",
            "Requirement already satisfied: confection<1.0.0,>=0.0.1 in /usr/local/lib/python3.9/dist-packages (from thinc<8.2.0,>=8.1.0->spacy<4.0.0,>=3.0.0->spacy_udpipe) (0.0.4)\n",
            "Requirement already satisfied: blis<0.8.0,>=0.7.8 in /usr/local/lib/python3.9/dist-packages (from thinc<8.2.0,>=8.1.0->spacy<4.0.0,>=3.0.0->spacy_udpipe) (0.7.9)\n",
            "Requirement already satisfied: click<9.0.0,>=7.1.1 in /usr/local/lib/python3.9/dist-packages (from typer<0.8.0,>=0.3.0->spacy<4.0.0,>=3.0.0->spacy_udpipe) (8.1.3)\n",
            "Requirement already satisfied: MarkupSafe>=2.0 in /usr/local/lib/python3.9/dist-packages (from jinja2->spacy<4.0.0,>=3.0.0->spacy_udpipe) (2.1.2)\n",
            "Installing collected packages: ufal.udpipe, spacy_udpipe\n",
            "Successfully installed spacy_udpipe-1.0.0 ufal.udpipe-1.3.0.1\n"
          ]
        }
      ],
      "id": "owoOEsGnstVo"
    },
    {
      "cell_type": "code",
      "source": [
        "pip install transformers"
      ],
      "metadata": {
        "colab": {
          "base_uri": "https://localhost:8080/"
        },
        "id": "qRQ2SI2MwBFJ",
        "outputId": "b2f9e500-2f4c-4b02-e79d-4a09ef8faa77"
      },
      "id": "qRQ2SI2MwBFJ",
      "execution_count": 2,
      "outputs": [
        {
          "output_type": "stream",
          "name": "stdout",
          "text": [
            "Looking in indexes: https://pypi.org/simple, https://us-python.pkg.dev/colab-wheels/public/simple/\n",
            "Collecting transformers\n",
            "  Downloading transformers-4.26.1-py3-none-any.whl (6.3 MB)\n",
            "\u001b[2K     \u001b[90m━━━━━━━━━━━━━━━━━━━━━━━━━━━━━━━━━━━━━━━━\u001b[0m \u001b[32m6.3/6.3 MB\u001b[0m \u001b[31m44.1 MB/s\u001b[0m eta \u001b[36m0:00:00\u001b[0m\n",
            "\u001b[?25hRequirement already satisfied: numpy>=1.17 in /usr/local/lib/python3.9/dist-packages (from transformers) (1.22.4)\n",
            "Requirement already satisfied: filelock in /usr/local/lib/python3.9/dist-packages (from transformers) (3.9.0)\n",
            "Requirement already satisfied: regex!=2019.12.17 in /usr/local/lib/python3.9/dist-packages (from transformers) (2022.6.2)\n",
            "Requirement already satisfied: packaging>=20.0 in /usr/local/lib/python3.9/dist-packages (from transformers) (23.0)\n",
            "Collecting huggingface-hub<1.0,>=0.11.0\n",
            "  Downloading huggingface_hub-0.13.1-py3-none-any.whl (199 kB)\n",
            "\u001b[2K     \u001b[90m━━━━━━━━━━━━━━━━━━━━━━━━━━━━━━━━━━━━━━\u001b[0m \u001b[32m199.2/199.2 KB\u001b[0m \u001b[31m20.6 MB/s\u001b[0m eta \u001b[36m0:00:00\u001b[0m\n",
            "\u001b[?25hCollecting tokenizers!=0.11.3,<0.14,>=0.11.1\n",
            "  Downloading tokenizers-0.13.2-cp39-cp39-manylinux_2_17_x86_64.manylinux2014_x86_64.whl (7.6 MB)\n",
            "\u001b[2K     \u001b[90m━━━━━━━━━━━━━━━━━━━━━━━━━━━━━━━━━━━━━━━━\u001b[0m \u001b[32m7.6/7.6 MB\u001b[0m \u001b[31m56.2 MB/s\u001b[0m eta \u001b[36m0:00:00\u001b[0m\n",
            "\u001b[?25hRequirement already satisfied: pyyaml>=5.1 in /usr/local/lib/python3.9/dist-packages (from transformers) (6.0)\n",
            "Requirement already satisfied: requests in /usr/local/lib/python3.9/dist-packages (from transformers) (2.25.1)\n",
            "Requirement already satisfied: tqdm>=4.27 in /usr/local/lib/python3.9/dist-packages (from transformers) (4.65.0)\n",
            "Requirement already satisfied: typing-extensions>=3.7.4.3 in /usr/local/lib/python3.9/dist-packages (from huggingface-hub<1.0,>=0.11.0->transformers) (4.5.0)\n",
            "Requirement already satisfied: idna<3,>=2.5 in /usr/local/lib/python3.9/dist-packages (from requests->transformers) (2.10)\n",
            "Requirement already satisfied: certifi>=2017.4.17 in /usr/local/lib/python3.9/dist-packages (from requests->transformers) (2022.12.7)\n",
            "Requirement already satisfied: urllib3<1.27,>=1.21.1 in /usr/local/lib/python3.9/dist-packages (from requests->transformers) (1.26.14)\n",
            "Requirement already satisfied: chardet<5,>=3.0.2 in /usr/local/lib/python3.9/dist-packages (from requests->transformers) (4.0.0)\n",
            "Installing collected packages: tokenizers, huggingface-hub, transformers\n",
            "Successfully installed huggingface-hub-0.13.1 tokenizers-0.13.2 transformers-4.26.1\n"
          ]
        }
      ]
    },
    {
      "cell_type": "markdown",
      "source": [
        "+ Importación de nltk y udpipe"
      ],
      "metadata": {
        "id": "nTFEupgNtEn_"
      },
      "id": "nTFEupgNtEn_"
    },
    {
      "cell_type": "code",
      "source": [
        "import nltk\n",
        "import spacy_udpipe as udpipe"
      ],
      "metadata": {
        "id": "dLxnq-r2snuI",
        "colab": {
          "base_uri": "https://localhost:8080/"
        },
        "outputId": "4cc939ad-e08d-49c4-e680-b883bf136b89"
      },
      "execution_count": 3,
      "outputs": [
        {
          "output_type": "stream",
          "name": "stderr",
          "text": [
            "/usr/local/lib/python3.9/dist-packages/torch/cuda/__init__.py:497: UserWarning: Can't initialize NVML\n",
            "  warnings.warn(\"Can't initialize NVML\")\n"
          ]
        }
      ],
      "id": "dLxnq-r2snuI"
    },
    {
      "cell_type": "markdown",
      "source": [
        "* Importación de librerías adicionales"
      ],
      "metadata": {
        "id": "265QDNwQtGyf"
      },
      "id": "265QDNwQtGyf"
    },
    {
      "cell_type": "code",
      "source": [
        "import pandas as pd\n",
        "import numpy as np\n",
        "import matplotlib.pyplot as plt\n",
        "import seaborn as sns\n",
        "import re\n",
        "from nltk.tokenize import sent_tokenize, word_tokenize\n",
        "from nltk.corpus import stopwords\n",
        "from nltk.stem import SnowballStemmer\n",
        "from nltk import ngrams"
      ],
      "metadata": {
        "id": "gPJkEr__tJAv"
      },
      "execution_count": 4,
      "outputs": [],
      "id": "gPJkEr__tJAv"
    },
    {
      "cell_type": "markdown",
      "source": [
        "+ Importación de wordcloud"
      ],
      "metadata": {
        "id": "Bv9aUJpo4iG6"
      },
      "id": "Bv9aUJpo4iG6"
    },
    {
      "cell_type": "code",
      "source": [
        "from wordcloud import WordCloud"
      ],
      "metadata": {
        "id": "tkgbmEmO4iXx"
      },
      "id": "tkgbmEmO4iXx",
      "execution_count": 5,
      "outputs": []
    },
    {
      "cell_type": "code",
      "source": [
        "from transformers import pipeline"
      ],
      "metadata": {
        "id": "GXmd7XMMwIo3"
      },
      "id": "GXmd7XMMwIo3",
      "execution_count": 6,
      "outputs": []
    },
    {
      "cell_type": "markdown",
      "source": [
        "* Conexión de Colab con Drive. Se deben copiar los dataset ejemplo en el drive a ser utilizado."
      ],
      "metadata": {
        "id": "-DamowogtUL4"
      },
      "id": "-DamowogtUL4"
    },
    {
      "cell_type": "code",
      "source": [
        "from google.colab import drive\n",
        "drive.mount('/content/drive/')"
      ],
      "metadata": {
        "colab": {
          "base_uri": "https://localhost:8080/"
        },
        "id": "XvkcAz6rtP43",
        "outputId": "ca1c1721-66c7-444e-f8b3-73e12086ffb2"
      },
      "execution_count": 7,
      "outputs": [
        {
          "output_type": "stream",
          "name": "stdout",
          "text": [
            "Mounted at /content/drive/\n"
          ]
        }
      ],
      "id": "XvkcAz6rtP43"
    },
    {
      "cell_type": "markdown",
      "source": [
        "+ Lectura de dataset de tweets "
      ],
      "metadata": {
        "id": "VG65XopFtYCo"
      },
      "id": "VG65XopFtYCo"
    },
    {
      "cell_type": "code",
      "source": [
        "tweets_sd = pd.read_csv('/content/drive/MyDrive/Colab Notebooks/sexism_data.csv')\n",
        "tweets_sd.head()"
      ],
      "metadata": {
        "id": "K26kB0bYtVtb",
        "colab": {
          "base_uri": "https://localhost:8080/",
          "height": 206
        },
        "outputId": "87438269-6c3c-4fb0-cdba-50a5d5cac8f0"
      },
      "execution_count": 18,
      "outputs": [
        {
          "output_type": "execute_result",
          "data": {
            "text/plain": [
              "   id dataset                                               text  toxicity  \\\n",
              "0   0   other  MENTION3481 i didn't even know random was an o...  0.118180   \n",
              "1   1   other                   Bottom two should've gone!  #mkr  0.251850   \n",
              "2   2  callme  MENTION3111 MENTION3424 ladyboner deserves so ...  0.113331   \n",
              "3   3   other  She shall now be known as Sourpuss #MKR #KatAn...  0.531153   \n",
              "4   4   other  Tarah W threw a bunch of women under the bus s...  0.118718   \n",
              "\n",
              "   sexist  of_id  \n",
              "0   False     -1  \n",
              "1   False     -1  \n",
              "2   False     -1  \n",
              "3   False     -1  \n",
              "4   False     -1  "
            ],
            "text/html": [
              "\n",
              "  <div id=\"df-2d4dd83d-a175-48bf-ac0f-3e55011c1d7e\">\n",
              "    <div class=\"colab-df-container\">\n",
              "      <div>\n",
              "<style scoped>\n",
              "    .dataframe tbody tr th:only-of-type {\n",
              "        vertical-align: middle;\n",
              "    }\n",
              "\n",
              "    .dataframe tbody tr th {\n",
              "        vertical-align: top;\n",
              "    }\n",
              "\n",
              "    .dataframe thead th {\n",
              "        text-align: right;\n",
              "    }\n",
              "</style>\n",
              "<table border=\"1\" class=\"dataframe\">\n",
              "  <thead>\n",
              "    <tr style=\"text-align: right;\">\n",
              "      <th></th>\n",
              "      <th>id</th>\n",
              "      <th>dataset</th>\n",
              "      <th>text</th>\n",
              "      <th>toxicity</th>\n",
              "      <th>sexist</th>\n",
              "      <th>of_id</th>\n",
              "    </tr>\n",
              "  </thead>\n",
              "  <tbody>\n",
              "    <tr>\n",
              "      <th>0</th>\n",
              "      <td>0</td>\n",
              "      <td>other</td>\n",
              "      <td>MENTION3481 i didn't even know random was an o...</td>\n",
              "      <td>0.118180</td>\n",
              "      <td>False</td>\n",
              "      <td>-1</td>\n",
              "    </tr>\n",
              "    <tr>\n",
              "      <th>1</th>\n",
              "      <td>1</td>\n",
              "      <td>other</td>\n",
              "      <td>Bottom two should've gone!  #mkr</td>\n",
              "      <td>0.251850</td>\n",
              "      <td>False</td>\n",
              "      <td>-1</td>\n",
              "    </tr>\n",
              "    <tr>\n",
              "      <th>2</th>\n",
              "      <td>2</td>\n",
              "      <td>callme</td>\n",
              "      <td>MENTION3111 MENTION3424 ladyboner deserves so ...</td>\n",
              "      <td>0.113331</td>\n",
              "      <td>False</td>\n",
              "      <td>-1</td>\n",
              "    </tr>\n",
              "    <tr>\n",
              "      <th>3</th>\n",
              "      <td>3</td>\n",
              "      <td>other</td>\n",
              "      <td>She shall now be known as Sourpuss #MKR #KatAn...</td>\n",
              "      <td>0.531153</td>\n",
              "      <td>False</td>\n",
              "      <td>-1</td>\n",
              "    </tr>\n",
              "    <tr>\n",
              "      <th>4</th>\n",
              "      <td>4</td>\n",
              "      <td>other</td>\n",
              "      <td>Tarah W threw a bunch of women under the bus s...</td>\n",
              "      <td>0.118718</td>\n",
              "      <td>False</td>\n",
              "      <td>-1</td>\n",
              "    </tr>\n",
              "  </tbody>\n",
              "</table>\n",
              "</div>\n",
              "      <button class=\"colab-df-convert\" onclick=\"convertToInteractive('df-2d4dd83d-a175-48bf-ac0f-3e55011c1d7e')\"\n",
              "              title=\"Convert this dataframe to an interactive table.\"\n",
              "              style=\"display:none;\">\n",
              "        \n",
              "  <svg xmlns=\"http://www.w3.org/2000/svg\" height=\"24px\"viewBox=\"0 0 24 24\"\n",
              "       width=\"24px\">\n",
              "    <path d=\"M0 0h24v24H0V0z\" fill=\"none\"/>\n",
              "    <path d=\"M18.56 5.44l.94 2.06.94-2.06 2.06-.94-2.06-.94-.94-2.06-.94 2.06-2.06.94zm-11 1L8.5 8.5l.94-2.06 2.06-.94-2.06-.94L8.5 2.5l-.94 2.06-2.06.94zm10 10l.94 2.06.94-2.06 2.06-.94-2.06-.94-.94-2.06-.94 2.06-2.06.94z\"/><path d=\"M17.41 7.96l-1.37-1.37c-.4-.4-.92-.59-1.43-.59-.52 0-1.04.2-1.43.59L10.3 9.45l-7.72 7.72c-.78.78-.78 2.05 0 2.83L4 21.41c.39.39.9.59 1.41.59.51 0 1.02-.2 1.41-.59l7.78-7.78 2.81-2.81c.8-.78.8-2.07 0-2.86zM5.41 20L4 18.59l7.72-7.72 1.47 1.35L5.41 20z\"/>\n",
              "  </svg>\n",
              "      </button>\n",
              "      \n",
              "  <style>\n",
              "    .colab-df-container {\n",
              "      display:flex;\n",
              "      flex-wrap:wrap;\n",
              "      gap: 12px;\n",
              "    }\n",
              "\n",
              "    .colab-df-convert {\n",
              "      background-color: #E8F0FE;\n",
              "      border: none;\n",
              "      border-radius: 50%;\n",
              "      cursor: pointer;\n",
              "      display: none;\n",
              "      fill: #1967D2;\n",
              "      height: 32px;\n",
              "      padding: 0 0 0 0;\n",
              "      width: 32px;\n",
              "    }\n",
              "\n",
              "    .colab-df-convert:hover {\n",
              "      background-color: #E2EBFA;\n",
              "      box-shadow: 0px 1px 2px rgba(60, 64, 67, 0.3), 0px 1px 3px 1px rgba(60, 64, 67, 0.15);\n",
              "      fill: #174EA6;\n",
              "    }\n",
              "\n",
              "    [theme=dark] .colab-df-convert {\n",
              "      background-color: #3B4455;\n",
              "      fill: #D2E3FC;\n",
              "    }\n",
              "\n",
              "    [theme=dark] .colab-df-convert:hover {\n",
              "      background-color: #434B5C;\n",
              "      box-shadow: 0px 1px 3px 1px rgba(0, 0, 0, 0.15);\n",
              "      filter: drop-shadow(0px 1px 2px rgba(0, 0, 0, 0.3));\n",
              "      fill: #FFFFFF;\n",
              "    }\n",
              "  </style>\n",
              "\n",
              "      <script>\n",
              "        const buttonEl =\n",
              "          document.querySelector('#df-2d4dd83d-a175-48bf-ac0f-3e55011c1d7e button.colab-df-convert');\n",
              "        buttonEl.style.display =\n",
              "          google.colab.kernel.accessAllowed ? 'block' : 'none';\n",
              "\n",
              "        async function convertToInteractive(key) {\n",
              "          const element = document.querySelector('#df-2d4dd83d-a175-48bf-ac0f-3e55011c1d7e');\n",
              "          const dataTable =\n",
              "            await google.colab.kernel.invokeFunction('convertToInteractive',\n",
              "                                                     [key], {});\n",
              "          if (!dataTable) return;\n",
              "\n",
              "          const docLinkHtml = 'Like what you see? Visit the ' +\n",
              "            '<a target=\"_blank\" href=https://colab.research.google.com/notebooks/data_table.ipynb>data table notebook</a>'\n",
              "            + ' to learn more about interactive tables.';\n",
              "          element.innerHTML = '';\n",
              "          dataTable['output_type'] = 'display_data';\n",
              "          await google.colab.output.renderOutput(dataTable, element);\n",
              "          const docLink = document.createElement('div');\n",
              "          docLink.innerHTML = docLinkHtml;\n",
              "          element.appendChild(docLink);\n",
              "        }\n",
              "      </script>\n",
              "    </div>\n",
              "  </div>\n",
              "  "
            ]
          },
          "metadata": {},
          "execution_count": 18
        }
      ],
      "id": "K26kB0bYtVtb"
    },
    {
      "cell_type": "code",
      "source": [
        "sexist = tweets_sd['sexist'] == True"
      ],
      "metadata": {
        "id": "q9em9SX-2WyR"
      },
      "id": "q9em9SX-2WyR",
      "execution_count": 19,
      "outputs": []
    },
    {
      "cell_type": "code",
      "source": [
        "tweets_bad = tweets_sd[sexist]\n",
        "tweets_bad.head(3)"
      ],
      "metadata": {
        "colab": {
          "base_uri": "https://localhost:8080/",
          "height": 143
        },
        "id": "3a1IBqHf3R7v",
        "outputId": "d73c2fd4-7250-489d-df3b-0d2a787fdcae"
      },
      "id": "3a1IBqHf3R7v",
      "execution_count": 20,
      "outputs": [
        {
          "output_type": "execute_result",
          "data": {
            "text/plain": [
              "    id dataset                                               text  toxicity  \\\n",
              "10  10  callme  All my sons have grown up with computer games ...  0.091025   \n",
              "14  14  scales                Women have more intuition than men.  0.321429   \n",
              "30  30  scales                    Women do not belong in politics  0.451443   \n",
              "\n",
              "    sexist  of_id  \n",
              "10    True     -1  \n",
              "14    True     -1  \n",
              "30    True     -1  "
            ],
            "text/html": [
              "\n",
              "  <div id=\"df-41840dd6-cb40-4325-b2dd-1c038e4c71f5\">\n",
              "    <div class=\"colab-df-container\">\n",
              "      <div>\n",
              "<style scoped>\n",
              "    .dataframe tbody tr th:only-of-type {\n",
              "        vertical-align: middle;\n",
              "    }\n",
              "\n",
              "    .dataframe tbody tr th {\n",
              "        vertical-align: top;\n",
              "    }\n",
              "\n",
              "    .dataframe thead th {\n",
              "        text-align: right;\n",
              "    }\n",
              "</style>\n",
              "<table border=\"1\" class=\"dataframe\">\n",
              "  <thead>\n",
              "    <tr style=\"text-align: right;\">\n",
              "      <th></th>\n",
              "      <th>id</th>\n",
              "      <th>dataset</th>\n",
              "      <th>text</th>\n",
              "      <th>toxicity</th>\n",
              "      <th>sexist</th>\n",
              "      <th>of_id</th>\n",
              "    </tr>\n",
              "  </thead>\n",
              "  <tbody>\n",
              "    <tr>\n",
              "      <th>10</th>\n",
              "      <td>10</td>\n",
              "      <td>callme</td>\n",
              "      <td>All my sons have grown up with computer games ...</td>\n",
              "      <td>0.091025</td>\n",
              "      <td>True</td>\n",
              "      <td>-1</td>\n",
              "    </tr>\n",
              "    <tr>\n",
              "      <th>14</th>\n",
              "      <td>14</td>\n",
              "      <td>scales</td>\n",
              "      <td>Women have more intuition than men.</td>\n",
              "      <td>0.321429</td>\n",
              "      <td>True</td>\n",
              "      <td>-1</td>\n",
              "    </tr>\n",
              "    <tr>\n",
              "      <th>30</th>\n",
              "      <td>30</td>\n",
              "      <td>scales</td>\n",
              "      <td>Women do not belong in politics</td>\n",
              "      <td>0.451443</td>\n",
              "      <td>True</td>\n",
              "      <td>-1</td>\n",
              "    </tr>\n",
              "  </tbody>\n",
              "</table>\n",
              "</div>\n",
              "      <button class=\"colab-df-convert\" onclick=\"convertToInteractive('df-41840dd6-cb40-4325-b2dd-1c038e4c71f5')\"\n",
              "              title=\"Convert this dataframe to an interactive table.\"\n",
              "              style=\"display:none;\">\n",
              "        \n",
              "  <svg xmlns=\"http://www.w3.org/2000/svg\" height=\"24px\"viewBox=\"0 0 24 24\"\n",
              "       width=\"24px\">\n",
              "    <path d=\"M0 0h24v24H0V0z\" fill=\"none\"/>\n",
              "    <path d=\"M18.56 5.44l.94 2.06.94-2.06 2.06-.94-2.06-.94-.94-2.06-.94 2.06-2.06.94zm-11 1L8.5 8.5l.94-2.06 2.06-.94-2.06-.94L8.5 2.5l-.94 2.06-2.06.94zm10 10l.94 2.06.94-2.06 2.06-.94-2.06-.94-.94-2.06-.94 2.06-2.06.94z\"/><path d=\"M17.41 7.96l-1.37-1.37c-.4-.4-.92-.59-1.43-.59-.52 0-1.04.2-1.43.59L10.3 9.45l-7.72 7.72c-.78.78-.78 2.05 0 2.83L4 21.41c.39.39.9.59 1.41.59.51 0 1.02-.2 1.41-.59l7.78-7.78 2.81-2.81c.8-.78.8-2.07 0-2.86zM5.41 20L4 18.59l7.72-7.72 1.47 1.35L5.41 20z\"/>\n",
              "  </svg>\n",
              "      </button>\n",
              "      \n",
              "  <style>\n",
              "    .colab-df-container {\n",
              "      display:flex;\n",
              "      flex-wrap:wrap;\n",
              "      gap: 12px;\n",
              "    }\n",
              "\n",
              "    .colab-df-convert {\n",
              "      background-color: #E8F0FE;\n",
              "      border: none;\n",
              "      border-radius: 50%;\n",
              "      cursor: pointer;\n",
              "      display: none;\n",
              "      fill: #1967D2;\n",
              "      height: 32px;\n",
              "      padding: 0 0 0 0;\n",
              "      width: 32px;\n",
              "    }\n",
              "\n",
              "    .colab-df-convert:hover {\n",
              "      background-color: #E2EBFA;\n",
              "      box-shadow: 0px 1px 2px rgba(60, 64, 67, 0.3), 0px 1px 3px 1px rgba(60, 64, 67, 0.15);\n",
              "      fill: #174EA6;\n",
              "    }\n",
              "\n",
              "    [theme=dark] .colab-df-convert {\n",
              "      background-color: #3B4455;\n",
              "      fill: #D2E3FC;\n",
              "    }\n",
              "\n",
              "    [theme=dark] .colab-df-convert:hover {\n",
              "      background-color: #434B5C;\n",
              "      box-shadow: 0px 1px 3px 1px rgba(0, 0, 0, 0.15);\n",
              "      filter: drop-shadow(0px 1px 2px rgba(0, 0, 0, 0.3));\n",
              "      fill: #FFFFFF;\n",
              "    }\n",
              "  </style>\n",
              "\n",
              "      <script>\n",
              "        const buttonEl =\n",
              "          document.querySelector('#df-41840dd6-cb40-4325-b2dd-1c038e4c71f5 button.colab-df-convert');\n",
              "        buttonEl.style.display =\n",
              "          google.colab.kernel.accessAllowed ? 'block' : 'none';\n",
              "\n",
              "        async function convertToInteractive(key) {\n",
              "          const element = document.querySelector('#df-41840dd6-cb40-4325-b2dd-1c038e4c71f5');\n",
              "          const dataTable =\n",
              "            await google.colab.kernel.invokeFunction('convertToInteractive',\n",
              "                                                     [key], {});\n",
              "          if (!dataTable) return;\n",
              "\n",
              "          const docLinkHtml = 'Like what you see? Visit the ' +\n",
              "            '<a target=\"_blank\" href=https://colab.research.google.com/notebooks/data_table.ipynb>data table notebook</a>'\n",
              "            + ' to learn more about interactive tables.';\n",
              "          element.innerHTML = '';\n",
              "          dataTable['output_type'] = 'display_data';\n",
              "          await google.colab.output.renderOutput(dataTable, element);\n",
              "          const docLink = document.createElement('div');\n",
              "          docLink.innerHTML = docLinkHtml;\n",
              "          element.appendChild(docLink);\n",
              "        }\n",
              "      </script>\n",
              "    </div>\n",
              "  </div>\n",
              "  "
            ]
          },
          "metadata": {},
          "execution_count": 20
        }
      ]
    },
    {
      "cell_type": "code",
      "source": [
        "tweets_bad.info()"
      ],
      "metadata": {
        "colab": {
          "base_uri": "https://localhost:8080/"
        },
        "id": "Tk-oq2NB7rfy",
        "outputId": "9271eda4-57fe-4196-9ec2-a9e75cdbe596"
      },
      "id": "Tk-oq2NB7rfy",
      "execution_count": 22,
      "outputs": [
        {
          "output_type": "stream",
          "name": "stdout",
          "text": [
            "<class 'pandas.core.frame.DataFrame'>\n",
            "Int64Index: 1809 entries, 10 to 13623\n",
            "Data columns (total 6 columns):\n",
            " #   Column    Non-Null Count  Dtype  \n",
            "---  ------    --------------  -----  \n",
            " 0   id        1809 non-null   int64  \n",
            " 1   dataset   1809 non-null   object \n",
            " 2   text      1809 non-null   object \n",
            " 3   toxicity  1809 non-null   float64\n",
            " 4   sexist    1809 non-null   bool   \n",
            " 5   of_id     1809 non-null   int64  \n",
            "dtypes: bool(1), float64(1), int64(2), object(2)\n",
            "memory usage: 86.6+ KB\n"
          ]
        }
      ]
    },
    {
      "cell_type": "markdown",
      "source": [
        "+ Módulos de NLTK"
      ],
      "metadata": {
        "id": "F4jgvxxU1vMX"
      },
      "id": "F4jgvxxU1vMX"
    },
    {
      "cell_type": "code",
      "source": [
        "nltk.download('punkt')\n",
        "nltk.download('stopwords')"
      ],
      "metadata": {
        "colab": {
          "base_uri": "https://localhost:8080/"
        },
        "id": "H8iYL59L1uy-",
        "outputId": "a7fdb19e-b564-4731-ebb8-bbc501f4686d"
      },
      "id": "H8iYL59L1uy-",
      "execution_count": 24,
      "outputs": [
        {
          "output_type": "stream",
          "name": "stderr",
          "text": [
            "[nltk_data] Downloading package punkt to /root/nltk_data...\n",
            "[nltk_data]   Package punkt is already up-to-date!\n",
            "[nltk_data] Downloading package stopwords to /root/nltk_data...\n",
            "[nltk_data]   Package stopwords is already up-to-date!\n"
          ]
        },
        {
          "output_type": "execute_result",
          "data": {
            "text/plain": [
              "True"
            ]
          },
          "metadata": {},
          "execution_count": 24
        }
      ]
    },
    {
      "cell_type": "markdown",
      "metadata": {
        "id": "2f23f29a-294a-4fdc-8eb4-16e8eeff8e55"
      },
      "source": [
        "## **Ejercicios** "
      ],
      "id": "2f23f29a-294a-4fdc-8eb4-16e8eeff8e55"
    },
    {
      "cell_type": "markdown",
      "source": [
        "###**Limpieza y tokenización de tweets**"
      ],
      "metadata": {
        "id": "AYJAyKFAC2_g"
      },
      "id": "AYJAyKFAC2_g"
    },
    {
      "cell_type": "code",
      "source": [
        "tweets_bad.reset_index(inplace = True,drop = True)"
      ],
      "metadata": {
        "id": "LbSAZNeFHfnn"
      },
      "id": "LbSAZNeFHfnn",
      "execution_count": 31,
      "outputs": []
    },
    {
      "cell_type": "code",
      "source": [
        "print(word_tokenize(tweets_bad.text[0]))"
      ],
      "metadata": {
        "colab": {
          "base_uri": "https://localhost:8080/"
        },
        "id": "o2Y2ZNgUG-p3",
        "outputId": "24f5448c-464e-4f19-ec59-7f59f1512907"
      },
      "id": "o2Y2ZNgUG-p3",
      "execution_count": 32,
      "outputs": [
        {
          "output_type": "stream",
          "name": "stdout",
          "text": [
            "['All', 'my', 'sons', 'have', 'grown', 'up', 'with', 'computer', 'games', 'but', 'I', \"'m\", 'not', 'interested', '.', 'I', 'see', 'them', 'as', 'a', 'male', 'thing', '.', 'MENTION203']\n"
          ]
        }
      ]
    },
    {
      "cell_type": "code",
      "source": [
        "stopwords.words('english')[0:10]\n",
        "def word_tokenize_clean(sentence, to_lower=True, remove_special_chars=True, remove_numbers=True, remove_stopwords = True, remove_words=True, remove_html=True):\n",
        "    if remove_html:\n",
        "      sentence = re.sub(\"@[A-Za-z0-9_]+\",\"\", sentence)\n",
        "      sentence = re.sub(\"#[[A-Za-z0-9_]+\",\"\", sentence)\n",
        "      sentence = re.sub(r\"https://t.co/\\S+\",\"\", sentence)\n",
        "      sentence = re.sub(r\"www.\\S+\",\"\", sentence)\n",
        "      sentence = re.sub(\"[MENTION_]+\",\"\",sentence)\n",
        "    token_clean = word_tokenize(sentence)\n",
        "    token_clean = word_tokenize(sentence)\n",
        "    words = ['here', 'for','amp','the',\"'re\",\"'s\",\"'m\",\"'u\",'rt']\n",
        "    if to_lower:\n",
        "      token_clean = [i.lower() for i in token_clean]\n",
        "    if remove_stopwords:\n",
        "      token_clean = [i for i in token_clean if i not in stopwords.words('english')] \n",
        "    if remove_words:\n",
        "      token_clean = [i for i in token_clean if i not in words]\n",
        "    if remove_special_chars:\n",
        "        token_clean = [re.sub(r'\\W+', '', i) for i in token_clean]\n",
        "    if remove_numbers:\n",
        "        token_clean = [re.sub(r'[0-9]+', '', i) for i in token_clean] \n",
        "    token_clean = [i for i in token_clean if i!='']\n",
        "    return token_clean"
      ],
      "metadata": {
        "id": "3RsK5iTyE6nz"
      },
      "id": "3RsK5iTyE6nz",
      "execution_count": 144,
      "outputs": []
    },
    {
      "cell_type": "code",
      "source": [
        "print(word_tokenize_clean(tweets_bad.text[10]))"
      ],
      "metadata": {
        "colab": {
          "base_uri": "https://localhost:8080/"
        },
        "id": "Yex25GTEGuod",
        "outputId": "d8ce574e-0a13-4ef5-889d-8b585930c928"
      },
      "id": "Yex25GTEGuod",
      "execution_count": 146,
      "outputs": [
        {
          "output_type": "stream",
          "name": "stdout",
          "text": [
            "['r', 'sexist', 'nt', 'believe', 'women', 'president']\n"
          ]
        }
      ]
    },
    {
      "cell_type": "markdown",
      "source": [
        "Tokenizar todos los tweets del DATASET "
      ],
      "metadata": {
        "id": "MshoZD5_IcFj"
      },
      "id": "MshoZD5_IcFj"
    },
    {
      "cell_type": "code",
      "source": [
        "tweets_bad['text_tokenized'] = [word_tokenize_clean(i) for i in tweets_bad.text]"
      ],
      "metadata": {
        "colab": {
          "base_uri": "https://localhost:8080/"
        },
        "id": "Uk6kkJT6IgIz",
        "outputId": "589cd073-b305-48f1-80ca-191d978fcf77"
      },
      "id": "Uk6kkJT6IgIz",
      "execution_count": 147,
      "outputs": [
        {
          "output_type": "stream",
          "name": "stderr",
          "text": [
            "<ipython-input-147-a25e995f94b6>:1: SettingWithCopyWarning: \n",
            "A value is trying to be set on a copy of a slice from a DataFrame.\n",
            "Try using .loc[row_indexer,col_indexer] = value instead\n",
            "\n",
            "See the caveats in the documentation: https://pandas.pydata.org/pandas-docs/stable/user_guide/indexing.html#returning-a-view-versus-a-copy\n",
            "  tweets_bad['text_tokenized'] = [word_tokenize_clean(i) for i in tweets_bad.text]\n"
          ]
        }
      ]
    },
    {
      "cell_type": "code",
      "source": [
        "tweets_bad[['text','text_tokenized']]"
      ],
      "metadata": {
        "colab": {
          "base_uri": "https://localhost:8080/",
          "height": 424
        },
        "id": "2oW9XyVhJQiT",
        "outputId": "ee73d05c-cd9e-4444-bd6e-32a3e2713412"
      },
      "id": "2oW9XyVhJQiT",
      "execution_count": 148,
      "outputs": [
        {
          "output_type": "execute_result",
          "data": {
            "text/plain": [
              "                                                   text  \\\n",
              "0     All my sons have grown up with computer games ...   \n",
              "1                   Women have more intuition than men.   \n",
              "2                       Women do not belong in politics   \n",
              "3      On the average, men are more arrogant than women   \n",
              "4     A woman will never be truly fulfilled in life ...   \n",
              "...                                                 ...   \n",
              "1804  A man shouldn’t have to worry about birth-control   \n",
              "1805  Men cannot relate to other persons as well as ...   \n",
              "1806  RT MENTION4556 call me sexist, but i hate to h...   \n",
              "1807  As head of the household, the father should ha...   \n",
              "1808  i eat like a man its old news😂 https://t.co/Vb...   \n",
              "\n",
              "                                         text_tokenized  \n",
              "0     [sons, grown, computer, games, interested, see...  \n",
              "1                               [women, intuition, men]  \n",
              "2                             [women, belong, politics]  \n",
              "3                    [n, average, men, arrogant, women]  \n",
              "4     [woman, never, truly, fulfilled, life, committ...  \n",
              "...                                                 ...  \n",
              "1804                         [man, worry, birthcontrol]  \n",
              "1805                 [en, relate, persons, well, women]  \n",
              "1806  [r, call, sexist, hate, hear, girls, argue, bo...  \n",
              "1807  [head, household, father, final, authority, ch...  \n",
              "1808                        [eat, like, man, old, news]  \n",
              "\n",
              "[1809 rows x 2 columns]"
            ],
            "text/html": [
              "\n",
              "  <div id=\"df-4bd94fac-273f-48e0-a67c-589ec706a6d3\">\n",
              "    <div class=\"colab-df-container\">\n",
              "      <div>\n",
              "<style scoped>\n",
              "    .dataframe tbody tr th:only-of-type {\n",
              "        vertical-align: middle;\n",
              "    }\n",
              "\n",
              "    .dataframe tbody tr th {\n",
              "        vertical-align: top;\n",
              "    }\n",
              "\n",
              "    .dataframe thead th {\n",
              "        text-align: right;\n",
              "    }\n",
              "</style>\n",
              "<table border=\"1\" class=\"dataframe\">\n",
              "  <thead>\n",
              "    <tr style=\"text-align: right;\">\n",
              "      <th></th>\n",
              "      <th>text</th>\n",
              "      <th>text_tokenized</th>\n",
              "    </tr>\n",
              "  </thead>\n",
              "  <tbody>\n",
              "    <tr>\n",
              "      <th>0</th>\n",
              "      <td>All my sons have grown up with computer games ...</td>\n",
              "      <td>[sons, grown, computer, games, interested, see...</td>\n",
              "    </tr>\n",
              "    <tr>\n",
              "      <th>1</th>\n",
              "      <td>Women have more intuition than men.</td>\n",
              "      <td>[women, intuition, men]</td>\n",
              "    </tr>\n",
              "    <tr>\n",
              "      <th>2</th>\n",
              "      <td>Women do not belong in politics</td>\n",
              "      <td>[women, belong, politics]</td>\n",
              "    </tr>\n",
              "    <tr>\n",
              "      <th>3</th>\n",
              "      <td>On the average, men are more arrogant than women</td>\n",
              "      <td>[n, average, men, arrogant, women]</td>\n",
              "    </tr>\n",
              "    <tr>\n",
              "      <th>4</th>\n",
              "      <td>A woman will never be truly fulfilled in life ...</td>\n",
              "      <td>[woman, never, truly, fulfilled, life, committ...</td>\n",
              "    </tr>\n",
              "    <tr>\n",
              "      <th>...</th>\n",
              "      <td>...</td>\n",
              "      <td>...</td>\n",
              "    </tr>\n",
              "    <tr>\n",
              "      <th>1804</th>\n",
              "      <td>A man shouldn’t have to worry about birth-control</td>\n",
              "      <td>[man, worry, birthcontrol]</td>\n",
              "    </tr>\n",
              "    <tr>\n",
              "      <th>1805</th>\n",
              "      <td>Men cannot relate to other persons as well as ...</td>\n",
              "      <td>[en, relate, persons, well, women]</td>\n",
              "    </tr>\n",
              "    <tr>\n",
              "      <th>1806</th>\n",
              "      <td>RT MENTION4556 call me sexist, but i hate to h...</td>\n",
              "      <td>[r, call, sexist, hate, hear, girls, argue, bo...</td>\n",
              "    </tr>\n",
              "    <tr>\n",
              "      <th>1807</th>\n",
              "      <td>As head of the household, the father should ha...</td>\n",
              "      <td>[head, household, father, final, authority, ch...</td>\n",
              "    </tr>\n",
              "    <tr>\n",
              "      <th>1808</th>\n",
              "      <td>i eat like a man its old news😂 https://t.co/Vb...</td>\n",
              "      <td>[eat, like, man, old, news]</td>\n",
              "    </tr>\n",
              "  </tbody>\n",
              "</table>\n",
              "<p>1809 rows × 2 columns</p>\n",
              "</div>\n",
              "      <button class=\"colab-df-convert\" onclick=\"convertToInteractive('df-4bd94fac-273f-48e0-a67c-589ec706a6d3')\"\n",
              "              title=\"Convert this dataframe to an interactive table.\"\n",
              "              style=\"display:none;\">\n",
              "        \n",
              "  <svg xmlns=\"http://www.w3.org/2000/svg\" height=\"24px\"viewBox=\"0 0 24 24\"\n",
              "       width=\"24px\">\n",
              "    <path d=\"M0 0h24v24H0V0z\" fill=\"none\"/>\n",
              "    <path d=\"M18.56 5.44l.94 2.06.94-2.06 2.06-.94-2.06-.94-.94-2.06-.94 2.06-2.06.94zm-11 1L8.5 8.5l.94-2.06 2.06-.94-2.06-.94L8.5 2.5l-.94 2.06-2.06.94zm10 10l.94 2.06.94-2.06 2.06-.94-2.06-.94-.94-2.06-.94 2.06-2.06.94z\"/><path d=\"M17.41 7.96l-1.37-1.37c-.4-.4-.92-.59-1.43-.59-.52 0-1.04.2-1.43.59L10.3 9.45l-7.72 7.72c-.78.78-.78 2.05 0 2.83L4 21.41c.39.39.9.59 1.41.59.51 0 1.02-.2 1.41-.59l7.78-7.78 2.81-2.81c.8-.78.8-2.07 0-2.86zM5.41 20L4 18.59l7.72-7.72 1.47 1.35L5.41 20z\"/>\n",
              "  </svg>\n",
              "      </button>\n",
              "      \n",
              "  <style>\n",
              "    .colab-df-container {\n",
              "      display:flex;\n",
              "      flex-wrap:wrap;\n",
              "      gap: 12px;\n",
              "    }\n",
              "\n",
              "    .colab-df-convert {\n",
              "      background-color: #E8F0FE;\n",
              "      border: none;\n",
              "      border-radius: 50%;\n",
              "      cursor: pointer;\n",
              "      display: none;\n",
              "      fill: #1967D2;\n",
              "      height: 32px;\n",
              "      padding: 0 0 0 0;\n",
              "      width: 32px;\n",
              "    }\n",
              "\n",
              "    .colab-df-convert:hover {\n",
              "      background-color: #E2EBFA;\n",
              "      box-shadow: 0px 1px 2px rgba(60, 64, 67, 0.3), 0px 1px 3px 1px rgba(60, 64, 67, 0.15);\n",
              "      fill: #174EA6;\n",
              "    }\n",
              "\n",
              "    [theme=dark] .colab-df-convert {\n",
              "      background-color: #3B4455;\n",
              "      fill: #D2E3FC;\n",
              "    }\n",
              "\n",
              "    [theme=dark] .colab-df-convert:hover {\n",
              "      background-color: #434B5C;\n",
              "      box-shadow: 0px 1px 3px 1px rgba(0, 0, 0, 0.15);\n",
              "      filter: drop-shadow(0px 1px 2px rgba(0, 0, 0, 0.3));\n",
              "      fill: #FFFFFF;\n",
              "    }\n",
              "  </style>\n",
              "\n",
              "      <script>\n",
              "        const buttonEl =\n",
              "          document.querySelector('#df-4bd94fac-273f-48e0-a67c-589ec706a6d3 button.colab-df-convert');\n",
              "        buttonEl.style.display =\n",
              "          google.colab.kernel.accessAllowed ? 'block' : 'none';\n",
              "\n",
              "        async function convertToInteractive(key) {\n",
              "          const element = document.querySelector('#df-4bd94fac-273f-48e0-a67c-589ec706a6d3');\n",
              "          const dataTable =\n",
              "            await google.colab.kernel.invokeFunction('convertToInteractive',\n",
              "                                                     [key], {});\n",
              "          if (!dataTable) return;\n",
              "\n",
              "          const docLinkHtml = 'Like what you see? Visit the ' +\n",
              "            '<a target=\"_blank\" href=https://colab.research.google.com/notebooks/data_table.ipynb>data table notebook</a>'\n",
              "            + ' to learn more about interactive tables.';\n",
              "          element.innerHTML = '';\n",
              "          dataTable['output_type'] = 'display_data';\n",
              "          await google.colab.output.renderOutput(dataTable, element);\n",
              "          const docLink = document.createElement('div');\n",
              "          docLink.innerHTML = docLinkHtml;\n",
              "          element.appendChild(docLink);\n",
              "        }\n",
              "      </script>\n",
              "    </div>\n",
              "  </div>\n",
              "  "
            ]
          },
          "metadata": {},
          "execution_count": 148
        }
      ]
    },
    {
      "cell_type": "code",
      "source": [
        "stemmer = SnowballStemmer('english')\n",
        "stemmer"
      ],
      "metadata": {
        "colab": {
          "base_uri": "https://localhost:8080/"
        },
        "id": "TQhoy8zoJhhT",
        "outputId": "758642e2-721f-4d1e-dfee-d96248be5093"
      },
      "id": "TQhoy8zoJhhT",
      "execution_count": 149,
      "outputs": [
        {
          "output_type": "execute_result",
          "data": {
            "text/plain": [
              "<nltk.stem.snowball.SnowballStemmer at 0x7fdc3d596910>"
            ]
          },
          "metadata": {},
          "execution_count": 149
        }
      ]
    },
    {
      "cell_type": "code",
      "source": [
        "print([stemmer.stem(i) for i in word_tokenize_clean(tweets_bad.text[0])])"
      ],
      "metadata": {
        "colab": {
          "base_uri": "https://localhost:8080/"
        },
        "id": "VEioLZt5Ji1D",
        "outputId": "e62300bb-f9b2-4ee7-c3fa-2e4385a33f4b"
      },
      "id": "VEioLZt5Ji1D",
      "execution_count": 150,
      "outputs": [
        {
          "output_type": "stream",
          "name": "stdout",
          "text": [
            "['son', 'grown', 'comput', 'game', 'interest', 'see', 'male', 'thing']\n"
          ]
        }
      ]
    },
    {
      "cell_type": "markdown",
      "source": [
        "Tokenizar y anotar el tweet ejemplo utilizando udpipe."
      ],
      "metadata": {
        "id": "hGQWXcA1JwLM"
      },
      "id": "hGQWXcA1JwLM"
    },
    {
      "cell_type": "code",
      "source": [
        "# Descargamos el modelo para el idioma inglés\n",
        "udpipe.download('en')\n",
        "# Cargamos el modelo\n",
        "nlp_model_en = udpipe.load('en')\n",
        "doc = nlp_model_en(tweets_bad.text[0])"
      ],
      "metadata": {
        "colab": {
          "base_uri": "https://localhost:8080/"
        },
        "id": "2jUEB5kxJuF9",
        "outputId": "718bc0a7-30ee-45fb-f994-232ec9a3e95a"
      },
      "id": "2jUEB5kxJuF9",
      "execution_count": 151,
      "outputs": [
        {
          "output_type": "stream",
          "name": "stdout",
          "text": [
            "Already downloaded a model for the 'en' language\n"
          ]
        }
      ]
    },
    {
      "cell_type": "code",
      "source": [
        "[(token.text,token.lemma_,token.pos_) for token in doc]"
      ],
      "metadata": {
        "colab": {
          "base_uri": "https://localhost:8080/"
        },
        "id": "10_GN8VYJ3UD",
        "outputId": "255b117c-b80a-4391-85b7-690db7e16128"
      },
      "id": "10_GN8VYJ3UD",
      "execution_count": 152,
      "outputs": [
        {
          "output_type": "execute_result",
          "data": {
            "text/plain": [
              "[('All', 'all', 'DET'),\n",
              " ('my', 'my', 'PRON'),\n",
              " ('sons', 'son', 'NOUN'),\n",
              " ('have', 'have', 'AUX'),\n",
              " ('grown', 'grow', 'VERB'),\n",
              " ('up', 'up', 'ADP'),\n",
              " ('with', 'with', 'ADP'),\n",
              " ('computer', 'computer', 'NOUN'),\n",
              " ('games', 'game', 'NOUN'),\n",
              " ('but', 'but', 'CCONJ'),\n",
              " ('I', 'I', 'PRON'),\n",
              " (\"'m\", 'be', 'AUX'),\n",
              " ('not', 'not', 'PART'),\n",
              " ('interested', 'interested', 'ADJ'),\n",
              " ('.', '.', 'PUNCT'),\n",
              " ('I', 'I', 'PRON'),\n",
              " ('see', 'see', 'VERB'),\n",
              " ('them', 'they', 'PRON'),\n",
              " ('as', 'as', 'ADP'),\n",
              " ('a', 'a', 'DET'),\n",
              " ('male', 'male', 'NOUN'),\n",
              " ('thing', 'thing', 'NOUN'),\n",
              " ('.', '.', 'PUNCT'),\n",
              " ('MENTION', 'mention', 'NOUN'),\n",
              " ('203', '203', 'NUM')]"
            ]
          },
          "metadata": {},
          "execution_count": 152
        }
      ]
    },
    {
      "cell_type": "markdown",
      "source": [
        "Formar un DF de tokens"
      ],
      "metadata": {
        "id": "PRTcp2VSKFEZ"
      },
      "id": "PRTcp2VSKFEZ"
    },
    {
      "cell_type": "code",
      "source": [
        "def udpipe_annotate(nlp_model, data, text, doc_id,\n",
        "                    to_lower=True, remove_special_chars=True, \n",
        "                    remove_numbers=True, remove_stopwords=True):\n",
        "    df_results = []\n",
        "    for i in range(0,data.shape[0]):\n",
        "        doc_i = nlp_model(' '.join(word_tokenize_clean(data.loc[:,text].iloc[i],\n",
        "                                                       to_lower=to_lower, \n",
        "                                                       remove_special_chars=remove_special_chars,\n",
        "                                                       remove_numbers=remove_numbers, \n",
        "                                                       remove_stopwords=remove_stopwords))) \n",
        "        doc_id_i = data.loc[:,doc_id].iloc[i]\n",
        "        data_i = [(doc_id_i, token.text, token.lemma_, token.pos_) for token in doc_i]\n",
        "        df_i = pd.DataFrame(data_i, columns =['doc_id', 'token', 'lemma', 'pos'])\n",
        "        df_results.append(df_i)\n",
        "    result = pd.concat(df_results)\n",
        "    return result"
      ],
      "metadata": {
        "id": "r7IQdW1aKDBg"
      },
      "id": "r7IQdW1aKDBg",
      "execution_count": 153,
      "outputs": []
    },
    {
      "cell_type": "code",
      "source": [
        "tweets_bad_annotated = udpipe_annotate(nlp_model_en,tweets_bad, 'text','id')"
      ],
      "metadata": {
        "id": "7VTTVsO1KVix"
      },
      "id": "7VTTVsO1KVix",
      "execution_count": 154,
      "outputs": []
    },
    {
      "cell_type": "code",
      "source": [
        "tweets_bad.shape"
      ],
      "metadata": {
        "colab": {
          "base_uri": "https://localhost:8080/"
        },
        "id": "MhV11D71KY5s",
        "outputId": "105f86fe-8545-4db7-baaa-bb9cff406c28"
      },
      "id": "MhV11D71KY5s",
      "execution_count": 155,
      "outputs": [
        {
          "output_type": "execute_result",
          "data": {
            "text/plain": [
              "(1809, 7)"
            ]
          },
          "metadata": {},
          "execution_count": 155
        }
      ]
    },
    {
      "cell_type": "code",
      "source": [
        "tweets_bad_annotated.shape"
      ],
      "metadata": {
        "colab": {
          "base_uri": "https://localhost:8080/"
        },
        "id": "-c5LdXWdKbED",
        "outputId": "f5739ab6-1a8e-4206-e222-a132f701fbe1"
      },
      "id": "-c5LdXWdKbED",
      "execution_count": 156,
      "outputs": [
        {
          "output_type": "execute_result",
          "data": {
            "text/plain": [
              "(14822, 4)"
            ]
          },
          "metadata": {},
          "execution_count": 156
        }
      ]
    },
    {
      "cell_type": "code",
      "source": [
        "tweets_bad_annotated.pos.value_counts(ascending=False)"
      ],
      "metadata": {
        "colab": {
          "base_uri": "https://localhost:8080/"
        },
        "id": "dJWWbdRUKfWm",
        "outputId": "9187fc8d-e2a3-4f55-fab4-2ccfb0da00f7"
      },
      "id": "dJWWbdRUKfWm",
      "execution_count": 157,
      "outputs": [
        {
          "output_type": "execute_result",
          "data": {
            "text/plain": [
              "NOUN     6677\n",
              "VERB     2846\n",
              "ADJ      2158\n",
              "ADV      1037\n",
              "AUX       512\n",
              "PART      413\n",
              "ADP       400\n",
              "PRON      205\n",
              "X         158\n",
              "INTJ      115\n",
              "NUM        79\n",
              "DET        78\n",
              "SCONJ      76\n",
              "CCONJ      35\n",
              "PROPN      32\n",
              "SYM         1\n",
              "Name: pos, dtype: int64"
            ]
          },
          "metadata": {},
          "execution_count": 157
        }
      ]
    },
    {
      "cell_type": "code",
      "source": [
        "tweets_bad_annotated.head(3)"
      ],
      "metadata": {
        "colab": {
          "base_uri": "https://localhost:8080/",
          "height": 143
        },
        "id": "zCfvpTvvMoRD",
        "outputId": "2678ff24-1ed7-442c-b0c7-c25eedd888c8"
      },
      "id": "zCfvpTvvMoRD",
      "execution_count": 158,
      "outputs": [
        {
          "output_type": "execute_result",
          "data": {
            "text/plain": [
              "   doc_id     token     lemma   pos\n",
              "0      10      sons       son  NOUN\n",
              "1      10     grown      grow  VERB\n",
              "2      10  computer  computer  NOUN"
            ],
            "text/html": [
              "\n",
              "  <div id=\"df-8c358860-5623-4548-bc53-cb40ba9f1c12\">\n",
              "    <div class=\"colab-df-container\">\n",
              "      <div>\n",
              "<style scoped>\n",
              "    .dataframe tbody tr th:only-of-type {\n",
              "        vertical-align: middle;\n",
              "    }\n",
              "\n",
              "    .dataframe tbody tr th {\n",
              "        vertical-align: top;\n",
              "    }\n",
              "\n",
              "    .dataframe thead th {\n",
              "        text-align: right;\n",
              "    }\n",
              "</style>\n",
              "<table border=\"1\" class=\"dataframe\">\n",
              "  <thead>\n",
              "    <tr style=\"text-align: right;\">\n",
              "      <th></th>\n",
              "      <th>doc_id</th>\n",
              "      <th>token</th>\n",
              "      <th>lemma</th>\n",
              "      <th>pos</th>\n",
              "    </tr>\n",
              "  </thead>\n",
              "  <tbody>\n",
              "    <tr>\n",
              "      <th>0</th>\n",
              "      <td>10</td>\n",
              "      <td>sons</td>\n",
              "      <td>son</td>\n",
              "      <td>NOUN</td>\n",
              "    </tr>\n",
              "    <tr>\n",
              "      <th>1</th>\n",
              "      <td>10</td>\n",
              "      <td>grown</td>\n",
              "      <td>grow</td>\n",
              "      <td>VERB</td>\n",
              "    </tr>\n",
              "    <tr>\n",
              "      <th>2</th>\n",
              "      <td>10</td>\n",
              "      <td>computer</td>\n",
              "      <td>computer</td>\n",
              "      <td>NOUN</td>\n",
              "    </tr>\n",
              "  </tbody>\n",
              "</table>\n",
              "</div>\n",
              "      <button class=\"colab-df-convert\" onclick=\"convertToInteractive('df-8c358860-5623-4548-bc53-cb40ba9f1c12')\"\n",
              "              title=\"Convert this dataframe to an interactive table.\"\n",
              "              style=\"display:none;\">\n",
              "        \n",
              "  <svg xmlns=\"http://www.w3.org/2000/svg\" height=\"24px\"viewBox=\"0 0 24 24\"\n",
              "       width=\"24px\">\n",
              "    <path d=\"M0 0h24v24H0V0z\" fill=\"none\"/>\n",
              "    <path d=\"M18.56 5.44l.94 2.06.94-2.06 2.06-.94-2.06-.94-.94-2.06-.94 2.06-2.06.94zm-11 1L8.5 8.5l.94-2.06 2.06-.94-2.06-.94L8.5 2.5l-.94 2.06-2.06.94zm10 10l.94 2.06.94-2.06 2.06-.94-2.06-.94-.94-2.06-.94 2.06-2.06.94z\"/><path d=\"M17.41 7.96l-1.37-1.37c-.4-.4-.92-.59-1.43-.59-.52 0-1.04.2-1.43.59L10.3 9.45l-7.72 7.72c-.78.78-.78 2.05 0 2.83L4 21.41c.39.39.9.59 1.41.59.51 0 1.02-.2 1.41-.59l7.78-7.78 2.81-2.81c.8-.78.8-2.07 0-2.86zM5.41 20L4 18.59l7.72-7.72 1.47 1.35L5.41 20z\"/>\n",
              "  </svg>\n",
              "      </button>\n",
              "      \n",
              "  <style>\n",
              "    .colab-df-container {\n",
              "      display:flex;\n",
              "      flex-wrap:wrap;\n",
              "      gap: 12px;\n",
              "    }\n",
              "\n",
              "    .colab-df-convert {\n",
              "      background-color: #E8F0FE;\n",
              "      border: none;\n",
              "      border-radius: 50%;\n",
              "      cursor: pointer;\n",
              "      display: none;\n",
              "      fill: #1967D2;\n",
              "      height: 32px;\n",
              "      padding: 0 0 0 0;\n",
              "      width: 32px;\n",
              "    }\n",
              "\n",
              "    .colab-df-convert:hover {\n",
              "      background-color: #E2EBFA;\n",
              "      box-shadow: 0px 1px 2px rgba(60, 64, 67, 0.3), 0px 1px 3px 1px rgba(60, 64, 67, 0.15);\n",
              "      fill: #174EA6;\n",
              "    }\n",
              "\n",
              "    [theme=dark] .colab-df-convert {\n",
              "      background-color: #3B4455;\n",
              "      fill: #D2E3FC;\n",
              "    }\n",
              "\n",
              "    [theme=dark] .colab-df-convert:hover {\n",
              "      background-color: #434B5C;\n",
              "      box-shadow: 0px 1px 3px 1px rgba(0, 0, 0, 0.15);\n",
              "      filter: drop-shadow(0px 1px 2px rgba(0, 0, 0, 0.3));\n",
              "      fill: #FFFFFF;\n",
              "    }\n",
              "  </style>\n",
              "\n",
              "      <script>\n",
              "        const buttonEl =\n",
              "          document.querySelector('#df-8c358860-5623-4548-bc53-cb40ba9f1c12 button.colab-df-convert');\n",
              "        buttonEl.style.display =\n",
              "          google.colab.kernel.accessAllowed ? 'block' : 'none';\n",
              "\n",
              "        async function convertToInteractive(key) {\n",
              "          const element = document.querySelector('#df-8c358860-5623-4548-bc53-cb40ba9f1c12');\n",
              "          const dataTable =\n",
              "            await google.colab.kernel.invokeFunction('convertToInteractive',\n",
              "                                                     [key], {});\n",
              "          if (!dataTable) return;\n",
              "\n",
              "          const docLinkHtml = 'Like what you see? Visit the ' +\n",
              "            '<a target=\"_blank\" href=https://colab.research.google.com/notebooks/data_table.ipynb>data table notebook</a>'\n",
              "            + ' to learn more about interactive tables.';\n",
              "          element.innerHTML = '';\n",
              "          dataTable['output_type'] = 'display_data';\n",
              "          await google.colab.output.renderOutput(dataTable, element);\n",
              "          const docLink = document.createElement('div');\n",
              "          docLink.innerHTML = docLinkHtml;\n",
              "          element.appendChild(docLink);\n",
              "        }\n",
              "      </script>\n",
              "    </div>\n",
              "  </div>\n",
              "  "
            ]
          },
          "metadata": {},
          "execution_count": 158
        }
      ]
    },
    {
      "cell_type": "code",
      "source": [
        "tweets_bad_annotated.to_csv('/content/drive/MyDrive/Colab Notebooks/sexism_data_annotated.csv')"
      ],
      "metadata": {
        "id": "YaYYrF2EKiHb"
      },
      "id": "YaYYrF2EKiHb",
      "execution_count": 160,
      "outputs": []
    },
    {
      "cell_type": "markdown",
      "source": [
        "##**Exploración de tokens**"
      ],
      "metadata": {
        "id": "xPJHZZNeLaO8"
      },
      "id": "xPJHZZNeLaO8"
    },
    {
      "cell_type": "markdown",
      "metadata": {
        "id": "3cc62c08-69c3-416e-bfa5-688a3c26ea85"
      },
      "source": [
        "1. Realizar el cálculo tfidf tokenizando por palabras. Utiliza el dataset anotado. Grafica al final los tfidf más altos de los 2 tweets más largos que existan."
      ],
      "id": "3cc62c08-69c3-416e-bfa5-688a3c26ea85"
    },
    {
      "cell_type": "code",
      "source": [
        "# tfidf MEdida de originalidad de una palabra, TF es mas importante porque se ve mas veces, originalidad de una palabra IDF es mas unica. \n",
        "#Frecuencia relativa de cada palabra\n",
        "tf = tweets_bad_annotated.\\\n",
        "  groupby(['doc_id','lemma'], as_index=False).\\\n",
        "  agg(n=('token','count'))"
      ],
      "metadata": {
        "id": "3uBiGNY-2G7O"
      },
      "id": "3uBiGNY-2G7O",
      "execution_count": 161,
      "outputs": []
    },
    {
      "cell_type": "code",
      "source": [
        "#Numero de palabras de cada documento\n",
        "tf_docid = tf.\\\n",
        "  groupby('doc_id', as_index=False).\\\n",
        "  agg(total_n=('n','sum'))\n",
        "tf = tf.merge(tf_docid,on='doc_id',how='inner')"
      ],
      "metadata": {
        "id": "nUiccPPg2Esf"
      },
      "id": "nUiccPPg2Esf",
      "execution_count": 162,
      "outputs": []
    },
    {
      "cell_type": "code",
      "source": [
        "#Calculamos la frecuencia\n",
        "tf['tf'] = tf.n/tf.total_n"
      ],
      "metadata": {
        "id": "5uIU0mC13bKT"
      },
      "id": "5uIU0mC13bKT",
      "execution_count": 163,
      "outputs": []
    },
    {
      "cell_type": "code",
      "source": [
        "tf.loc[tf.doc_id==14]"
      ],
      "metadata": {
        "colab": {
          "base_uri": "https://localhost:8080/",
          "height": 143
        },
        "id": "OYASy6aG2QD1",
        "outputId": "d0677f32-6a1b-4f12-f78d-fc75384348e8"
      },
      "id": "OYASy6aG2QD1",
      "execution_count": 164,
      "outputs": [
        {
          "output_type": "execute_result",
          "data": {
            "text/plain": [
              "    doc_id      lemma  n  total_n        tf\n",
              "8       14  intuition  1        3  0.333333\n",
              "9       14        man  1        3  0.333333\n",
              "10      14      woman  1        3  0.333333"
            ],
            "text/html": [
              "\n",
              "  <div id=\"df-cafb4594-3a50-4ee7-bdf6-5c2ef3c19f45\">\n",
              "    <div class=\"colab-df-container\">\n",
              "      <div>\n",
              "<style scoped>\n",
              "    .dataframe tbody tr th:only-of-type {\n",
              "        vertical-align: middle;\n",
              "    }\n",
              "\n",
              "    .dataframe tbody tr th {\n",
              "        vertical-align: top;\n",
              "    }\n",
              "\n",
              "    .dataframe thead th {\n",
              "        text-align: right;\n",
              "    }\n",
              "</style>\n",
              "<table border=\"1\" class=\"dataframe\">\n",
              "  <thead>\n",
              "    <tr style=\"text-align: right;\">\n",
              "      <th></th>\n",
              "      <th>doc_id</th>\n",
              "      <th>lemma</th>\n",
              "      <th>n</th>\n",
              "      <th>total_n</th>\n",
              "      <th>tf</th>\n",
              "    </tr>\n",
              "  </thead>\n",
              "  <tbody>\n",
              "    <tr>\n",
              "      <th>8</th>\n",
              "      <td>14</td>\n",
              "      <td>intuition</td>\n",
              "      <td>1</td>\n",
              "      <td>3</td>\n",
              "      <td>0.333333</td>\n",
              "    </tr>\n",
              "    <tr>\n",
              "      <th>9</th>\n",
              "      <td>14</td>\n",
              "      <td>man</td>\n",
              "      <td>1</td>\n",
              "      <td>3</td>\n",
              "      <td>0.333333</td>\n",
              "    </tr>\n",
              "    <tr>\n",
              "      <th>10</th>\n",
              "      <td>14</td>\n",
              "      <td>woman</td>\n",
              "      <td>1</td>\n",
              "      <td>3</td>\n",
              "      <td>0.333333</td>\n",
              "    </tr>\n",
              "  </tbody>\n",
              "</table>\n",
              "</div>\n",
              "      <button class=\"colab-df-convert\" onclick=\"convertToInteractive('df-cafb4594-3a50-4ee7-bdf6-5c2ef3c19f45')\"\n",
              "              title=\"Convert this dataframe to an interactive table.\"\n",
              "              style=\"display:none;\">\n",
              "        \n",
              "  <svg xmlns=\"http://www.w3.org/2000/svg\" height=\"24px\"viewBox=\"0 0 24 24\"\n",
              "       width=\"24px\">\n",
              "    <path d=\"M0 0h24v24H0V0z\" fill=\"none\"/>\n",
              "    <path d=\"M18.56 5.44l.94 2.06.94-2.06 2.06-.94-2.06-.94-.94-2.06-.94 2.06-2.06.94zm-11 1L8.5 8.5l.94-2.06 2.06-.94-2.06-.94L8.5 2.5l-.94 2.06-2.06.94zm10 10l.94 2.06.94-2.06 2.06-.94-2.06-.94-.94-2.06-.94 2.06-2.06.94z\"/><path d=\"M17.41 7.96l-1.37-1.37c-.4-.4-.92-.59-1.43-.59-.52 0-1.04.2-1.43.59L10.3 9.45l-7.72 7.72c-.78.78-.78 2.05 0 2.83L4 21.41c.39.39.9.59 1.41.59.51 0 1.02-.2 1.41-.59l7.78-7.78 2.81-2.81c.8-.78.8-2.07 0-2.86zM5.41 20L4 18.59l7.72-7.72 1.47 1.35L5.41 20z\"/>\n",
              "  </svg>\n",
              "      </button>\n",
              "      \n",
              "  <style>\n",
              "    .colab-df-container {\n",
              "      display:flex;\n",
              "      flex-wrap:wrap;\n",
              "      gap: 12px;\n",
              "    }\n",
              "\n",
              "    .colab-df-convert {\n",
              "      background-color: #E8F0FE;\n",
              "      border: none;\n",
              "      border-radius: 50%;\n",
              "      cursor: pointer;\n",
              "      display: none;\n",
              "      fill: #1967D2;\n",
              "      height: 32px;\n",
              "      padding: 0 0 0 0;\n",
              "      width: 32px;\n",
              "    }\n",
              "\n",
              "    .colab-df-convert:hover {\n",
              "      background-color: #E2EBFA;\n",
              "      box-shadow: 0px 1px 2px rgba(60, 64, 67, 0.3), 0px 1px 3px 1px rgba(60, 64, 67, 0.15);\n",
              "      fill: #174EA6;\n",
              "    }\n",
              "\n",
              "    [theme=dark] .colab-df-convert {\n",
              "      background-color: #3B4455;\n",
              "      fill: #D2E3FC;\n",
              "    }\n",
              "\n",
              "    [theme=dark] .colab-df-convert:hover {\n",
              "      background-color: #434B5C;\n",
              "      box-shadow: 0px 1px 3px 1px rgba(0, 0, 0, 0.15);\n",
              "      filter: drop-shadow(0px 1px 2px rgba(0, 0, 0, 0.3));\n",
              "      fill: #FFFFFF;\n",
              "    }\n",
              "  </style>\n",
              "\n",
              "      <script>\n",
              "        const buttonEl =\n",
              "          document.querySelector('#df-cafb4594-3a50-4ee7-bdf6-5c2ef3c19f45 button.colab-df-convert');\n",
              "        buttonEl.style.display =\n",
              "          google.colab.kernel.accessAllowed ? 'block' : 'none';\n",
              "\n",
              "        async function convertToInteractive(key) {\n",
              "          const element = document.querySelector('#df-cafb4594-3a50-4ee7-bdf6-5c2ef3c19f45');\n",
              "          const dataTable =\n",
              "            await google.colab.kernel.invokeFunction('convertToInteractive',\n",
              "                                                     [key], {});\n",
              "          if (!dataTable) return;\n",
              "\n",
              "          const docLinkHtml = 'Like what you see? Visit the ' +\n",
              "            '<a target=\"_blank\" href=https://colab.research.google.com/notebooks/data_table.ipynb>data table notebook</a>'\n",
              "            + ' to learn more about interactive tables.';\n",
              "          element.innerHTML = '';\n",
              "          dataTable['output_type'] = 'display_data';\n",
              "          await google.colab.output.renderOutput(dataTable, element);\n",
              "          const docLink = document.createElement('div');\n",
              "          docLink.innerHTML = docLinkHtml;\n",
              "          element.appendChild(docLink);\n",
              "        }\n",
              "      </script>\n",
              "    </div>\n",
              "  </div>\n",
              "  "
            ]
          },
          "metadata": {},
          "execution_count": 164
        }
      ]
    },
    {
      "cell_type": "code",
      "source": [
        "#Calculamos el numero de documentos\n",
        "n_documentos= tweets_bad_annotated.doc_id.nunique()\n",
        "n_documentos"
      ],
      "metadata": {
        "colab": {
          "base_uri": "https://localhost:8080/"
        },
        "id": "9TmbsXp33ZKF",
        "outputId": "391be3d6-a733-4bee-f39e-94a44b0947fa"
      },
      "id": "9TmbsXp33ZKF",
      "execution_count": 165,
      "outputs": [
        {
          "output_type": "execute_result",
          "data": {
            "text/plain": [
              "1809"
            ]
          },
          "metadata": {},
          "execution_count": 165
        }
      ]
    },
    {
      "cell_type": "code",
      "source": [
        "#Calculamos el numero de documentos en los que aparece cada palabra\n",
        "df=tweets_bad_annotated.\\\n",
        "  groupby(['lemma'],as_index=False).\\\n",
        "  agg(n_documents=('doc_id','nunique'))"
      ],
      "metadata": {
        "id": "8QYrFrSC4WrI"
      },
      "id": "8QYrFrSC4WrI",
      "execution_count": 166,
      "outputs": []
    },
    {
      "cell_type": "code",
      "source": [
        "#Calculamos el idf = log(# documentos totales/#documentos lemma)\n",
        "df['idf']=np.log(n_documentos/df.n_documents)"
      ],
      "metadata": {
        "id": "vMsH0hMv4uNJ"
      },
      "id": "vMsH0hMv4uNJ",
      "execution_count": 167,
      "outputs": []
    },
    {
      "cell_type": "code",
      "source": [
        "df.head()"
      ],
      "metadata": {
        "colab": {
          "base_uri": "https://localhost:8080/",
          "height": 206
        },
        "id": "Yb8t5ojK47GE",
        "outputId": "84f2af6d-67f5-44f4-8a16-fb334d0cd130"
      },
      "id": "Yb8t5ojK47GE",
      "execution_count": 168,
      "outputs": [
        {
          "output_type": "execute_result",
          "data": {
            "text/plain": [
              "      lemma  n_documents       idf\n",
              "0        's            5  5.891092\n",
              "1         I            8  5.421088\n",
              "2         a            2  6.807382\n",
              "3     aaaaa            1  7.500529\n",
              "4  aaaaaact            1  7.500529"
            ],
            "text/html": [
              "\n",
              "  <div id=\"df-408d92c2-3d75-47b6-a26c-8c8ee1588640\">\n",
              "    <div class=\"colab-df-container\">\n",
              "      <div>\n",
              "<style scoped>\n",
              "    .dataframe tbody tr th:only-of-type {\n",
              "        vertical-align: middle;\n",
              "    }\n",
              "\n",
              "    .dataframe tbody tr th {\n",
              "        vertical-align: top;\n",
              "    }\n",
              "\n",
              "    .dataframe thead th {\n",
              "        text-align: right;\n",
              "    }\n",
              "</style>\n",
              "<table border=\"1\" class=\"dataframe\">\n",
              "  <thead>\n",
              "    <tr style=\"text-align: right;\">\n",
              "      <th></th>\n",
              "      <th>lemma</th>\n",
              "      <th>n_documents</th>\n",
              "      <th>idf</th>\n",
              "    </tr>\n",
              "  </thead>\n",
              "  <tbody>\n",
              "    <tr>\n",
              "      <th>0</th>\n",
              "      <td>'s</td>\n",
              "      <td>5</td>\n",
              "      <td>5.891092</td>\n",
              "    </tr>\n",
              "    <tr>\n",
              "      <th>1</th>\n",
              "      <td>I</td>\n",
              "      <td>8</td>\n",
              "      <td>5.421088</td>\n",
              "    </tr>\n",
              "    <tr>\n",
              "      <th>2</th>\n",
              "      <td>a</td>\n",
              "      <td>2</td>\n",
              "      <td>6.807382</td>\n",
              "    </tr>\n",
              "    <tr>\n",
              "      <th>3</th>\n",
              "      <td>aaaaa</td>\n",
              "      <td>1</td>\n",
              "      <td>7.500529</td>\n",
              "    </tr>\n",
              "    <tr>\n",
              "      <th>4</th>\n",
              "      <td>aaaaaact</td>\n",
              "      <td>1</td>\n",
              "      <td>7.500529</td>\n",
              "    </tr>\n",
              "  </tbody>\n",
              "</table>\n",
              "</div>\n",
              "      <button class=\"colab-df-convert\" onclick=\"convertToInteractive('df-408d92c2-3d75-47b6-a26c-8c8ee1588640')\"\n",
              "              title=\"Convert this dataframe to an interactive table.\"\n",
              "              style=\"display:none;\">\n",
              "        \n",
              "  <svg xmlns=\"http://www.w3.org/2000/svg\" height=\"24px\"viewBox=\"0 0 24 24\"\n",
              "       width=\"24px\">\n",
              "    <path d=\"M0 0h24v24H0V0z\" fill=\"none\"/>\n",
              "    <path d=\"M18.56 5.44l.94 2.06.94-2.06 2.06-.94-2.06-.94-.94-2.06-.94 2.06-2.06.94zm-11 1L8.5 8.5l.94-2.06 2.06-.94-2.06-.94L8.5 2.5l-.94 2.06-2.06.94zm10 10l.94 2.06.94-2.06 2.06-.94-2.06-.94-.94-2.06-.94 2.06-2.06.94z\"/><path d=\"M17.41 7.96l-1.37-1.37c-.4-.4-.92-.59-1.43-.59-.52 0-1.04.2-1.43.59L10.3 9.45l-7.72 7.72c-.78.78-.78 2.05 0 2.83L4 21.41c.39.39.9.59 1.41.59.51 0 1.02-.2 1.41-.59l7.78-7.78 2.81-2.81c.8-.78.8-2.07 0-2.86zM5.41 20L4 18.59l7.72-7.72 1.47 1.35L5.41 20z\"/>\n",
              "  </svg>\n",
              "      </button>\n",
              "      \n",
              "  <style>\n",
              "    .colab-df-container {\n",
              "      display:flex;\n",
              "      flex-wrap:wrap;\n",
              "      gap: 12px;\n",
              "    }\n",
              "\n",
              "    .colab-df-convert {\n",
              "      background-color: #E8F0FE;\n",
              "      border: none;\n",
              "      border-radius: 50%;\n",
              "      cursor: pointer;\n",
              "      display: none;\n",
              "      fill: #1967D2;\n",
              "      height: 32px;\n",
              "      padding: 0 0 0 0;\n",
              "      width: 32px;\n",
              "    }\n",
              "\n",
              "    .colab-df-convert:hover {\n",
              "      background-color: #E2EBFA;\n",
              "      box-shadow: 0px 1px 2px rgba(60, 64, 67, 0.3), 0px 1px 3px 1px rgba(60, 64, 67, 0.15);\n",
              "      fill: #174EA6;\n",
              "    }\n",
              "\n",
              "    [theme=dark] .colab-df-convert {\n",
              "      background-color: #3B4455;\n",
              "      fill: #D2E3FC;\n",
              "    }\n",
              "\n",
              "    [theme=dark] .colab-df-convert:hover {\n",
              "      background-color: #434B5C;\n",
              "      box-shadow: 0px 1px 3px 1px rgba(0, 0, 0, 0.15);\n",
              "      filter: drop-shadow(0px 1px 2px rgba(0, 0, 0, 0.3));\n",
              "      fill: #FFFFFF;\n",
              "    }\n",
              "  </style>\n",
              "\n",
              "      <script>\n",
              "        const buttonEl =\n",
              "          document.querySelector('#df-408d92c2-3d75-47b6-a26c-8c8ee1588640 button.colab-df-convert');\n",
              "        buttonEl.style.display =\n",
              "          google.colab.kernel.accessAllowed ? 'block' : 'none';\n",
              "\n",
              "        async function convertToInteractive(key) {\n",
              "          const element = document.querySelector('#df-408d92c2-3d75-47b6-a26c-8c8ee1588640');\n",
              "          const dataTable =\n",
              "            await google.colab.kernel.invokeFunction('convertToInteractive',\n",
              "                                                     [key], {});\n",
              "          if (!dataTable) return;\n",
              "\n",
              "          const docLinkHtml = 'Like what you see? Visit the ' +\n",
              "            '<a target=\"_blank\" href=https://colab.research.google.com/notebooks/data_table.ipynb>data table notebook</a>'\n",
              "            + ' to learn more about interactive tables.';\n",
              "          element.innerHTML = '';\n",
              "          dataTable['output_type'] = 'display_data';\n",
              "          await google.colab.output.renderOutput(dataTable, element);\n",
              "          const docLink = document.createElement('div');\n",
              "          docLink.innerHTML = docLinkHtml;\n",
              "          element.appendChild(docLink);\n",
              "        }\n",
              "      </script>\n",
              "    </div>\n",
              "  </div>\n",
              "  "
            ]
          },
          "metadata": {},
          "execution_count": 168
        }
      ]
    },
    {
      "cell_type": "code",
      "source": [
        "#Unir tf y df\n",
        "tfidf = tf.merge(df, on ='lemma', how='inner')\n",
        "tfidf['tfidf']=tfidf.tf*tfidf.idf"
      ],
      "metadata": {
        "id": "p5uRvlRU7GH2"
      },
      "id": "p5uRvlRU7GH2",
      "execution_count": 169,
      "outputs": []
    },
    {
      "cell_type": "code",
      "source": [
        "tfidf.head()"
      ],
      "metadata": {
        "colab": {
          "base_uri": "https://localhost:8080/",
          "height": 206
        },
        "id": "HM2RyH4U7VOb",
        "outputId": "bd84f6ad-5307-4467-e7d7-cafec2db82a3"
      },
      "id": "HM2RyH4U7VOb",
      "execution_count": 170,
      "outputs": [
        {
          "output_type": "execute_result",
          "data": {
            "text/plain": [
              "   doc_id     lemma  n  total_n        tf  n_documents       idf     tfidf\n",
              "0      10  computer  1        8  0.125000            2  6.807382  0.850923\n",
              "1    3141  computer  1       10  0.100000            2  6.807382  0.680738\n",
              "2      10      game  1        8  0.125000           49  3.608709  0.451089\n",
              "3     416      game  2       11  0.181818           49  3.608709  0.656129\n",
              "4     592      game  1       11  0.090909           49  3.608709  0.328064"
            ],
            "text/html": [
              "\n",
              "  <div id=\"df-37e28bda-6ffd-4f02-a97c-63b980977e94\">\n",
              "    <div class=\"colab-df-container\">\n",
              "      <div>\n",
              "<style scoped>\n",
              "    .dataframe tbody tr th:only-of-type {\n",
              "        vertical-align: middle;\n",
              "    }\n",
              "\n",
              "    .dataframe tbody tr th {\n",
              "        vertical-align: top;\n",
              "    }\n",
              "\n",
              "    .dataframe thead th {\n",
              "        text-align: right;\n",
              "    }\n",
              "</style>\n",
              "<table border=\"1\" class=\"dataframe\">\n",
              "  <thead>\n",
              "    <tr style=\"text-align: right;\">\n",
              "      <th></th>\n",
              "      <th>doc_id</th>\n",
              "      <th>lemma</th>\n",
              "      <th>n</th>\n",
              "      <th>total_n</th>\n",
              "      <th>tf</th>\n",
              "      <th>n_documents</th>\n",
              "      <th>idf</th>\n",
              "      <th>tfidf</th>\n",
              "    </tr>\n",
              "  </thead>\n",
              "  <tbody>\n",
              "    <tr>\n",
              "      <th>0</th>\n",
              "      <td>10</td>\n",
              "      <td>computer</td>\n",
              "      <td>1</td>\n",
              "      <td>8</td>\n",
              "      <td>0.125000</td>\n",
              "      <td>2</td>\n",
              "      <td>6.807382</td>\n",
              "      <td>0.850923</td>\n",
              "    </tr>\n",
              "    <tr>\n",
              "      <th>1</th>\n",
              "      <td>3141</td>\n",
              "      <td>computer</td>\n",
              "      <td>1</td>\n",
              "      <td>10</td>\n",
              "      <td>0.100000</td>\n",
              "      <td>2</td>\n",
              "      <td>6.807382</td>\n",
              "      <td>0.680738</td>\n",
              "    </tr>\n",
              "    <tr>\n",
              "      <th>2</th>\n",
              "      <td>10</td>\n",
              "      <td>game</td>\n",
              "      <td>1</td>\n",
              "      <td>8</td>\n",
              "      <td>0.125000</td>\n",
              "      <td>49</td>\n",
              "      <td>3.608709</td>\n",
              "      <td>0.451089</td>\n",
              "    </tr>\n",
              "    <tr>\n",
              "      <th>3</th>\n",
              "      <td>416</td>\n",
              "      <td>game</td>\n",
              "      <td>2</td>\n",
              "      <td>11</td>\n",
              "      <td>0.181818</td>\n",
              "      <td>49</td>\n",
              "      <td>3.608709</td>\n",
              "      <td>0.656129</td>\n",
              "    </tr>\n",
              "    <tr>\n",
              "      <th>4</th>\n",
              "      <td>592</td>\n",
              "      <td>game</td>\n",
              "      <td>1</td>\n",
              "      <td>11</td>\n",
              "      <td>0.090909</td>\n",
              "      <td>49</td>\n",
              "      <td>3.608709</td>\n",
              "      <td>0.328064</td>\n",
              "    </tr>\n",
              "  </tbody>\n",
              "</table>\n",
              "</div>\n",
              "      <button class=\"colab-df-convert\" onclick=\"convertToInteractive('df-37e28bda-6ffd-4f02-a97c-63b980977e94')\"\n",
              "              title=\"Convert this dataframe to an interactive table.\"\n",
              "              style=\"display:none;\">\n",
              "        \n",
              "  <svg xmlns=\"http://www.w3.org/2000/svg\" height=\"24px\"viewBox=\"0 0 24 24\"\n",
              "       width=\"24px\">\n",
              "    <path d=\"M0 0h24v24H0V0z\" fill=\"none\"/>\n",
              "    <path d=\"M18.56 5.44l.94 2.06.94-2.06 2.06-.94-2.06-.94-.94-2.06-.94 2.06-2.06.94zm-11 1L8.5 8.5l.94-2.06 2.06-.94-2.06-.94L8.5 2.5l-.94 2.06-2.06.94zm10 10l.94 2.06.94-2.06 2.06-.94-2.06-.94-.94-2.06-.94 2.06-2.06.94z\"/><path d=\"M17.41 7.96l-1.37-1.37c-.4-.4-.92-.59-1.43-.59-.52 0-1.04.2-1.43.59L10.3 9.45l-7.72 7.72c-.78.78-.78 2.05 0 2.83L4 21.41c.39.39.9.59 1.41.59.51 0 1.02-.2 1.41-.59l7.78-7.78 2.81-2.81c.8-.78.8-2.07 0-2.86zM5.41 20L4 18.59l7.72-7.72 1.47 1.35L5.41 20z\"/>\n",
              "  </svg>\n",
              "      </button>\n",
              "      \n",
              "  <style>\n",
              "    .colab-df-container {\n",
              "      display:flex;\n",
              "      flex-wrap:wrap;\n",
              "      gap: 12px;\n",
              "    }\n",
              "\n",
              "    .colab-df-convert {\n",
              "      background-color: #E8F0FE;\n",
              "      border: none;\n",
              "      border-radius: 50%;\n",
              "      cursor: pointer;\n",
              "      display: none;\n",
              "      fill: #1967D2;\n",
              "      height: 32px;\n",
              "      padding: 0 0 0 0;\n",
              "      width: 32px;\n",
              "    }\n",
              "\n",
              "    .colab-df-convert:hover {\n",
              "      background-color: #E2EBFA;\n",
              "      box-shadow: 0px 1px 2px rgba(60, 64, 67, 0.3), 0px 1px 3px 1px rgba(60, 64, 67, 0.15);\n",
              "      fill: #174EA6;\n",
              "    }\n",
              "\n",
              "    [theme=dark] .colab-df-convert {\n",
              "      background-color: #3B4455;\n",
              "      fill: #D2E3FC;\n",
              "    }\n",
              "\n",
              "    [theme=dark] .colab-df-convert:hover {\n",
              "      background-color: #434B5C;\n",
              "      box-shadow: 0px 1px 3px 1px rgba(0, 0, 0, 0.15);\n",
              "      filter: drop-shadow(0px 1px 2px rgba(0, 0, 0, 0.3));\n",
              "      fill: #FFFFFF;\n",
              "    }\n",
              "  </style>\n",
              "\n",
              "      <script>\n",
              "        const buttonEl =\n",
              "          document.querySelector('#df-37e28bda-6ffd-4f02-a97c-63b980977e94 button.colab-df-convert');\n",
              "        buttonEl.style.display =\n",
              "          google.colab.kernel.accessAllowed ? 'block' : 'none';\n",
              "\n",
              "        async function convertToInteractive(key) {\n",
              "          const element = document.querySelector('#df-37e28bda-6ffd-4f02-a97c-63b980977e94');\n",
              "          const dataTable =\n",
              "            await google.colab.kernel.invokeFunction('convertToInteractive',\n",
              "                                                     [key], {});\n",
              "          if (!dataTable) return;\n",
              "\n",
              "          const docLinkHtml = 'Like what you see? Visit the ' +\n",
              "            '<a target=\"_blank\" href=https://colab.research.google.com/notebooks/data_table.ipynb>data table notebook</a>'\n",
              "            + ' to learn more about interactive tables.';\n",
              "          element.innerHTML = '';\n",
              "          dataTable['output_type'] = 'display_data';\n",
              "          await google.colab.output.renderOutput(dataTable, element);\n",
              "          const docLink = document.createElement('div');\n",
              "          docLink.innerHTML = docLinkHtml;\n",
              "          element.appendChild(docLink);\n",
              "        }\n",
              "      </script>\n",
              "    </div>\n",
              "  </div>\n",
              "  "
            ]
          },
          "metadata": {},
          "execution_count": 170
        }
      ]
    },
    {
      "cell_type": "code",
      "source": [
        "#tweet más largo\n",
        "tf_docid.sort_values('total_n',ascending=False).head()"
      ],
      "metadata": {
        "colab": {
          "base_uri": "https://localhost:8080/",
          "height": 206
        },
        "id": "mb-5Pu5w9Azn",
        "outputId": "9c34f2f6-96af-43ca-fa9c-37889dd20498"
      },
      "id": "mb-5Pu5w9Azn",
      "execution_count": 171,
      "outputs": [
        {
          "output_type": "execute_result",
          "data": {
            "text/plain": [
              "      doc_id  total_n\n",
              "1634   12439       21\n",
              "1422   10675       20\n",
              "290     2033       19\n",
              "1359   10187       19\n",
              "101      752       18"
            ],
            "text/html": [
              "\n",
              "  <div id=\"df-dea8aa1f-53ba-4b51-9194-4490ce3702cb\">\n",
              "    <div class=\"colab-df-container\">\n",
              "      <div>\n",
              "<style scoped>\n",
              "    .dataframe tbody tr th:only-of-type {\n",
              "        vertical-align: middle;\n",
              "    }\n",
              "\n",
              "    .dataframe tbody tr th {\n",
              "        vertical-align: top;\n",
              "    }\n",
              "\n",
              "    .dataframe thead th {\n",
              "        text-align: right;\n",
              "    }\n",
              "</style>\n",
              "<table border=\"1\" class=\"dataframe\">\n",
              "  <thead>\n",
              "    <tr style=\"text-align: right;\">\n",
              "      <th></th>\n",
              "      <th>doc_id</th>\n",
              "      <th>total_n</th>\n",
              "    </tr>\n",
              "  </thead>\n",
              "  <tbody>\n",
              "    <tr>\n",
              "      <th>1634</th>\n",
              "      <td>12439</td>\n",
              "      <td>21</td>\n",
              "    </tr>\n",
              "    <tr>\n",
              "      <th>1422</th>\n",
              "      <td>10675</td>\n",
              "      <td>20</td>\n",
              "    </tr>\n",
              "    <tr>\n",
              "      <th>290</th>\n",
              "      <td>2033</td>\n",
              "      <td>19</td>\n",
              "    </tr>\n",
              "    <tr>\n",
              "      <th>1359</th>\n",
              "      <td>10187</td>\n",
              "      <td>19</td>\n",
              "    </tr>\n",
              "    <tr>\n",
              "      <th>101</th>\n",
              "      <td>752</td>\n",
              "      <td>18</td>\n",
              "    </tr>\n",
              "  </tbody>\n",
              "</table>\n",
              "</div>\n",
              "      <button class=\"colab-df-convert\" onclick=\"convertToInteractive('df-dea8aa1f-53ba-4b51-9194-4490ce3702cb')\"\n",
              "              title=\"Convert this dataframe to an interactive table.\"\n",
              "              style=\"display:none;\">\n",
              "        \n",
              "  <svg xmlns=\"http://www.w3.org/2000/svg\" height=\"24px\"viewBox=\"0 0 24 24\"\n",
              "       width=\"24px\">\n",
              "    <path d=\"M0 0h24v24H0V0z\" fill=\"none\"/>\n",
              "    <path d=\"M18.56 5.44l.94 2.06.94-2.06 2.06-.94-2.06-.94-.94-2.06-.94 2.06-2.06.94zm-11 1L8.5 8.5l.94-2.06 2.06-.94-2.06-.94L8.5 2.5l-.94 2.06-2.06.94zm10 10l.94 2.06.94-2.06 2.06-.94-2.06-.94-.94-2.06-.94 2.06-2.06.94z\"/><path d=\"M17.41 7.96l-1.37-1.37c-.4-.4-.92-.59-1.43-.59-.52 0-1.04.2-1.43.59L10.3 9.45l-7.72 7.72c-.78.78-.78 2.05 0 2.83L4 21.41c.39.39.9.59 1.41.59.51 0 1.02-.2 1.41-.59l7.78-7.78 2.81-2.81c.8-.78.8-2.07 0-2.86zM5.41 20L4 18.59l7.72-7.72 1.47 1.35L5.41 20z\"/>\n",
              "  </svg>\n",
              "      </button>\n",
              "      \n",
              "  <style>\n",
              "    .colab-df-container {\n",
              "      display:flex;\n",
              "      flex-wrap:wrap;\n",
              "      gap: 12px;\n",
              "    }\n",
              "\n",
              "    .colab-df-convert {\n",
              "      background-color: #E8F0FE;\n",
              "      border: none;\n",
              "      border-radius: 50%;\n",
              "      cursor: pointer;\n",
              "      display: none;\n",
              "      fill: #1967D2;\n",
              "      height: 32px;\n",
              "      padding: 0 0 0 0;\n",
              "      width: 32px;\n",
              "    }\n",
              "\n",
              "    .colab-df-convert:hover {\n",
              "      background-color: #E2EBFA;\n",
              "      box-shadow: 0px 1px 2px rgba(60, 64, 67, 0.3), 0px 1px 3px 1px rgba(60, 64, 67, 0.15);\n",
              "      fill: #174EA6;\n",
              "    }\n",
              "\n",
              "    [theme=dark] .colab-df-convert {\n",
              "      background-color: #3B4455;\n",
              "      fill: #D2E3FC;\n",
              "    }\n",
              "\n",
              "    [theme=dark] .colab-df-convert:hover {\n",
              "      background-color: #434B5C;\n",
              "      box-shadow: 0px 1px 3px 1px rgba(0, 0, 0, 0.15);\n",
              "      filter: drop-shadow(0px 1px 2px rgba(0, 0, 0, 0.3));\n",
              "      fill: #FFFFFF;\n",
              "    }\n",
              "  </style>\n",
              "\n",
              "      <script>\n",
              "        const buttonEl =\n",
              "          document.querySelector('#df-dea8aa1f-53ba-4b51-9194-4490ce3702cb button.colab-df-convert');\n",
              "        buttonEl.style.display =\n",
              "          google.colab.kernel.accessAllowed ? 'block' : 'none';\n",
              "\n",
              "        async function convertToInteractive(key) {\n",
              "          const element = document.querySelector('#df-dea8aa1f-53ba-4b51-9194-4490ce3702cb');\n",
              "          const dataTable =\n",
              "            await google.colab.kernel.invokeFunction('convertToInteractive',\n",
              "                                                     [key], {});\n",
              "          if (!dataTable) return;\n",
              "\n",
              "          const docLinkHtml = 'Like what you see? Visit the ' +\n",
              "            '<a target=\"_blank\" href=https://colab.research.google.com/notebooks/data_table.ipynb>data table notebook</a>'\n",
              "            + ' to learn more about interactive tables.';\n",
              "          element.innerHTML = '';\n",
              "          dataTable['output_type'] = 'display_data';\n",
              "          await google.colab.output.renderOutput(dataTable, element);\n",
              "          const docLink = document.createElement('div');\n",
              "          docLink.innerHTML = docLinkHtml;\n",
              "          element.appendChild(docLink);\n",
              "        }\n",
              "      </script>\n",
              "    </div>\n",
              "  </div>\n",
              "  "
            ]
          },
          "metadata": {},
          "execution_count": 171
        }
      ]
    },
    {
      "cell_type": "code",
      "source": [
        "tfidf.loc[tfidf.doc_id==1634].sort_values('tfidf',ascending=False)"
      ],
      "metadata": {
        "colab": {
          "base_uri": "https://localhost:8080/",
          "height": 49
        },
        "id": "PrqzP7lc-N7_",
        "outputId": "3e3e51f0-e1f4-4240-d535-e4abaf075751"
      },
      "id": "PrqzP7lc-N7_",
      "execution_count": 172,
      "outputs": [
        {
          "output_type": "execute_result",
          "data": {
            "text/plain": [
              "Empty DataFrame\n",
              "Columns: [doc_id, lemma, n, total_n, tf, n_documents, idf, tfidf]\n",
              "Index: []"
            ],
            "text/html": [
              "\n",
              "  <div id=\"df-8b0cd438-f2a5-4d4a-abe0-fd96246a7082\">\n",
              "    <div class=\"colab-df-container\">\n",
              "      <div>\n",
              "<style scoped>\n",
              "    .dataframe tbody tr th:only-of-type {\n",
              "        vertical-align: middle;\n",
              "    }\n",
              "\n",
              "    .dataframe tbody tr th {\n",
              "        vertical-align: top;\n",
              "    }\n",
              "\n",
              "    .dataframe thead th {\n",
              "        text-align: right;\n",
              "    }\n",
              "</style>\n",
              "<table border=\"1\" class=\"dataframe\">\n",
              "  <thead>\n",
              "    <tr style=\"text-align: right;\">\n",
              "      <th></th>\n",
              "      <th>doc_id</th>\n",
              "      <th>lemma</th>\n",
              "      <th>n</th>\n",
              "      <th>total_n</th>\n",
              "      <th>tf</th>\n",
              "      <th>n_documents</th>\n",
              "      <th>idf</th>\n",
              "      <th>tfidf</th>\n",
              "    </tr>\n",
              "  </thead>\n",
              "  <tbody>\n",
              "  </tbody>\n",
              "</table>\n",
              "</div>\n",
              "      <button class=\"colab-df-convert\" onclick=\"convertToInteractive('df-8b0cd438-f2a5-4d4a-abe0-fd96246a7082')\"\n",
              "              title=\"Convert this dataframe to an interactive table.\"\n",
              "              style=\"display:none;\">\n",
              "        \n",
              "  <svg xmlns=\"http://www.w3.org/2000/svg\" height=\"24px\"viewBox=\"0 0 24 24\"\n",
              "       width=\"24px\">\n",
              "    <path d=\"M0 0h24v24H0V0z\" fill=\"none\"/>\n",
              "    <path d=\"M18.56 5.44l.94 2.06.94-2.06 2.06-.94-2.06-.94-.94-2.06-.94 2.06-2.06.94zm-11 1L8.5 8.5l.94-2.06 2.06-.94-2.06-.94L8.5 2.5l-.94 2.06-2.06.94zm10 10l.94 2.06.94-2.06 2.06-.94-2.06-.94-.94-2.06-.94 2.06-2.06.94z\"/><path d=\"M17.41 7.96l-1.37-1.37c-.4-.4-.92-.59-1.43-.59-.52 0-1.04.2-1.43.59L10.3 9.45l-7.72 7.72c-.78.78-.78 2.05 0 2.83L4 21.41c.39.39.9.59 1.41.59.51 0 1.02-.2 1.41-.59l7.78-7.78 2.81-2.81c.8-.78.8-2.07 0-2.86zM5.41 20L4 18.59l7.72-7.72 1.47 1.35L5.41 20z\"/>\n",
              "  </svg>\n",
              "      </button>\n",
              "      \n",
              "  <style>\n",
              "    .colab-df-container {\n",
              "      display:flex;\n",
              "      flex-wrap:wrap;\n",
              "      gap: 12px;\n",
              "    }\n",
              "\n",
              "    .colab-df-convert {\n",
              "      background-color: #E8F0FE;\n",
              "      border: none;\n",
              "      border-radius: 50%;\n",
              "      cursor: pointer;\n",
              "      display: none;\n",
              "      fill: #1967D2;\n",
              "      height: 32px;\n",
              "      padding: 0 0 0 0;\n",
              "      width: 32px;\n",
              "    }\n",
              "\n",
              "    .colab-df-convert:hover {\n",
              "      background-color: #E2EBFA;\n",
              "      box-shadow: 0px 1px 2px rgba(60, 64, 67, 0.3), 0px 1px 3px 1px rgba(60, 64, 67, 0.15);\n",
              "      fill: #174EA6;\n",
              "    }\n",
              "\n",
              "    [theme=dark] .colab-df-convert {\n",
              "      background-color: #3B4455;\n",
              "      fill: #D2E3FC;\n",
              "    }\n",
              "\n",
              "    [theme=dark] .colab-df-convert:hover {\n",
              "      background-color: #434B5C;\n",
              "      box-shadow: 0px 1px 3px 1px rgba(0, 0, 0, 0.15);\n",
              "      filter: drop-shadow(0px 1px 2px rgba(0, 0, 0, 0.3));\n",
              "      fill: #FFFFFF;\n",
              "    }\n",
              "  </style>\n",
              "\n",
              "      <script>\n",
              "        const buttonEl =\n",
              "          document.querySelector('#df-8b0cd438-f2a5-4d4a-abe0-fd96246a7082 button.colab-df-convert');\n",
              "        buttonEl.style.display =\n",
              "          google.colab.kernel.accessAllowed ? 'block' : 'none';\n",
              "\n",
              "        async function convertToInteractive(key) {\n",
              "          const element = document.querySelector('#df-8b0cd438-f2a5-4d4a-abe0-fd96246a7082');\n",
              "          const dataTable =\n",
              "            await google.colab.kernel.invokeFunction('convertToInteractive',\n",
              "                                                     [key], {});\n",
              "          if (!dataTable) return;\n",
              "\n",
              "          const docLinkHtml = 'Like what you see? Visit the ' +\n",
              "            '<a target=\"_blank\" href=https://colab.research.google.com/notebooks/data_table.ipynb>data table notebook</a>'\n",
              "            + ' to learn more about interactive tables.';\n",
              "          element.innerHTML = '';\n",
              "          dataTable['output_type'] = 'display_data';\n",
              "          await google.colab.output.renderOutput(dataTable, element);\n",
              "          const docLink = document.createElement('div');\n",
              "          docLink.innerHTML = docLinkHtml;\n",
              "          element.appendChild(docLink);\n",
              "        }\n",
              "      </script>\n",
              "    </div>\n",
              "  </div>\n",
              "  "
            ]
          },
          "metadata": {},
          "execution_count": 172
        }
      ]
    },
    {
      "cell_type": "code",
      "source": [
        "list(tweets_bad.loc[tweets_bad.id==12439,'text'])"
      ],
      "metadata": {
        "colab": {
          "base_uri": "https://localhost:8080/"
        },
        "id": "4JjZKyoh-AWI",
        "outputId": "9e9241dd-6196-4a80-9c6a-e5d7406be76f"
      },
      "id": "4JjZKyoh-AWI",
      "execution_count": 173,
      "outputs": [
        {
          "output_type": "execute_result",
          "data": {
            "text/plain": [
              "[\"Call me sexist but I can't stand playing golf behind females especially middle aged to elderly ones. SMH SPEED UP OR GO BACK TO DA KITCHEN.\"]"
            ]
          },
          "metadata": {},
          "execution_count": 173
        }
      ]
    },
    {
      "cell_type": "code",
      "source": [
        "list(tweets_dc.loc[tweets_dc.id==10187,'text'])"
      ],
      "metadata": {
        "colab": {
          "base_uri": "https://localhost:8080/"
        },
        "id": "1nAQzy1I_dq8",
        "outputId": "ce2cd654-9d0d-4f50-d21e-ca131151ac9b"
      },
      "id": "1nAQzy1I_dq8",
      "execution_count": 174,
      "outputs": [
        {
          "output_type": "execute_result",
          "data": {
            "text/plain": [
              "['ppl always discredit Mingyus height but im tall for a girl and someone who is 180cm seems rly nicely tall to me so Mingyu at like 183cm is👍']"
            ]
          },
          "metadata": {},
          "execution_count": 174
        }
      ]
    },
    {
      "cell_type": "code",
      "source": [
        "tfidf.loc[tfidf.doc_id==12439].sort_values('tfidf',ascending=False)"
      ],
      "metadata": {
        "colab": {
          "base_uri": "https://localhost:8080/",
          "height": 708
        },
        "id": "-iXNGLlM-gXL",
        "outputId": "b48d7cf7-ce21-4c76-bbb6-a3b89e50d7e9"
      },
      "id": "-iXNGLlM-gXL",
      "execution_count": 175,
      "outputs": [
        {
          "output_type": "execute_result",
          "data": {
            "text/plain": [
              "       doc_id       lemma  n  total_n        tf  n_documents       idf  \\\n",
              "14101   12439         spd  1       21  0.047619            1  7.500529   \n",
              "14100   12439         kch  1       21  0.047619            1  7.500529   \n",
              "14099   12439     elderly  1       21  0.047619            1  7.500529   \n",
              "12939   12439          da  1       21  0.047619            2  6.807382   \n",
              "14097   12439           a  1       21  0.047619            2  6.807382   \n",
              "13889   12439      middle  1       21  0.047619            2  6.807382   \n",
              "13931   12439        golf  1       21  0.047619            3  6.401917   \n",
              "9978    12439          sh  1       21  0.047619            6  5.708770   \n",
              "10029   12439      behind  1       21  0.047619            9  5.303305   \n",
              "9520    12439  especially  1       21  0.047619           10  5.197944   \n",
              "10792   12439           g  1       21  0.047619           10  5.197944   \n",
              "12019   12439        back  1       21  0.047619           10  5.197944   \n",
              "7529    12439       stand  1       21  0.047619           25  4.281654   \n",
              "4017    12439         one  1       21  0.047619           45  3.693867   \n",
              "7325    12439        play  1       21  0.047619           50  3.588506   \n",
              "2725    12439         can  1       21  0.047619           73  3.210070   \n",
              "4360    12439        call  1       21  0.047619           76  3.169796   \n",
              "2882    12439      female  1       21  0.047619          177  2.324380   \n",
              "3593    12439      sexist  1       21  0.047619          188  2.264088   \n",
              "3321    12439          be  1       21  0.047619          210  2.153422   \n",
              "1906    12439         not  1       21  0.047619          341  1.668647   \n",
              "\n",
              "          tfidf  \n",
              "14101  0.357168  \n",
              "14100  0.357168  \n",
              "14099  0.357168  \n",
              "12939  0.324161  \n",
              "14097  0.324161  \n",
              "13889  0.324161  \n",
              "13931  0.304853  \n",
              "9978   0.271846  \n",
              "10029  0.252538  \n",
              "9520   0.247521  \n",
              "10792  0.247521  \n",
              "12019  0.247521  \n",
              "7529   0.203888  \n",
              "4017   0.175898  \n",
              "7325   0.170881  \n",
              "2725   0.152860  \n",
              "4360   0.150943  \n",
              "2882   0.110685  \n",
              "3593   0.107814  \n",
              "3321   0.102544  \n",
              "1906   0.079459  "
            ],
            "text/html": [
              "\n",
              "  <div id=\"df-499888af-19dd-4961-9e93-2131b3f64eb4\">\n",
              "    <div class=\"colab-df-container\">\n",
              "      <div>\n",
              "<style scoped>\n",
              "    .dataframe tbody tr th:only-of-type {\n",
              "        vertical-align: middle;\n",
              "    }\n",
              "\n",
              "    .dataframe tbody tr th {\n",
              "        vertical-align: top;\n",
              "    }\n",
              "\n",
              "    .dataframe thead th {\n",
              "        text-align: right;\n",
              "    }\n",
              "</style>\n",
              "<table border=\"1\" class=\"dataframe\">\n",
              "  <thead>\n",
              "    <tr style=\"text-align: right;\">\n",
              "      <th></th>\n",
              "      <th>doc_id</th>\n",
              "      <th>lemma</th>\n",
              "      <th>n</th>\n",
              "      <th>total_n</th>\n",
              "      <th>tf</th>\n",
              "      <th>n_documents</th>\n",
              "      <th>idf</th>\n",
              "      <th>tfidf</th>\n",
              "    </tr>\n",
              "  </thead>\n",
              "  <tbody>\n",
              "    <tr>\n",
              "      <th>14101</th>\n",
              "      <td>12439</td>\n",
              "      <td>spd</td>\n",
              "      <td>1</td>\n",
              "      <td>21</td>\n",
              "      <td>0.047619</td>\n",
              "      <td>1</td>\n",
              "      <td>7.500529</td>\n",
              "      <td>0.357168</td>\n",
              "    </tr>\n",
              "    <tr>\n",
              "      <th>14100</th>\n",
              "      <td>12439</td>\n",
              "      <td>kch</td>\n",
              "      <td>1</td>\n",
              "      <td>21</td>\n",
              "      <td>0.047619</td>\n",
              "      <td>1</td>\n",
              "      <td>7.500529</td>\n",
              "      <td>0.357168</td>\n",
              "    </tr>\n",
              "    <tr>\n",
              "      <th>14099</th>\n",
              "      <td>12439</td>\n",
              "      <td>elderly</td>\n",
              "      <td>1</td>\n",
              "      <td>21</td>\n",
              "      <td>0.047619</td>\n",
              "      <td>1</td>\n",
              "      <td>7.500529</td>\n",
              "      <td>0.357168</td>\n",
              "    </tr>\n",
              "    <tr>\n",
              "      <th>12939</th>\n",
              "      <td>12439</td>\n",
              "      <td>da</td>\n",
              "      <td>1</td>\n",
              "      <td>21</td>\n",
              "      <td>0.047619</td>\n",
              "      <td>2</td>\n",
              "      <td>6.807382</td>\n",
              "      <td>0.324161</td>\n",
              "    </tr>\n",
              "    <tr>\n",
              "      <th>14097</th>\n",
              "      <td>12439</td>\n",
              "      <td>a</td>\n",
              "      <td>1</td>\n",
              "      <td>21</td>\n",
              "      <td>0.047619</td>\n",
              "      <td>2</td>\n",
              "      <td>6.807382</td>\n",
              "      <td>0.324161</td>\n",
              "    </tr>\n",
              "    <tr>\n",
              "      <th>13889</th>\n",
              "      <td>12439</td>\n",
              "      <td>middle</td>\n",
              "      <td>1</td>\n",
              "      <td>21</td>\n",
              "      <td>0.047619</td>\n",
              "      <td>2</td>\n",
              "      <td>6.807382</td>\n",
              "      <td>0.324161</td>\n",
              "    </tr>\n",
              "    <tr>\n",
              "      <th>13931</th>\n",
              "      <td>12439</td>\n",
              "      <td>golf</td>\n",
              "      <td>1</td>\n",
              "      <td>21</td>\n",
              "      <td>0.047619</td>\n",
              "      <td>3</td>\n",
              "      <td>6.401917</td>\n",
              "      <td>0.304853</td>\n",
              "    </tr>\n",
              "    <tr>\n",
              "      <th>9978</th>\n",
              "      <td>12439</td>\n",
              "      <td>sh</td>\n",
              "      <td>1</td>\n",
              "      <td>21</td>\n",
              "      <td>0.047619</td>\n",
              "      <td>6</td>\n",
              "      <td>5.708770</td>\n",
              "      <td>0.271846</td>\n",
              "    </tr>\n",
              "    <tr>\n",
              "      <th>10029</th>\n",
              "      <td>12439</td>\n",
              "      <td>behind</td>\n",
              "      <td>1</td>\n",
              "      <td>21</td>\n",
              "      <td>0.047619</td>\n",
              "      <td>9</td>\n",
              "      <td>5.303305</td>\n",
              "      <td>0.252538</td>\n",
              "    </tr>\n",
              "    <tr>\n",
              "      <th>9520</th>\n",
              "      <td>12439</td>\n",
              "      <td>especially</td>\n",
              "      <td>1</td>\n",
              "      <td>21</td>\n",
              "      <td>0.047619</td>\n",
              "      <td>10</td>\n",
              "      <td>5.197944</td>\n",
              "      <td>0.247521</td>\n",
              "    </tr>\n",
              "    <tr>\n",
              "      <th>10792</th>\n",
              "      <td>12439</td>\n",
              "      <td>g</td>\n",
              "      <td>1</td>\n",
              "      <td>21</td>\n",
              "      <td>0.047619</td>\n",
              "      <td>10</td>\n",
              "      <td>5.197944</td>\n",
              "      <td>0.247521</td>\n",
              "    </tr>\n",
              "    <tr>\n",
              "      <th>12019</th>\n",
              "      <td>12439</td>\n",
              "      <td>back</td>\n",
              "      <td>1</td>\n",
              "      <td>21</td>\n",
              "      <td>0.047619</td>\n",
              "      <td>10</td>\n",
              "      <td>5.197944</td>\n",
              "      <td>0.247521</td>\n",
              "    </tr>\n",
              "    <tr>\n",
              "      <th>7529</th>\n",
              "      <td>12439</td>\n",
              "      <td>stand</td>\n",
              "      <td>1</td>\n",
              "      <td>21</td>\n",
              "      <td>0.047619</td>\n",
              "      <td>25</td>\n",
              "      <td>4.281654</td>\n",
              "      <td>0.203888</td>\n",
              "    </tr>\n",
              "    <tr>\n",
              "      <th>4017</th>\n",
              "      <td>12439</td>\n",
              "      <td>one</td>\n",
              "      <td>1</td>\n",
              "      <td>21</td>\n",
              "      <td>0.047619</td>\n",
              "      <td>45</td>\n",
              "      <td>3.693867</td>\n",
              "      <td>0.175898</td>\n",
              "    </tr>\n",
              "    <tr>\n",
              "      <th>7325</th>\n",
              "      <td>12439</td>\n",
              "      <td>play</td>\n",
              "      <td>1</td>\n",
              "      <td>21</td>\n",
              "      <td>0.047619</td>\n",
              "      <td>50</td>\n",
              "      <td>3.588506</td>\n",
              "      <td>0.170881</td>\n",
              "    </tr>\n",
              "    <tr>\n",
              "      <th>2725</th>\n",
              "      <td>12439</td>\n",
              "      <td>can</td>\n",
              "      <td>1</td>\n",
              "      <td>21</td>\n",
              "      <td>0.047619</td>\n",
              "      <td>73</td>\n",
              "      <td>3.210070</td>\n",
              "      <td>0.152860</td>\n",
              "    </tr>\n",
              "    <tr>\n",
              "      <th>4360</th>\n",
              "      <td>12439</td>\n",
              "      <td>call</td>\n",
              "      <td>1</td>\n",
              "      <td>21</td>\n",
              "      <td>0.047619</td>\n",
              "      <td>76</td>\n",
              "      <td>3.169796</td>\n",
              "      <td>0.150943</td>\n",
              "    </tr>\n",
              "    <tr>\n",
              "      <th>2882</th>\n",
              "      <td>12439</td>\n",
              "      <td>female</td>\n",
              "      <td>1</td>\n",
              "      <td>21</td>\n",
              "      <td>0.047619</td>\n",
              "      <td>177</td>\n",
              "      <td>2.324380</td>\n",
              "      <td>0.110685</td>\n",
              "    </tr>\n",
              "    <tr>\n",
              "      <th>3593</th>\n",
              "      <td>12439</td>\n",
              "      <td>sexist</td>\n",
              "      <td>1</td>\n",
              "      <td>21</td>\n",
              "      <td>0.047619</td>\n",
              "      <td>188</td>\n",
              "      <td>2.264088</td>\n",
              "      <td>0.107814</td>\n",
              "    </tr>\n",
              "    <tr>\n",
              "      <th>3321</th>\n",
              "      <td>12439</td>\n",
              "      <td>be</td>\n",
              "      <td>1</td>\n",
              "      <td>21</td>\n",
              "      <td>0.047619</td>\n",
              "      <td>210</td>\n",
              "      <td>2.153422</td>\n",
              "      <td>0.102544</td>\n",
              "    </tr>\n",
              "    <tr>\n",
              "      <th>1906</th>\n",
              "      <td>12439</td>\n",
              "      <td>not</td>\n",
              "      <td>1</td>\n",
              "      <td>21</td>\n",
              "      <td>0.047619</td>\n",
              "      <td>341</td>\n",
              "      <td>1.668647</td>\n",
              "      <td>0.079459</td>\n",
              "    </tr>\n",
              "  </tbody>\n",
              "</table>\n",
              "</div>\n",
              "      <button class=\"colab-df-convert\" onclick=\"convertToInteractive('df-499888af-19dd-4961-9e93-2131b3f64eb4')\"\n",
              "              title=\"Convert this dataframe to an interactive table.\"\n",
              "              style=\"display:none;\">\n",
              "        \n",
              "  <svg xmlns=\"http://www.w3.org/2000/svg\" height=\"24px\"viewBox=\"0 0 24 24\"\n",
              "       width=\"24px\">\n",
              "    <path d=\"M0 0h24v24H0V0z\" fill=\"none\"/>\n",
              "    <path d=\"M18.56 5.44l.94 2.06.94-2.06 2.06-.94-2.06-.94-.94-2.06-.94 2.06-2.06.94zm-11 1L8.5 8.5l.94-2.06 2.06-.94-2.06-.94L8.5 2.5l-.94 2.06-2.06.94zm10 10l.94 2.06.94-2.06 2.06-.94-2.06-.94-.94-2.06-.94 2.06-2.06.94z\"/><path d=\"M17.41 7.96l-1.37-1.37c-.4-.4-.92-.59-1.43-.59-.52 0-1.04.2-1.43.59L10.3 9.45l-7.72 7.72c-.78.78-.78 2.05 0 2.83L4 21.41c.39.39.9.59 1.41.59.51 0 1.02-.2 1.41-.59l7.78-7.78 2.81-2.81c.8-.78.8-2.07 0-2.86zM5.41 20L4 18.59l7.72-7.72 1.47 1.35L5.41 20z\"/>\n",
              "  </svg>\n",
              "      </button>\n",
              "      \n",
              "  <style>\n",
              "    .colab-df-container {\n",
              "      display:flex;\n",
              "      flex-wrap:wrap;\n",
              "      gap: 12px;\n",
              "    }\n",
              "\n",
              "    .colab-df-convert {\n",
              "      background-color: #E8F0FE;\n",
              "      border: none;\n",
              "      border-radius: 50%;\n",
              "      cursor: pointer;\n",
              "      display: none;\n",
              "      fill: #1967D2;\n",
              "      height: 32px;\n",
              "      padding: 0 0 0 0;\n",
              "      width: 32px;\n",
              "    }\n",
              "\n",
              "    .colab-df-convert:hover {\n",
              "      background-color: #E2EBFA;\n",
              "      box-shadow: 0px 1px 2px rgba(60, 64, 67, 0.3), 0px 1px 3px 1px rgba(60, 64, 67, 0.15);\n",
              "      fill: #174EA6;\n",
              "    }\n",
              "\n",
              "    [theme=dark] .colab-df-convert {\n",
              "      background-color: #3B4455;\n",
              "      fill: #D2E3FC;\n",
              "    }\n",
              "\n",
              "    [theme=dark] .colab-df-convert:hover {\n",
              "      background-color: #434B5C;\n",
              "      box-shadow: 0px 1px 3px 1px rgba(0, 0, 0, 0.15);\n",
              "      filter: drop-shadow(0px 1px 2px rgba(0, 0, 0, 0.3));\n",
              "      fill: #FFFFFF;\n",
              "    }\n",
              "  </style>\n",
              "\n",
              "      <script>\n",
              "        const buttonEl =\n",
              "          document.querySelector('#df-499888af-19dd-4961-9e93-2131b3f64eb4 button.colab-df-convert');\n",
              "        buttonEl.style.display =\n",
              "          google.colab.kernel.accessAllowed ? 'block' : 'none';\n",
              "\n",
              "        async function convertToInteractive(key) {\n",
              "          const element = document.querySelector('#df-499888af-19dd-4961-9e93-2131b3f64eb4');\n",
              "          const dataTable =\n",
              "            await google.colab.kernel.invokeFunction('convertToInteractive',\n",
              "                                                     [key], {});\n",
              "          if (!dataTable) return;\n",
              "\n",
              "          const docLinkHtml = 'Like what you see? Visit the ' +\n",
              "            '<a target=\"_blank\" href=https://colab.research.google.com/notebooks/data_table.ipynb>data table notebook</a>'\n",
              "            + ' to learn more about interactive tables.';\n",
              "          element.innerHTML = '';\n",
              "          dataTable['output_type'] = 'display_data';\n",
              "          await google.colab.output.renderOutput(dataTable, element);\n",
              "          const docLink = document.createElement('div');\n",
              "          docLink.innerHTML = docLinkHtml;\n",
              "          element.appendChild(docLink);\n",
              "        }\n",
              "      </script>\n",
              "    </div>\n",
              "  </div>\n",
              "  "
            ]
          },
          "metadata": {},
          "execution_count": 175
        }
      ]
    },
    {
      "cell_type": "code",
      "source": [
        "tf.groupby('doc_id',as_index=False).agg(total=('tf','sum')).head(3)"
      ],
      "metadata": {
        "colab": {
          "base_uri": "https://localhost:8080/",
          "height": 143
        },
        "id": "7puqqdR-_jm_",
        "outputId": "ad1db235-3276-4c3f-c696-e2ad4a9767ff"
      },
      "id": "7puqqdR-_jm_",
      "execution_count": 176,
      "outputs": [
        {
          "output_type": "execute_result",
          "data": {
            "text/plain": [
              "   doc_id  total\n",
              "0      10    1.0\n",
              "1      14    1.0\n",
              "2      30    1.0"
            ],
            "text/html": [
              "\n",
              "  <div id=\"df-c734d7e3-0113-44ff-a114-cac8b619fe4d\">\n",
              "    <div class=\"colab-df-container\">\n",
              "      <div>\n",
              "<style scoped>\n",
              "    .dataframe tbody tr th:only-of-type {\n",
              "        vertical-align: middle;\n",
              "    }\n",
              "\n",
              "    .dataframe tbody tr th {\n",
              "        vertical-align: top;\n",
              "    }\n",
              "\n",
              "    .dataframe thead th {\n",
              "        text-align: right;\n",
              "    }\n",
              "</style>\n",
              "<table border=\"1\" class=\"dataframe\">\n",
              "  <thead>\n",
              "    <tr style=\"text-align: right;\">\n",
              "      <th></th>\n",
              "      <th>doc_id</th>\n",
              "      <th>total</th>\n",
              "    </tr>\n",
              "  </thead>\n",
              "  <tbody>\n",
              "    <tr>\n",
              "      <th>0</th>\n",
              "      <td>10</td>\n",
              "      <td>1.0</td>\n",
              "    </tr>\n",
              "    <tr>\n",
              "      <th>1</th>\n",
              "      <td>14</td>\n",
              "      <td>1.0</td>\n",
              "    </tr>\n",
              "    <tr>\n",
              "      <th>2</th>\n",
              "      <td>30</td>\n",
              "      <td>1.0</td>\n",
              "    </tr>\n",
              "  </tbody>\n",
              "</table>\n",
              "</div>\n",
              "      <button class=\"colab-df-convert\" onclick=\"convertToInteractive('df-c734d7e3-0113-44ff-a114-cac8b619fe4d')\"\n",
              "              title=\"Convert this dataframe to an interactive table.\"\n",
              "              style=\"display:none;\">\n",
              "        \n",
              "  <svg xmlns=\"http://www.w3.org/2000/svg\" height=\"24px\"viewBox=\"0 0 24 24\"\n",
              "       width=\"24px\">\n",
              "    <path d=\"M0 0h24v24H0V0z\" fill=\"none\"/>\n",
              "    <path d=\"M18.56 5.44l.94 2.06.94-2.06 2.06-.94-2.06-.94-.94-2.06-.94 2.06-2.06.94zm-11 1L8.5 8.5l.94-2.06 2.06-.94-2.06-.94L8.5 2.5l-.94 2.06-2.06.94zm10 10l.94 2.06.94-2.06 2.06-.94-2.06-.94-.94-2.06-.94 2.06-2.06.94z\"/><path d=\"M17.41 7.96l-1.37-1.37c-.4-.4-.92-.59-1.43-.59-.52 0-1.04.2-1.43.59L10.3 9.45l-7.72 7.72c-.78.78-.78 2.05 0 2.83L4 21.41c.39.39.9.59 1.41.59.51 0 1.02-.2 1.41-.59l7.78-7.78 2.81-2.81c.8-.78.8-2.07 0-2.86zM5.41 20L4 18.59l7.72-7.72 1.47 1.35L5.41 20z\"/>\n",
              "  </svg>\n",
              "      </button>\n",
              "      \n",
              "  <style>\n",
              "    .colab-df-container {\n",
              "      display:flex;\n",
              "      flex-wrap:wrap;\n",
              "      gap: 12px;\n",
              "    }\n",
              "\n",
              "    .colab-df-convert {\n",
              "      background-color: #E8F0FE;\n",
              "      border: none;\n",
              "      border-radius: 50%;\n",
              "      cursor: pointer;\n",
              "      display: none;\n",
              "      fill: #1967D2;\n",
              "      height: 32px;\n",
              "      padding: 0 0 0 0;\n",
              "      width: 32px;\n",
              "    }\n",
              "\n",
              "    .colab-df-convert:hover {\n",
              "      background-color: #E2EBFA;\n",
              "      box-shadow: 0px 1px 2px rgba(60, 64, 67, 0.3), 0px 1px 3px 1px rgba(60, 64, 67, 0.15);\n",
              "      fill: #174EA6;\n",
              "    }\n",
              "\n",
              "    [theme=dark] .colab-df-convert {\n",
              "      background-color: #3B4455;\n",
              "      fill: #D2E3FC;\n",
              "    }\n",
              "\n",
              "    [theme=dark] .colab-df-convert:hover {\n",
              "      background-color: #434B5C;\n",
              "      box-shadow: 0px 1px 3px 1px rgba(0, 0, 0, 0.15);\n",
              "      filter: drop-shadow(0px 1px 2px rgba(0, 0, 0, 0.3));\n",
              "      fill: #FFFFFF;\n",
              "    }\n",
              "  </style>\n",
              "\n",
              "      <script>\n",
              "        const buttonEl =\n",
              "          document.querySelector('#df-c734d7e3-0113-44ff-a114-cac8b619fe4d button.colab-df-convert');\n",
              "        buttonEl.style.display =\n",
              "          google.colab.kernel.accessAllowed ? 'block' : 'none';\n",
              "\n",
              "        async function convertToInteractive(key) {\n",
              "          const element = document.querySelector('#df-c734d7e3-0113-44ff-a114-cac8b619fe4d');\n",
              "          const dataTable =\n",
              "            await google.colab.kernel.invokeFunction('convertToInteractive',\n",
              "                                                     [key], {});\n",
              "          if (!dataTable) return;\n",
              "\n",
              "          const docLinkHtml = 'Like what you see? Visit the ' +\n",
              "            '<a target=\"_blank\" href=https://colab.research.google.com/notebooks/data_table.ipynb>data table notebook</a>'\n",
              "            + ' to learn more about interactive tables.';\n",
              "          element.innerHTML = '';\n",
              "          dataTable['output_type'] = 'display_data';\n",
              "          await google.colab.output.renderOutput(dataTable, element);\n",
              "          const docLink = document.createElement('div');\n",
              "          docLink.innerHTML = docLinkHtml;\n",
              "          element.appendChild(docLink);\n",
              "        }\n",
              "      </script>\n",
              "    </div>\n",
              "  </div>\n",
              "  "
            ]
          },
          "metadata": {},
          "execution_count": 176
        }
      ]
    },
    {
      "cell_type": "code",
      "source": [
        "tfidf_ejemplo=tfidf.loc[tfidf.doc_id==12439].sort_values('tfidf',ascending=False)"
      ],
      "metadata": {
        "id": "1CCMSsTZ_0H5"
      },
      "id": "1CCMSsTZ_0H5",
      "execution_count": 177,
      "outputs": []
    },
    {
      "cell_type": "code",
      "source": [
        "sns.barplot(x='lemma',y='tfidf',data=tfidf_ejemplo)"
      ],
      "metadata": {
        "colab": {
          "base_uri": "https://localhost:8080/",
          "height": 296
        },
        "id": "tBMZv3NKAB2S",
        "outputId": "2dcff794-958a-412a-9460-3a47c097bb66"
      },
      "id": "tBMZv3NKAB2S",
      "execution_count": 178,
      "outputs": [
        {
          "output_type": "execute_result",
          "data": {
            "text/plain": [
              "<AxesSubplot:xlabel='lemma', ylabel='tfidf'>"
            ]
          },
          "metadata": {},
          "execution_count": 178
        },
        {
          "output_type": "display_data",
          "data": {
            "text/plain": [
              "<Figure size 432x288 with 1 Axes>"
            ],
            "image/png": "[encoded data removed]"
          },
          "metadata": {
            "needs_background": "light"
          }
        }
      ]
    },
    {
      "cell_type": "markdown",
      "source": [
        "2. Realizar la nube de palabras para los lemmas del dataset anotado, usando solo VERB, PNOUN, NOUN y ADJ."
      ],
      "metadata": {
        "id": "kTmZVzsX2bfX"
      },
      "id": "kTmZVzsX2bfX"
    },
    {
      "cell_type": "code",
      "source": [
        "# \n",
        "wc =WordCloud().generate(' '.join(tweets_bad_annotated.loc[tweets_bad_annotated.pos.isin(['noun','ADJ']),'lemma']))\n",
        "plt.figure(figsize=(20,20))\n",
        "plt.imshow(wc)\n",
        "plt.axis('off')\n",
        "plt.title('Nube de palabras')\n",
        "plt.show()"
      ],
      "metadata": {
        "id": "HQcn1UQ32bEQ",
        "colab": {
          "base_uri": "https://localhost:8080/",
          "height": 605
        },
        "outputId": "2009673d-f221-45d0-aeca-c37b563f8d98"
      },
      "id": "HQcn1UQ32bEQ",
      "execution_count": 189,
      "outputs": [
        {
          "output_type": "display_data",
          "data": {
            "text/plain": [
              "<Figure size 1440x1440 with 1 Axes>"
            ],
            "image/png": "[encoded data removed]"
          },
          "metadata": {
            "needs_background": "light"
          }
        }
      ]
    },
    {
      "cell_type": "markdown",
      "source": [
        "3. Realizar análisis de sentimientos con BERT. Analiza la polaridad de los scores mayores a 0.3"
      ],
      "metadata": {
        "id": "wv2iWfVd2Gq2"
      },
      "id": "wv2iWfVd2Gq2"
    },
    {
      "cell_type": "code",
      "source": [
        "# La forma mas sencilla es con modelos pre entrenados, BERT de google es el mas famoso\n",
        "classifier = pipeline('sentiment-analysis',model=\"nlptown/bert-base-multilingual-uncased-sentiment\")"
      ],
      "metadata": {
        "id": "r0Y_qsP12GZ2"
      },
      "id": "r0Y_qsP12GZ2",
      "execution_count": 180,
      "outputs": []
    },
    {
      "cell_type": "code",
      "source": [
        "results=classifier(list(tweets_bad.text)[0:100])"
      ],
      "metadata": {
        "id": "MHP8u2wcCc6T"
      },
      "id": "MHP8u2wcCc6T",
      "execution_count": 181,
      "outputs": []
    },
    {
      "cell_type": "code",
      "source": [
        "#Dataset con sentimientos\n",
        "tweets_bad_ejemplos=tweets_bad.iloc[:100]\n",
        "scores=[]\n",
        "polaridad=[]\n",
        "for i in range(len(results)):\n",
        "  scores.append(results[i]['score'])\n",
        "  polaridad.append(results[i]['label'])\n",
        "tweets_bad_ejemplos['score'] = scores\n",
        "tweets_bad_ejemplos['polaridad'] = polaridad"
      ],
      "metadata": {
        "colab": {
          "base_uri": "https://localhost:8080/"
        },
        "id": "ik1pTa2gCkDG",
        "outputId": "360eb531-556e-428a-b198-d3ce586c3bdd"
      },
      "id": "ik1pTa2gCkDG",
      "execution_count": 182,
      "outputs": [
        {
          "output_type": "stream",
          "name": "stderr",
          "text": [
            "<ipython-input-182-78f1512e7e19>:8: SettingWithCopyWarning: \n",
            "A value is trying to be set on a copy of a slice from a DataFrame.\n",
            "Try using .loc[row_indexer,col_indexer] = value instead\n",
            "\n",
            "See the caveats in the documentation: https://pandas.pydata.org/pandas-docs/stable/user_guide/indexing.html#returning-a-view-versus-a-copy\n",
            "  tweets_bad_ejemplos['score'] = scores\n",
            "<ipython-input-182-78f1512e7e19>:9: SettingWithCopyWarning: \n",
            "A value is trying to be set on a copy of a slice from a DataFrame.\n",
            "Try using .loc[row_indexer,col_indexer] = value instead\n",
            "\n",
            "See the caveats in the documentation: https://pandas.pydata.org/pandas-docs/stable/user_guide/indexing.html#returning-a-view-versus-a-copy\n",
            "  tweets_bad_ejemplos['polaridad'] = polaridad\n"
          ]
        }
      ]
    },
    {
      "cell_type": "code",
      "source": [
        "tweets_bad_ejemplos.head()"
      ],
      "metadata": {
        "colab": {
          "base_uri": "https://localhost:8080/",
          "height": 206
        },
        "id": "_lPjqGaRDccF",
        "outputId": "aa113ad7-e332-4dd7-8b17-928993aa5d51"
      },
      "id": "_lPjqGaRDccF",
      "execution_count": 183,
      "outputs": [
        {
          "output_type": "execute_result",
          "data": {
            "text/plain": [
              "   id dataset                                               text  toxicity  \\\n",
              "0  10  callme  All my sons have grown up with computer games ...  0.091025   \n",
              "1  14  scales                Women have more intuition than men.  0.321429   \n",
              "2  30  scales                    Women do not belong in politics  0.451443   \n",
              "3  45  scales   On the average, men are more arrogant than women  0.530905   \n",
              "4  55  scales  A woman will never be truly fulfilled in life ...  0.206631   \n",
              "\n",
              "   sexist  of_id                                     text_tokenized     score  \\\n",
              "0    True     -1  [sons, grown, computer, games, interested, see...  0.389253   \n",
              "1    True     -1                            [women, intuition, men]  0.306082   \n",
              "2    True     -1                          [women, belong, politics]  0.493110   \n",
              "3    True     -1                 [n, average, men, arrogant, women]  0.561756   \n",
              "4    True     -1  [woman, never, truly, fulfilled, life, committ...  0.322988   \n",
              "\n",
              "  polaridad  \n",
              "0   2 stars  \n",
              "1   3 stars  \n",
              "2    1 star  \n",
              "3   3 stars  \n",
              "4    1 star  "
            ],
            "text/html": [
              "\n",
              "  <div id=\"df-4116d111-0d40-4058-acdb-cc29477f42b6\">\n",
              "    <div class=\"colab-df-container\">\n",
              "      <div>\n",
              "<style scoped>\n",
              "    .dataframe tbody tr th:only-of-type {\n",
              "        vertical-align: middle;\n",
              "    }\n",
              "\n",
              "    .dataframe tbody tr th {\n",
              "        vertical-align: top;\n",
              "    }\n",
              "\n",
              "    .dataframe thead th {\n",
              "        text-align: right;\n",
              "    }\n",
              "</style>\n",
              "<table border=\"1\" class=\"dataframe\">\n",
              "  <thead>\n",
              "    <tr style=\"text-align: right;\">\n",
              "      <th></th>\n",
              "      <th>id</th>\n",
              "      <th>dataset</th>\n",
              "      <th>text</th>\n",
              "      <th>toxicity</th>\n",
              "      <th>sexist</th>\n",
              "      <th>of_id</th>\n",
              "      <th>text_tokenized</th>\n",
              "      <th>score</th>\n",
              "      <th>polaridad</th>\n",
              "    </tr>\n",
              "  </thead>\n",
              "  <tbody>\n",
              "    <tr>\n",
              "      <th>0</th>\n",
              "      <td>10</td>\n",
              "      <td>callme</td>\n",
              "      <td>All my sons have grown up with computer games ...</td>\n",
              "      <td>0.091025</td>\n",
              "      <td>True</td>\n",
              "      <td>-1</td>\n",
              "      <td>[sons, grown, computer, games, interested, see...</td>\n",
              "      <td>0.389253</td>\n",
              "      <td>2 stars</td>\n",
              "    </tr>\n",
              "    <tr>\n",
              "      <th>1</th>\n",
              "      <td>14</td>\n",
              "      <td>scales</td>\n",
              "      <td>Women have more intuition than men.</td>\n",
              "      <td>0.321429</td>\n",
              "      <td>True</td>\n",
              "      <td>-1</td>\n",
              "      <td>[women, intuition, men]</td>\n",
              "      <td>0.306082</td>\n",
              "      <td>3 stars</td>\n",
              "    </tr>\n",
              "    <tr>\n",
              "      <th>2</th>\n",
              "      <td>30</td>\n",
              "      <td>scales</td>\n",
              "      <td>Women do not belong in politics</td>\n",
              "      <td>0.451443</td>\n",
              "      <td>True</td>\n",
              "      <td>-1</td>\n",
              "      <td>[women, belong, politics]</td>\n",
              "      <td>0.493110</td>\n",
              "      <td>1 star</td>\n",
              "    </tr>\n",
              "    <tr>\n",
              "      <th>3</th>\n",
              "      <td>45</td>\n",
              "      <td>scales</td>\n",
              "      <td>On the average, men are more arrogant than women</td>\n",
              "      <td>0.530905</td>\n",
              "      <td>True</td>\n",
              "      <td>-1</td>\n",
              "      <td>[n, average, men, arrogant, women]</td>\n",
              "      <td>0.561756</td>\n",
              "      <td>3 stars</td>\n",
              "    </tr>\n",
              "    <tr>\n",
              "      <th>4</th>\n",
              "      <td>55</td>\n",
              "      <td>scales</td>\n",
              "      <td>A woman will never be truly fulfilled in life ...</td>\n",
              "      <td>0.206631</td>\n",
              "      <td>True</td>\n",
              "      <td>-1</td>\n",
              "      <td>[woman, never, truly, fulfilled, life, committ...</td>\n",
              "      <td>0.322988</td>\n",
              "      <td>1 star</td>\n",
              "    </tr>\n",
              "  </tbody>\n",
              "</table>\n",
              "</div>\n",
              "      <button class=\"colab-df-convert\" onclick=\"convertToInteractive('df-4116d111-0d40-4058-acdb-cc29477f42b6')\"\n",
              "              title=\"Convert this dataframe to an interactive table.\"\n",
              "              style=\"display:none;\">\n",
              "        \n",
              "  <svg xmlns=\"http://www.w3.org/2000/svg\" height=\"24px\"viewBox=\"0 0 24 24\"\n",
              "       width=\"24px\">\n",
              "    <path d=\"M0 0h24v24H0V0z\" fill=\"none\"/>\n",
              "    <path d=\"M18.56 5.44l.94 2.06.94-2.06 2.06-.94-2.06-.94-.94-2.06-.94 2.06-2.06.94zm-11 1L8.5 8.5l.94-2.06 2.06-.94-2.06-.94L8.5 2.5l-.94 2.06-2.06.94zm10 10l.94 2.06.94-2.06 2.06-.94-2.06-.94-.94-2.06-.94 2.06-2.06.94z\"/><path d=\"M17.41 7.96l-1.37-1.37c-.4-.4-.92-.59-1.43-.59-.52 0-1.04.2-1.43.59L10.3 9.45l-7.72 7.72c-.78.78-.78 2.05 0 2.83L4 21.41c.39.39.9.59 1.41.59.51 0 1.02-.2 1.41-.59l7.78-7.78 2.81-2.81c.8-.78.8-2.07 0-2.86zM5.41 20L4 18.59l7.72-7.72 1.47 1.35L5.41 20z\"/>\n",
              "  </svg>\n",
              "      </button>\n",
              "      \n",
              "  <style>\n",
              "    .colab-df-container {\n",
              "      display:flex;\n",
              "      flex-wrap:wrap;\n",
              "      gap: 12px;\n",
              "    }\n",
              "\n",
              "    .colab-df-convert {\n",
              "      background-color: #E8F0FE;\n",
              "      border: none;\n",
              "      border-radius: 50%;\n",
              "      cursor: pointer;\n",
              "      display: none;\n",
              "      fill: #1967D2;\n",
              "      height: 32px;\n",
              "      padding: 0 0 0 0;\n",
              "      width: 32px;\n",
              "    }\n",
              "\n",
              "    .colab-df-convert:hover {\n",
              "      background-color: #E2EBFA;\n",
              "      box-shadow: 0px 1px 2px rgba(60, 64, 67, 0.3), 0px 1px 3px 1px rgba(60, 64, 67, 0.15);\n",
              "      fill: #174EA6;\n",
              "    }\n",
              "\n",
              "    [theme=dark] .colab-df-convert {\n",
              "      background-color: #3B4455;\n",
              "      fill: #D2E3FC;\n",
              "    }\n",
              "\n",
              "    [theme=dark] .colab-df-convert:hover {\n",
              "      background-color: #434B5C;\n",
              "      box-shadow: 0px 1px 3px 1px rgba(0, 0, 0, 0.15);\n",
              "      filter: drop-shadow(0px 1px 2px rgba(0, 0, 0, 0.3));\n",
              "      fill: #FFFFFF;\n",
              "    }\n",
              "  </style>\n",
              "\n",
              "      <script>\n",
              "        const buttonEl =\n",
              "          document.querySelector('#df-4116d111-0d40-4058-acdb-cc29477f42b6 button.colab-df-convert');\n",
              "        buttonEl.style.display =\n",
              "          google.colab.kernel.accessAllowed ? 'block' : 'none';\n",
              "\n",
              "        async function convertToInteractive(key) {\n",
              "          const element = document.querySelector('#df-4116d111-0d40-4058-acdb-cc29477f42b6');\n",
              "          const dataTable =\n",
              "            await google.colab.kernel.invokeFunction('convertToInteractive',\n",
              "                                                     [key], {});\n",
              "          if (!dataTable) return;\n",
              "\n",
              "          const docLinkHtml = 'Like what you see? Visit the ' +\n",
              "            '<a target=\"_blank\" href=https://colab.research.google.com/notebooks/data_table.ipynb>data table notebook</a>'\n",
              "            + ' to learn more about interactive tables.';\n",
              "          element.innerHTML = '';\n",
              "          dataTable['output_type'] = 'display_data';\n",
              "          await google.colab.output.renderOutput(dataTable, element);\n",
              "          const docLink = document.createElement('div');\n",
              "          docLink.innerHTML = docLinkHtml;\n",
              "          element.appendChild(docLink);\n",
              "        }\n",
              "      </script>\n",
              "    </div>\n",
              "  </div>\n",
              "  "
            ]
          },
          "metadata": {},
          "execution_count": 183
        }
      ]
    },
    {
      "cell_type": "code",
      "source": [
        "tweets_bad_ejemplos.loc[tweets_bad_ejemplos.score>0.4,['text','polaridad']]"
      ],
      "metadata": {
        "colab": {
          "base_uri": "https://localhost:8080/",
          "height": 1000
        },
        "id": "Ui9TXW9_D90U",
        "outputId": "09441feb-ea87-48b6-e9a6-573344de3b48"
      },
      "id": "Ui9TXW9_D90U",
      "execution_count": 184,
      "outputs": [
        {
          "output_type": "execute_result",
          "data": {
            "text/plain": [
              "                                                 text polaridad\n",
              "2                     Women do not belong in politics    1 star\n",
              "3    On the average, men are more arrogant than women   3 stars\n",
              "7   A female can't tell me nothing bout sports. So...    1 star\n",
              "10  RT MENTION2783 MENTION3161 I'm not sexist but ...    1 star\n",
              "14  Ever consider they're not FOR you and no one c...    1 star\n",
              "15  MENTION3569 MENTION487: I'm not sexist but fuc...    1 star\n",
              "16  “She’s so beautiful she’s so precious,” he sai...   5 stars\n",
              "17  RT MENTION1004 Go ahead and call me sexist but...    1 star\n",
              "18  MENTION1059 I have only ever seen female OBGYN...    1 star\n",
              "19                  Men want power more than women do   5 stars\n",
              "24  Withholding favors is on of the primary ways w...   4 stars\n",
              "25  MENTION1342 No one watches women’s basketball ...    1 star\n",
              "26         Every woman ought to have a man she adores   5 stars\n",
              "34  When a woman is on her period, she cannot conc...   2 stars\n",
              "35  In alighting from an automobile, the most desi...   4 stars\n",
              "36  MENTION3227 MENTION269 its a very good point. ...   4 stars\n",
              "37  For real. Asking a woman to move smh!! naw no ...    1 star\n",
              "39  In choosing a husband, a woman will do well to...   4 stars\n",
              "40  On the average, women should be regarded as le...   3 stars\n",
              "43  As head of the household, the father should fi...   4 stars\n",
              "44  A man’s main responsibility to his children is...   4 stars\n",
              "46  RT MENTION468 I wouldn't mind a stay at home w...    1 star\n",
              "47  Many of those in women’s rights organizations ...    1 star\n",
              "50  A normal man should be wary of a woman who tak...   3 stars\n",
              "53  The idea of young girls participating in littl...    1 star\n",
              "54  MENTION2841 cricket is ok with elders talking ...   3 stars\n",
              "55  Women will make more progress by being patient...   4 stars\n",
              "56  MENTION755 lol something about a guy who takes...    1 star\n",
              "57  I hate female cops they be taking they job 2 s...    1 star\n",
              "59  I can't take a female rapper serious when she ...    1 star\n",
              "61  This is not sexist... But I CANNOT handle wome...    1 star\n",
              "62  MENTION3785 boggle eyes but loved her voice - ...   3 stars\n",
              "63  girls shouldn't speak unless they are spoken t...    1 star\n",
              "64  If you have boobs and you play cod you are aut...    1 star\n",
              "71  Our society says it's sexist to pay for a girl...    1 star\n",
              "72  People being sexist is wrong\\nAnd only women a...    1 star\n",
              "74  \"Radical\"? lol no MENTION1643 Call me sexist. ...    1 star\n",
              "76  It is alright for a woman to work, but breadwi...   3 stars\n",
              "78          I do not like female engineering teachers   2 stars\n",
              "79  10-to-1 odds this guy faints after one punch M...    1 star\n",
              "81  Dont even get me started on females man. Im no...   2 stars\n",
              "82  It is generally better to have a man at the he...   3 stars\n",
              "84  Taking care of kids, cooking food, doing dishe...   4 stars\n",
              "85  Training for cultural and political leadership...   3 stars\n",
              "89  A man should avoid holding his wife’s purse at...    1 star\n",
              "92  No offence to anyone but women are poor driver...    1 star\n",
              "94  A good woman should be set on a pedestal by he...   4 stars\n",
              "95                      no female is cutting my hair.    1 star\n",
              "96  RT MENTION1122 I really don't like when women ...   2 stars"
            ],
            "text/html": [
              "\n",
              "  <div id=\"df-6e42f678-1265-43a4-85e9-8ceb455adaf9\">\n",
              "    <div class=\"colab-df-container\">\n",
              "      <div>\n",
              "<style scoped>\n",
              "    .dataframe tbody tr th:only-of-type {\n",
              "        vertical-align: middle;\n",
              "    }\n",
              "\n",
              "    .dataframe tbody tr th {\n",
              "        vertical-align: top;\n",
              "    }\n",
              "\n",
              "    .dataframe thead th {\n",
              "        text-align: right;\n",
              "    }\n",
              "</style>\n",
              "<table border=\"1\" class=\"dataframe\">\n",
              "  <thead>\n",
              "    <tr style=\"text-align: right;\">\n",
              "      <th></th>\n",
              "      <th>text</th>\n",
              "      <th>polaridad</th>\n",
              "    </tr>\n",
              "  </thead>\n",
              "  <tbody>\n",
              "    <tr>\n",
              "      <th>2</th>\n",
              "      <td>Women do not belong in politics</td>\n",
              "      <td>1 star</td>\n",
              "    </tr>\n",
              "    <tr>\n",
              "      <th>3</th>\n",
              "      <td>On the average, men are more arrogant than women</td>\n",
              "      <td>3 stars</td>\n",
              "    </tr>\n",
              "    <tr>\n",
              "      <th>7</th>\n",
              "      <td>A female can't tell me nothing bout sports. So...</td>\n",
              "      <td>1 star</td>\n",
              "    </tr>\n",
              "    <tr>\n",
              "      <th>10</th>\n",
              "      <td>RT MENTION2783 MENTION3161 I'm not sexist but ...</td>\n",
              "      <td>1 star</td>\n",
              "    </tr>\n",
              "    <tr>\n",
              "      <th>14</th>\n",
              "      <td>Ever consider they're not FOR you and no one c...</td>\n",
              "      <td>1 star</td>\n",
              "    </tr>\n",
              "    <tr>\n",
              "      <th>15</th>\n",
              "      <td>MENTION3569 MENTION487: I'm not sexist but fuc...</td>\n",
              "      <td>1 star</td>\n",
              "    </tr>\n",
              "    <tr>\n",
              "      <th>16</th>\n",
              "      <td>“She’s so beautiful she’s so precious,” he sai...</td>\n",
              "      <td>5 stars</td>\n",
              "    </tr>\n",
              "    <tr>\n",
              "      <th>17</th>\n",
              "      <td>RT MENTION1004 Go ahead and call me sexist but...</td>\n",
              "      <td>1 star</td>\n",
              "    </tr>\n",
              "    <tr>\n",
              "      <th>18</th>\n",
              "      <td>MENTION1059 I have only ever seen female OBGYN...</td>\n",
              "      <td>1 star</td>\n",
              "    </tr>\n",
              "    <tr>\n",
              "      <th>19</th>\n",
              "      <td>Men want power more than women do</td>\n",
              "      <td>5 stars</td>\n",
              "    </tr>\n",
              "    <tr>\n",
              "      <th>24</th>\n",
              "      <td>Withholding favors is on of the primary ways w...</td>\n",
              "      <td>4 stars</td>\n",
              "    </tr>\n",
              "    <tr>\n",
              "      <th>25</th>\n",
              "      <td>MENTION1342 No one watches women’s basketball ...</td>\n",
              "      <td>1 star</td>\n",
              "    </tr>\n",
              "    <tr>\n",
              "      <th>26</th>\n",
              "      <td>Every woman ought to have a man she adores</td>\n",
              "      <td>5 stars</td>\n",
              "    </tr>\n",
              "    <tr>\n",
              "      <th>34</th>\n",
              "      <td>When a woman is on her period, she cannot conc...</td>\n",
              "      <td>2 stars</td>\n",
              "    </tr>\n",
              "    <tr>\n",
              "      <th>35</th>\n",
              "      <td>In alighting from an automobile, the most desi...</td>\n",
              "      <td>4 stars</td>\n",
              "    </tr>\n",
              "    <tr>\n",
              "      <th>36</th>\n",
              "      <td>MENTION3227 MENTION269 its a very good point. ...</td>\n",
              "      <td>4 stars</td>\n",
              "    </tr>\n",
              "    <tr>\n",
              "      <th>37</th>\n",
              "      <td>For real. Asking a woman to move smh!! naw no ...</td>\n",
              "      <td>1 star</td>\n",
              "    </tr>\n",
              "    <tr>\n",
              "      <th>39</th>\n",
              "      <td>In choosing a husband, a woman will do well to...</td>\n",
              "      <td>4 stars</td>\n",
              "    </tr>\n",
              "    <tr>\n",
              "      <th>40</th>\n",
              "      <td>On the average, women should be regarded as le...</td>\n",
              "      <td>3 stars</td>\n",
              "    </tr>\n",
              "    <tr>\n",
              "      <th>43</th>\n",
              "      <td>As head of the household, the father should fi...</td>\n",
              "      <td>4 stars</td>\n",
              "    </tr>\n",
              "    <tr>\n",
              "      <th>44</th>\n",
              "      <td>A man’s main responsibility to his children is...</td>\n",
              "      <td>4 stars</td>\n",
              "    </tr>\n",
              "    <tr>\n",
              "      <th>46</th>\n",
              "      <td>RT MENTION468 I wouldn't mind a stay at home w...</td>\n",
              "      <td>1 star</td>\n",
              "    </tr>\n",
              "    <tr>\n",
              "      <th>47</th>\n",
              "      <td>Many of those in women’s rights organizations ...</td>\n",
              "      <td>1 star</td>\n",
              "    </tr>\n",
              "    <tr>\n",
              "      <th>50</th>\n",
              "      <td>A normal man should be wary of a woman who tak...</td>\n",
              "      <td>3 stars</td>\n",
              "    </tr>\n",
              "    <tr>\n",
              "      <th>53</th>\n",
              "      <td>The idea of young girls participating in littl...</td>\n",
              "      <td>1 star</td>\n",
              "    </tr>\n",
              "    <tr>\n",
              "      <th>54</th>\n",
              "      <td>MENTION2841 cricket is ok with elders talking ...</td>\n",
              "      <td>3 stars</td>\n",
              "    </tr>\n",
              "    <tr>\n",
              "      <th>55</th>\n",
              "      <td>Women will make more progress by being patient...</td>\n",
              "      <td>4 stars</td>\n",
              "    </tr>\n",
              "    <tr>\n",
              "      <th>56</th>\n",
              "      <td>MENTION755 lol something about a guy who takes...</td>\n",
              "      <td>1 star</td>\n",
              "    </tr>\n",
              "    <tr>\n",
              "      <th>57</th>\n",
              "      <td>I hate female cops they be taking they job 2 s...</td>\n",
              "      <td>1 star</td>\n",
              "    </tr>\n",
              "    <tr>\n",
              "      <th>59</th>\n",
              "      <td>I can't take a female rapper serious when she ...</td>\n",
              "      <td>1 star</td>\n",
              "    </tr>\n",
              "    <tr>\n",
              "      <th>61</th>\n",
              "      <td>This is not sexist... But I CANNOT handle wome...</td>\n",
              "      <td>1 star</td>\n",
              "    </tr>\n",
              "    <tr>\n",
              "      <th>62</th>\n",
              "      <td>MENTION3785 boggle eyes but loved her voice - ...</td>\n",
              "      <td>3 stars</td>\n",
              "    </tr>\n",
              "    <tr>\n",
              "      <th>63</th>\n",
              "      <td>girls shouldn't speak unless they are spoken t...</td>\n",
              "      <td>1 star</td>\n",
              "    </tr>\n",
              "    <tr>\n",
              "      <th>64</th>\n",
              "      <td>If you have boobs and you play cod you are aut...</td>\n",
              "      <td>1 star</td>\n",
              "    </tr>\n",
              "    <tr>\n",
              "      <th>71</th>\n",
              "      <td>Our society says it's sexist to pay for a girl...</td>\n",
              "      <td>1 star</td>\n",
              "    </tr>\n",
              "    <tr>\n",
              "      <th>72</th>\n",
              "      <td>People being sexist is wrong\\nAnd only women a...</td>\n",
              "      <td>1 star</td>\n",
              "    </tr>\n",
              "    <tr>\n",
              "      <th>74</th>\n",
              "      <td>\"Radical\"? lol no MENTION1643 Call me sexist. ...</td>\n",
              "      <td>1 star</td>\n",
              "    </tr>\n",
              "    <tr>\n",
              "      <th>76</th>\n",
              "      <td>It is alright for a woman to work, but breadwi...</td>\n",
              "      <td>3 stars</td>\n",
              "    </tr>\n",
              "    <tr>\n",
              "      <th>78</th>\n",
              "      <td>I do not like female engineering teachers</td>\n",
              "      <td>2 stars</td>\n",
              "    </tr>\n",
              "    <tr>\n",
              "      <th>79</th>\n",
              "      <td>10-to-1 odds this guy faints after one punch M...</td>\n",
              "      <td>1 star</td>\n",
              "    </tr>\n",
              "    <tr>\n",
              "      <th>81</th>\n",
              "      <td>Dont even get me started on females man. Im no...</td>\n",
              "      <td>2 stars</td>\n",
              "    </tr>\n",
              "    <tr>\n",
              "      <th>82</th>\n",
              "      <td>It is generally better to have a man at the he...</td>\n",
              "      <td>3 stars</td>\n",
              "    </tr>\n",
              "    <tr>\n",
              "      <th>84</th>\n",
              "      <td>Taking care of kids, cooking food, doing dishe...</td>\n",
              "      <td>4 stars</td>\n",
              "    </tr>\n",
              "    <tr>\n",
              "      <th>85</th>\n",
              "      <td>Training for cultural and political leadership...</td>\n",
              "      <td>3 stars</td>\n",
              "    </tr>\n",
              "    <tr>\n",
              "      <th>89</th>\n",
              "      <td>A man should avoid holding his wife’s purse at...</td>\n",
              "      <td>1 star</td>\n",
              "    </tr>\n",
              "    <tr>\n",
              "      <th>92</th>\n",
              "      <td>No offence to anyone but women are poor driver...</td>\n",
              "      <td>1 star</td>\n",
              "    </tr>\n",
              "    <tr>\n",
              "      <th>94</th>\n",
              "      <td>A good woman should be set on a pedestal by he...</td>\n",
              "      <td>4 stars</td>\n",
              "    </tr>\n",
              "    <tr>\n",
              "      <th>95</th>\n",
              "      <td>no female is cutting my hair.</td>\n",
              "      <td>1 star</td>\n",
              "    </tr>\n",
              "    <tr>\n",
              "      <th>96</th>\n",
              "      <td>RT MENTION1122 I really don't like when women ...</td>\n",
              "      <td>2 stars</td>\n",
              "    </tr>\n",
              "  </tbody>\n",
              "</table>\n",
              "</div>\n",
              "      <button class=\"colab-df-convert\" onclick=\"convertToInteractive('df-6e42f678-1265-43a4-85e9-8ceb455adaf9')\"\n",
              "              title=\"Convert this dataframe to an interactive table.\"\n",
              "              style=\"display:none;\">\n",
              "        \n",
              "  <svg xmlns=\"http://www.w3.org/2000/svg\" height=\"24px\"viewBox=\"0 0 24 24\"\n",
              "       width=\"24px\">\n",
              "    <path d=\"M0 0h24v24H0V0z\" fill=\"none\"/>\n",
              "    <path d=\"M18.56 5.44l.94 2.06.94-2.06 2.06-.94-2.06-.94-.94-2.06-.94 2.06-2.06.94zm-11 1L8.5 8.5l.94-2.06 2.06-.94-2.06-.94L8.5 2.5l-.94 2.06-2.06.94zm10 10l.94 2.06.94-2.06 2.06-.94-2.06-.94-.94-2.06-.94 2.06-2.06.94z\"/><path d=\"M17.41 7.96l-1.37-1.37c-.4-.4-.92-.59-1.43-.59-.52 0-1.04.2-1.43.59L10.3 9.45l-7.72 7.72c-.78.78-.78 2.05 0 2.83L4 21.41c.39.39.9.59 1.41.59.51 0 1.02-.2 1.41-.59l7.78-7.78 2.81-2.81c.8-.78.8-2.07 0-2.86zM5.41 20L4 18.59l7.72-7.72 1.47 1.35L5.41 20z\"/>\n",
              "  </svg>\n",
              "      </button>\n",
              "      \n",
              "  <style>\n",
              "    .colab-df-container {\n",
              "      display:flex;\n",
              "      flex-wrap:wrap;\n",
              "      gap: 12px;\n",
              "    }\n",
              "\n",
              "    .colab-df-convert {\n",
              "      background-color: #E8F0FE;\n",
              "      border: none;\n",
              "      border-radius: 50%;\n",
              "      cursor: pointer;\n",
              "      display: none;\n",
              "      fill: #1967D2;\n",
              "      height: 32px;\n",
              "      padding: 0 0 0 0;\n",
              "      width: 32px;\n",
              "    }\n",
              "\n",
              "    .colab-df-convert:hover {\n",
              "      background-color: #E2EBFA;\n",
              "      box-shadow: 0px 1px 2px rgba(60, 64, 67, 0.3), 0px 1px 3px 1px rgba(60, 64, 67, 0.15);\n",
              "      fill: #174EA6;\n",
              "    }\n",
              "\n",
              "    [theme=dark] .colab-df-convert {\n",
              "      background-color: #3B4455;\n",
              "      fill: #D2E3FC;\n",
              "    }\n",
              "\n",
              "    [theme=dark] .colab-df-convert:hover {\n",
              "      background-color: #434B5C;\n",
              "      box-shadow: 0px 1px 3px 1px rgba(0, 0, 0, 0.15);\n",
              "      filter: drop-shadow(0px 1px 2px rgba(0, 0, 0, 0.3));\n",
              "      fill: #FFFFFF;\n",
              "    }\n",
              "  </style>\n",
              "\n",
              "      <script>\n",
              "        const buttonEl =\n",
              "          document.querySelector('#df-6e42f678-1265-43a4-85e9-8ceb455adaf9 button.colab-df-convert');\n",
              "        buttonEl.style.display =\n",
              "          google.colab.kernel.accessAllowed ? 'block' : 'none';\n",
              "\n",
              "        async function convertToInteractive(key) {\n",
              "          const element = document.querySelector('#df-6e42f678-1265-43a4-85e9-8ceb455adaf9');\n",
              "          const dataTable =\n",
              "            await google.colab.kernel.invokeFunction('convertToInteractive',\n",
              "                                                     [key], {});\n",
              "          if (!dataTable) return;\n",
              "\n",
              "          const docLinkHtml = 'Like what you see? Visit the ' +\n",
              "            '<a target=\"_blank\" href=https://colab.research.google.com/notebooks/data_table.ipynb>data table notebook</a>'\n",
              "            + ' to learn more about interactive tables.';\n",
              "          element.innerHTML = '';\n",
              "          dataTable['output_type'] = 'display_data';\n",
              "          await google.colab.output.renderOutput(dataTable, element);\n",
              "          const docLink = document.createElement('div');\n",
              "          docLink.innerHTML = docLinkHtml;\n",
              "          element.appendChild(docLink);\n",
              "        }\n",
              "      </script>\n",
              "    </div>\n",
              "  </div>\n",
              "  "
            ]
          },
          "metadata": {},
          "execution_count": 184
        }
      ]
    },
    {
      "cell_type": "code",
      "source": [
        "tweets_bad_ejemplos.text[50]"
      ],
      "metadata": {
        "colab": {
          "base_uri": "https://localhost:8080/",
          "height": 35
        },
        "id": "a08p-tHtRexf",
        "outputId": "2847c5e5-d59d-43f6-da14-20ea421d7651"
      },
      "id": "a08p-tHtRexf",
      "execution_count": 188,
      "outputs": [
        {
          "output_type": "execute_result",
          "data": {
            "text/plain": [
              "'A normal man should be wary of a woman who takes the initiative in courtship even though he may be very attracted to her'"
            ],
            "application/vnd.google.colaboratory.intrinsic+json": {
              "type": "string"
            }
          },
          "metadata": {},
          "execution_count": 188
        }
      ]
    },
    {
      "cell_type": "code",
      "source": [],
      "metadata": {
        "id": "WWNFJrlyUZ_8"
      },
      "id": "WWNFJrlyUZ_8",
      "execution_count": null,
      "outputs": []
    }
  ]
}